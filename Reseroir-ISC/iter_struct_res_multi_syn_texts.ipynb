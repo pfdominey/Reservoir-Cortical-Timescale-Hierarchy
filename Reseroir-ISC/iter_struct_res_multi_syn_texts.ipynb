{
 "cells": [
  {
   "cell_type": "code",
   "execution_count": 1,
   "metadata": {},
   "outputs": [
    {
     "name": "stdout",
     "output_type": "stream",
     "text": [
      "shuffled\n"
     ]
    }
   ],
   "source": [
    "mod_input=True\n",
    "mod_topo=True\n",
    "leak_rate = 0.2\n",
    "gradient= 0.00075# 0.0005\n",
    "gain = 1.75\n",
    "radical=False\n",
    "radical_bis=False\n",
    "grad2=1.25\n",
    "breadth=600\n",
    "expon=3\n",
    "\n",
    "remove_stop_words = False\n",
    "do_shuffle = True\n",
    "\n",
    "\n",
    "if do_shuffle:\n",
    "    intact_status_txt = \"shuffled\"\n",
    "else:\n",
    "    intact_status_txt = \"intact\"\n",
    "\n",
    "print(intact_status_txt)\n",
    "# baseline with slow leak rate"
   ]
  },
  {
   "cell_type": "code",
   "execution_count": 2,
   "metadata": {},
   "outputs": [],
   "source": [
    "import os\n",
    "create_directories = False\n",
    "if create_directories:\n",
    "    os.mkdir(\"multi_syn_txt_data\")               #main dir\n",
    "\n",
    "    for nar_text in range(0,8):\n",
    "        os.mkdir(\"multi_syn_txt_data/syn_nar_%d\" % (nar_text))               #main dir\n",
    "        os.mkdir(\"multi_syn_txt_data/syn_nar_%d/intact\" % (nar_text))        #intact subdir\n",
    "        os.mkdir(\"multi_syn_txt_data/syn_nar_%d/intact/data\" % (nar_text))\n",
    "        os.mkdir(\"multi_syn_txt_data/syn_nar_%d/intact/figures\" % (nar_text))\n",
    "        os.mkdir(\"multi_syn_txt_data/syn_nar_%d/shuffled\" % (nar_text))        #intact subdir\n",
    "        os.mkdir(\"multi_syn_txt_data/syn_nar_%d/shuffled/data\" % (nar_text))\n",
    "        os.mkdir(\"multi_syn_txt_data/syn_nar_%d/shuffled/figures\" % (nar_text))\n",
    "   \n"
   ]
  },
  {
   "cell_type": "code",
   "execution_count": 3,
   "metadata": {},
   "outputs": [],
   "source": [
    "import matplotlib.pyplot as plt\n",
    "import matplotlib.gridspec as gridspec\n",
    "import pylab\n",
    "import statsmodels.api as sm\n",
    "\n",
    "import seaborn as sns\n",
    "\n",
    "import csv\n",
    "\n",
    "import scipy\n",
    "from scipy import stats\n",
    "from scipy.ndimage import gaussian_filter1d\n",
    "\n",
    "import random\n"
   ]
  },
  {
   "cell_type": "code",
   "execution_count": 4,
   "metadata": {
    "scrolled": true
   },
   "outputs": [
    {
     "name": "stderr",
     "output_type": "stream",
     "text": [
      "Using Numpy backend.\n"
     ]
    }
   ],
   "source": [
    "#import cupy as cp\n",
    "from easyesn.optimizers import GradientOptimizer\n",
    "from easyesn import PredictionESN\n",
    "from easyesn.optimizers import GridSearchOptimizer\n",
    "from easyesn import helper as hlp\n",
    "import numpy as np\n",
    "from wikipedia2vec import Wikipedia2Vec\n",
    "\n",
    "\n",
    "\n",
    "vectorDim = 100\n",
    "\n",
    "numNode = 1000\n",
    "\n",
    "#inputDataTraining = np.load('./trainingData_averaging/inputDataTraining_4k_average.npy')\n",
    "#outputDataTraining = np.load('./trainingData_averaging/outputDataTraining_4k_average.npy')\n",
    "#print(len(inputDataTraining))\n",
    "#print(len(outputDataTraining))"
   ]
  },
  {
   "cell_type": "code",
   "execution_count": 5,
   "metadata": {},
   "outputs": [
    {
     "name": "stdout",
     "output_type": "stream",
     "text": [
      "10000\n",
      "10000\n"
     ]
    }
   ],
   "source": [
    "#reservoirStatesBuffer[:,:resn]\n",
    "\n",
    "#in_small = inputDataTraining[:10000]\n",
    "#out_small = outputDataTraining[:10000]\n",
    "\n",
    "\n",
    "#np.save('in_small.npy', in_small)\n",
    "#np.save('out_small.npy', out_small)\n",
    "\n",
    "in_small = np.load('C:/Users/PeterDell/Google Drive/GoogleWIP/People/Uchida/PaperMethods/UchidaPrograms/in_small.npy')\n",
    "out_small = np.load('C:/Users/PeterDell/Google Drive/GoogleWIP/People/Uchida/PaperMethods/UchidaPrograms/out_small.npy')\n",
    "\n",
    "print(len(in_small))\n",
    "print(len(out_small))"
   ]
  },
  {
   "cell_type": "code",
   "execution_count": 6,
   "metadata": {},
   "outputs": [],
   "source": [
    "temp_W=np.zeros([1000,1000])"
   ]
  },
  {
   "cell_type": "code",
   "execution_count": 7,
   "metadata": {},
   "outputs": [
    {
     "name": "stdout",
     "output_type": "stream",
     "text": [
      "syn_nar_texts/syn_narr_0.npy\n",
      "(2029, 100)\n",
      "[  87  222  252  396  524  646  687  712  805  907 1009 1178 1292 1352\n",
      " 1519 1561 1663 1817 1925]\n",
      "syn_nar_texts/syn_narr_1.npy\n",
      "(1834, 100)\n",
      "[ 124  266  312  456  489  565  693  734  844  912 1069 1213 1280 1444\n",
      " 1470 1495 1584 1666 1712]\n",
      "syn_nar_texts/syn_narr_2.npy\n",
      "(2087, 100)\n",
      "[  43   78  223  379  542  674  785  944  993 1137 1307 1359 1424 1531\n",
      " 1625 1748 1779 1828 1978]\n",
      "syn_nar_texts/syn_narr_3.npy\n",
      "(2068, 100)\n",
      "[ 149  225  260  341  411  566  647  704  807  874 1001 1175 1285 1404\n",
      " 1547 1624 1745 1879 1980]\n",
      "syn_nar_texts/syn_narr_4.npy\n",
      "(1813, 100)\n",
      "[  88  114  200  295  422  507  542  665  778  885 1054 1181 1259 1349\n",
      " 1437 1532 1601 1640 1750]\n",
      "syn_nar_texts/syn_narr_5.npy\n",
      "(2227, 100)\n",
      "[ 161  284  457  530  684  821  880  967 1002 1174 1295 1452 1497 1547\n",
      " 1710 1884 2052 2120 2200]\n",
      "syn_nar_texts/syn_narr_6.npy\n",
      "(1753, 100)\n",
      "[  82  156  273  345  445  484  617  666  733  830  884 1052 1095 1133\n",
      " 1222 1271 1342 1516 1591]\n",
      "syn_nar_texts/syn_narr_7.npy\n",
      "(1774, 100)\n",
      "[ 145  228  335  374  446  519  577  606  761  788  839  956 1100 1158\n",
      " 1195 1347 1436 1473 1616]\n"
     ]
    }
   ],
   "source": [
    "for nar_text in range(0,8):\n",
    "    current_file = \"syn_nar_texts/syn_narr_%d.npy\" % (nar_text)\n",
    "    print(current_file)\n",
    "    inputDataTesting=np.load(current_file)\n",
    "    print(inputDataTesting.shape)\n",
    "    current_file = \"syn_nar_texts/syn_narr_gt_%d.npy\" % (nar_text)\n",
    "    ground_truth_sums = np.load(current_file)\n",
    "    print(ground_truth_sums)"
   ]
  },
  {
   "cell_type": "code",
   "execution_count": 8,
   "metadata": {},
   "outputs": [
    {
     "name": "stdout",
     "output_type": "stream",
     "text": [
      "syn_nar_texts/syn_narr_5.npy\n",
      "(2227, 100)\n",
      "[ 161  284  457  530  684  821  880  967 1002 1174 1295 1452 1497 1547\n",
      " 1710 1884 2052 2120 2200]\n"
     ]
    },
    {
     "name": "stderr",
     "output_type": "stream",
     "text": [
      "100% (9904 of 9904) |####################| Elapsed Time: 0:00:05 Time:  0:00:05\n"
     ]
    },
    {
     "name": "stdout",
     "output_type": "stream",
     "text": [
      "(2227, 1101)\n",
      "(2227, 1000)\n",
      "(2227, 100)\n",
      "1000\n",
      "saving file multi_syn_txt_data/syn_nar_5/shuffled/data/syn_nar_5_shuffled_0.npy\n"
     ]
    },
    {
     "name": "stderr",
     "output_type": "stream",
     "text": [
      "100% (9906 of 9906) |####################| Elapsed Time: 0:00:06 Time:  0:00:06\n"
     ]
    },
    {
     "name": "stdout",
     "output_type": "stream",
     "text": [
      "(2227, 1101)\n",
      "(2227, 1000)\n",
      "(2227, 100)\n",
      "1000\n",
      "saving file multi_syn_txt_data/syn_nar_5/shuffled/data/syn_nar_5_shuffled_1.npy\n"
     ]
    },
    {
     "name": "stderr",
     "output_type": "stream",
     "text": [
      "100% (9902 of 9902) |####################| Elapsed Time: 0:00:06 Time:  0:00:06\n"
     ]
    },
    {
     "name": "stdout",
     "output_type": "stream",
     "text": [
      "(2227, 1101)\n",
      "(2227, 1000)\n",
      "(2227, 100)\n",
      "1000\n",
      "saving file multi_syn_txt_data/syn_nar_5/shuffled/data/syn_nar_5_shuffled_2.npy\n"
     ]
    },
    {
     "name": "stderr",
     "output_type": "stream",
     "text": [
      "100% (9906 of 9906) |####################| Elapsed Time: 0:00:06 Time:  0:00:06\n"
     ]
    },
    {
     "name": "stdout",
     "output_type": "stream",
     "text": [
      "(2227, 1101)\n",
      "(2227, 1000)\n",
      "(2227, 100)\n",
      "1000\n",
      "saving file multi_syn_txt_data/syn_nar_5/shuffled/data/syn_nar_5_shuffled_3.npy\n"
     ]
    },
    {
     "name": "stderr",
     "output_type": "stream",
     "text": [
      "100% (9903 of 9903) |####################| Elapsed Time: 0:00:06 Time:  0:00:06\n"
     ]
    },
    {
     "name": "stdout",
     "output_type": "stream",
     "text": [
      "(2227, 1101)\n",
      "(2227, 1000)\n",
      "(2227, 100)\n",
      "1000\n",
      "saving file multi_syn_txt_data/syn_nar_5/shuffled/data/syn_nar_5_shuffled_4.npy\n"
     ]
    },
    {
     "name": "stderr",
     "output_type": "stream",
     "text": [
      "100% (9908 of 9908) |####################| Elapsed Time: 0:00:07 Time:  0:00:07\n"
     ]
    },
    {
     "name": "stdout",
     "output_type": "stream",
     "text": [
      "(2227, 1101)\n",
      "(2227, 1000)\n",
      "(2227, 100)\n",
      "1000\n",
      "saving file multi_syn_txt_data/syn_nar_5/shuffled/data/syn_nar_5_shuffled_5.npy\n"
     ]
    },
    {
     "name": "stderr",
     "output_type": "stream",
     "text": [
      "100% (9905 of 9905) |####################| Elapsed Time: 0:00:07 Time:  0:00:07\n"
     ]
    },
    {
     "name": "stdout",
     "output_type": "stream",
     "text": [
      "(2227, 1101)\n",
      "(2227, 1000)\n",
      "(2227, 100)\n",
      "1000\n",
      "saving file multi_syn_txt_data/syn_nar_5/shuffled/data/syn_nar_5_shuffled_6.npy\n"
     ]
    },
    {
     "name": "stderr",
     "output_type": "stream",
     "text": [
      "100% (9903 of 9903) |####################| Elapsed Time: 0:00:07 Time:  0:00:07\n"
     ]
    },
    {
     "name": "stdout",
     "output_type": "stream",
     "text": [
      "(2227, 1101)\n",
      "(2227, 1000)\n",
      "(2227, 100)\n",
      "1000\n",
      "saving file multi_syn_txt_data/syn_nar_5/shuffled/data/syn_nar_5_shuffled_7.npy\n"
     ]
    },
    {
     "name": "stderr",
     "output_type": "stream",
     "text": [
      "100% (9901 of 9901) |####################| Elapsed Time: 0:00:07 Time:  0:00:07\n"
     ]
    },
    {
     "name": "stdout",
     "output_type": "stream",
     "text": [
      "(2227, 1101)\n",
      "(2227, 1000)\n",
      "(2227, 100)\n",
      "1000\n",
      "saving file multi_syn_txt_data/syn_nar_5/shuffled/data/syn_nar_5_shuffled_8.npy\n"
     ]
    },
    {
     "name": "stderr",
     "output_type": "stream",
     "text": [
      "100% (9910 of 9910) |####################| Elapsed Time: 0:00:08 Time:  0:00:08\n"
     ]
    },
    {
     "name": "stdout",
     "output_type": "stream",
     "text": [
      "(2227, 1101)\n",
      "(2227, 1000)\n",
      "(2227, 100)\n",
      "1000\n",
      "saving file multi_syn_txt_data/syn_nar_5/shuffled/data/syn_nar_5_shuffled_9.npy\n"
     ]
    },
    {
     "name": "stderr",
     "output_type": "stream",
     "text": [
      "100% (9899 of 9899) |####################| Elapsed Time: 0:00:15 Time:  0:00:15\n"
     ]
    },
    {
     "name": "stdout",
     "output_type": "stream",
     "text": [
      "(2227, 1101)\n",
      "(2227, 1000)\n",
      "(2227, 100)\n",
      "1000\n",
      "saving file multi_syn_txt_data/syn_nar_5/shuffled/data/syn_nar_5_shuffled_10.npy\n"
     ]
    },
    {
     "name": "stderr",
     "output_type": "stream",
     "text": [
      "100% (9906 of 9906) |####################| Elapsed Time: 0:00:10 Time:  0:00:10\n"
     ]
    },
    {
     "name": "stdout",
     "output_type": "stream",
     "text": [
      "(2227, 1101)\n",
      "(2227, 1000)\n",
      "(2227, 100)\n",
      "1000\n",
      "saving file multi_syn_txt_data/syn_nar_5/shuffled/data/syn_nar_5_shuffled_11.npy\n"
     ]
    },
    {
     "name": "stderr",
     "output_type": "stream",
     "text": [
      "100% (9906 of 9906) |####################| Elapsed Time: 0:00:11 Time:  0:00:11\n"
     ]
    },
    {
     "name": "stdout",
     "output_type": "stream",
     "text": [
      "(2227, 1101)\n",
      "(2227, 1000)\n",
      "(2227, 100)\n",
      "1000\n",
      "saving file multi_syn_txt_data/syn_nar_5/shuffled/data/syn_nar_5_shuffled_12.npy\n"
     ]
    },
    {
     "name": "stderr",
     "output_type": "stream",
     "text": [
      "100% (9901 of 9901) |####################| Elapsed Time: 0:00:10 Time:  0:00:10\n"
     ]
    },
    {
     "name": "stdout",
     "output_type": "stream",
     "text": [
      "(2227, 1101)\n",
      "(2227, 1000)\n",
      "(2227, 100)\n",
      "1000\n",
      "saving file multi_syn_txt_data/syn_nar_5/shuffled/data/syn_nar_5_shuffled_13.npy\n"
     ]
    },
    {
     "name": "stderr",
     "output_type": "stream",
     "text": [
      "100% (9901 of 9901) |####################| Elapsed Time: 0:00:09 Time:  0:00:09\n"
     ]
    },
    {
     "name": "stdout",
     "output_type": "stream",
     "text": [
      "(2227, 1101)\n",
      "(2227, 1000)\n",
      "(2227, 100)\n",
      "1000\n",
      "saving file multi_syn_txt_data/syn_nar_5/shuffled/data/syn_nar_5_shuffled_14.npy\n"
     ]
    },
    {
     "name": "stderr",
     "output_type": "stream",
     "text": [
      "100% (9901 of 9901) |####################| Elapsed Time: 0:00:09 Time:  0:00:09\n"
     ]
    },
    {
     "name": "stdout",
     "output_type": "stream",
     "text": [
      "(2227, 1101)\n",
      "(2227, 1000)\n",
      "(2227, 100)\n",
      "1000\n",
      "saving file multi_syn_txt_data/syn_nar_5/shuffled/data/syn_nar_5_shuffled_15.npy\n"
     ]
    },
    {
     "name": "stderr",
     "output_type": "stream",
     "text": [
      "100% (9901 of 9901) |####################| Elapsed Time: 0:00:09 Time:  0:00:09\n"
     ]
    },
    {
     "name": "stdout",
     "output_type": "stream",
     "text": [
      "(2227, 1101)\n",
      "(2227, 1000)\n",
      "(2227, 100)\n",
      "1000\n",
      "saving file multi_syn_txt_data/syn_nar_5/shuffled/data/syn_nar_5_shuffled_16.npy\n"
     ]
    },
    {
     "name": "stderr",
     "output_type": "stream",
     "text": [
      "100% (9905 of 9905) |####################| Elapsed Time: 0:00:10 Time:  0:00:10\n"
     ]
    },
    {
     "name": "stdout",
     "output_type": "stream",
     "text": [
      "(2227, 1101)\n",
      "(2227, 1000)\n",
      "(2227, 100)\n",
      "1000\n",
      "saving file multi_syn_txt_data/syn_nar_5/shuffled/data/syn_nar_5_shuffled_17.npy\n"
     ]
    },
    {
     "name": "stderr",
     "output_type": "stream",
     "text": [
      "100% (9903 of 9903) |####################| Elapsed Time: 0:00:09 Time:  0:00:09\n"
     ]
    },
    {
     "name": "stdout",
     "output_type": "stream",
     "text": [
      "(2227, 1101)\n",
      "(2227, 1000)\n",
      "(2227, 100)\n",
      "1000\n",
      "saving file multi_syn_txt_data/syn_nar_5/shuffled/data/syn_nar_5_shuffled_18.npy\n"
     ]
    },
    {
     "name": "stderr",
     "output_type": "stream",
     "text": [
      "100% (9905 of 9905) |####################| Elapsed Time: 0:00:09 Time:  0:00:09\n"
     ]
    },
    {
     "name": "stdout",
     "output_type": "stream",
     "text": [
      "(2227, 1101)\n",
      "(2227, 1000)\n",
      "(2227, 100)\n",
      "1000\n",
      "saving file multi_syn_txt_data/syn_nar_5/shuffled/data/syn_nar_5_shuffled_19.npy\n"
     ]
    },
    {
     "name": "stderr",
     "output_type": "stream",
     "text": [
      "100% (9901 of 9901) |####################| Elapsed Time: 0:00:10 Time:  0:00:10\n"
     ]
    },
    {
     "name": "stdout",
     "output_type": "stream",
     "text": [
      "(2227, 1101)\n",
      "(2227, 1000)\n",
      "(2227, 100)\n",
      "1000\n",
      "saving file multi_syn_txt_data/syn_nar_5/shuffled/data/syn_nar_5_shuffled_20.npy\n"
     ]
    },
    {
     "name": "stderr",
     "output_type": "stream",
     "text": [
      "100% (9903 of 9903) |####################| Elapsed Time: 0:00:09 Time:  0:00:09\n"
     ]
    },
    {
     "name": "stdout",
     "output_type": "stream",
     "text": [
      "(2227, 1101)\n",
      "(2227, 1000)\n",
      "(2227, 100)\n",
      "1000\n",
      "saving file multi_syn_txt_data/syn_nar_5/shuffled/data/syn_nar_5_shuffled_21.npy\n"
     ]
    },
    {
     "name": "stderr",
     "output_type": "stream",
     "text": [
      "100% (9902 of 9902) |####################| Elapsed Time: 0:00:10 Time:  0:00:10\n"
     ]
    },
    {
     "name": "stdout",
     "output_type": "stream",
     "text": [
      "(2227, 1101)\n",
      "(2227, 1000)\n",
      "(2227, 100)\n",
      "1000\n",
      "saving file multi_syn_txt_data/syn_nar_5/shuffled/data/syn_nar_5_shuffled_22.npy\n"
     ]
    },
    {
     "name": "stderr",
     "output_type": "stream",
     "text": [
      "100% (9904 of 9904) |####################| Elapsed Time: 0:00:10 Time:  0:00:10\n"
     ]
    },
    {
     "name": "stdout",
     "output_type": "stream",
     "text": [
      "(2227, 1101)\n",
      "(2227, 1000)\n",
      "(2227, 100)\n",
      "1000\n",
      "saving file multi_syn_txt_data/syn_nar_5/shuffled/data/syn_nar_5_shuffled_23.npy\n"
     ]
    },
    {
     "name": "stderr",
     "output_type": "stream",
     "text": [
      "100% (9911 of 9911) |####################| Elapsed Time: 0:00:11 Time:  0:00:11\n"
     ]
    },
    {
     "name": "stdout",
     "output_type": "stream",
     "text": [
      "(2227, 1101)\n",
      "(2227, 1000)\n",
      "(2227, 100)\n",
      "1000\n",
      "saving file multi_syn_txt_data/syn_nar_5/shuffled/data/syn_nar_5_shuffled_24.npy\n"
     ]
    },
    {
     "name": "stderr",
     "output_type": "stream",
     "text": [
      "100% (9903 of 9903) |####################| Elapsed Time: 0:00:10 Time:  0:00:10\n"
     ]
    },
    {
     "name": "stdout",
     "output_type": "stream",
     "text": [
      "(2227, 1101)\n",
      "(2227, 1000)\n",
      "(2227, 100)\n",
      "1000\n",
      "saving file multi_syn_txt_data/syn_nar_5/shuffled/data/syn_nar_5_shuffled_25.npy\n"
     ]
    },
    {
     "name": "stderr",
     "output_type": "stream",
     "text": [
      "100% (9902 of 9902) |####################| Elapsed Time: 0:00:11 Time:  0:00:11\n"
     ]
    },
    {
     "name": "stdout",
     "output_type": "stream",
     "text": [
      "(2227, 1101)\n",
      "(2227, 1000)\n",
      "(2227, 100)\n",
      "1000\n",
      "saving file multi_syn_txt_data/syn_nar_5/shuffled/data/syn_nar_5_shuffled_26.npy\n"
     ]
    },
    {
     "name": "stderr",
     "output_type": "stream",
     "text": [
      "100% (9903 of 9903) |####################| Elapsed Time: 0:00:14 Time:  0:00:14\n"
     ]
    },
    {
     "name": "stdout",
     "output_type": "stream",
     "text": [
      "(2227, 1101)\n",
      "(2227, 1000)\n",
      "(2227, 100)\n",
      "1000\n",
      "saving file multi_syn_txt_data/syn_nar_5/shuffled/data/syn_nar_5_shuffled_27.npy\n"
     ]
    },
    {
     "name": "stderr",
     "output_type": "stream",
     "text": [
      "100% (9909 of 9909) |####################| Elapsed Time: 0:00:10 Time:  0:00:10\n"
     ]
    },
    {
     "name": "stdout",
     "output_type": "stream",
     "text": [
      "(2227, 1101)\n",
      "(2227, 1000)\n",
      "(2227, 100)\n",
      "1000\n",
      "saving file multi_syn_txt_data/syn_nar_5/shuffled/data/syn_nar_5_shuffled_28.npy\n"
     ]
    },
    {
     "name": "stderr",
     "output_type": "stream",
     "text": [
      "100% (9901 of 9901) |####################| Elapsed Time: 0:00:10 Time:  0:00:10\n"
     ]
    },
    {
     "name": "stdout",
     "output_type": "stream",
     "text": [
      "(2227, 1101)\n",
      "(2227, 1000)\n",
      "(2227, 100)\n",
      "1000\n",
      "saving file multi_syn_txt_data/syn_nar_5/shuffled/data/syn_nar_5_shuffled_29.npy\n"
     ]
    },
    {
     "name": "stderr",
     "output_type": "stream",
     "text": [
      "100% (9907 of 9907) |####################| Elapsed Time: 0:00:11 Time:  0:00:11\n"
     ]
    },
    {
     "name": "stdout",
     "output_type": "stream",
     "text": [
      "(2227, 1101)\n",
      "(2227, 1000)\n",
      "(2227, 100)\n",
      "1000\n",
      "saving file multi_syn_txt_data/syn_nar_5/shuffled/data/syn_nar_5_shuffled_30.npy\n"
     ]
    },
    {
     "name": "stderr",
     "output_type": "stream",
     "text": [
      "100% (9901 of 9901) |####################| Elapsed Time: 0:00:11 Time:  0:00:11\n"
     ]
    },
    {
     "name": "stdout",
     "output_type": "stream",
     "text": [
      "(2227, 1101)\n",
      "(2227, 1000)\n",
      "(2227, 100)\n",
      "1000\n",
      "saving file multi_syn_txt_data/syn_nar_5/shuffled/data/syn_nar_5_shuffled_31.npy\n"
     ]
    },
    {
     "name": "stderr",
     "output_type": "stream",
     "text": [
      "100% (9904 of 9904) |####################| Elapsed Time: 0:00:14 Time:  0:00:14\n"
     ]
    },
    {
     "name": "stdout",
     "output_type": "stream",
     "text": [
      "(2227, 1101)\n",
      "(2227, 1000)\n",
      "(2227, 100)\n",
      "1000\n",
      "saving file multi_syn_txt_data/syn_nar_5/shuffled/data/syn_nar_5_shuffled_32.npy\n"
     ]
    },
    {
     "name": "stderr",
     "output_type": "stream",
     "text": [
      "100% (9908 of 9908) |####################| Elapsed Time: 0:00:10 Time:  0:00:10\n"
     ]
    },
    {
     "name": "stdout",
     "output_type": "stream",
     "text": [
      "(2227, 1101)\n",
      "(2227, 1000)\n",
      "(2227, 100)\n",
      "1000\n",
      "saving file multi_syn_txt_data/syn_nar_5/shuffled/data/syn_nar_5_shuffled_33.npy\n"
     ]
    },
    {
     "name": "stderr",
     "output_type": "stream",
     "text": [
      "100% (9908 of 9908) |####################| Elapsed Time: 0:00:07 Time:  0:00:07\n"
     ]
    },
    {
     "name": "stdout",
     "output_type": "stream",
     "text": [
      "(2227, 1101)\n",
      "(2227, 1000)\n",
      "(2227, 100)\n",
      "1000\n",
      "saving file multi_syn_txt_data/syn_nar_5/shuffled/data/syn_nar_5_shuffled_34.npy\n"
     ]
    },
    {
     "name": "stderr",
     "output_type": "stream",
     "text": [
      "100% (9904 of 9904) |####################| Elapsed Time: 0:00:08 Time:  0:00:08\n"
     ]
    },
    {
     "name": "stdout",
     "output_type": "stream",
     "text": [
      "(2227, 1101)\n",
      "(2227, 1000)\n",
      "(2227, 100)\n",
      "1000\n",
      "saving file multi_syn_txt_data/syn_nar_5/shuffled/data/syn_nar_5_shuffled_35.npy\n"
     ]
    },
    {
     "name": "stderr",
     "output_type": "stream",
     "text": [
      "100% (9901 of 9901) |####################| Elapsed Time: 0:00:08 Time:  0:00:08\n"
     ]
    },
    {
     "name": "stdout",
     "output_type": "stream",
     "text": [
      "(2227, 1101)\n",
      "(2227, 1000)\n",
      "(2227, 100)\n",
      "1000\n",
      "saving file multi_syn_txt_data/syn_nar_5/shuffled/data/syn_nar_5_shuffled_36.npy\n"
     ]
    },
    {
     "name": "stderr",
     "output_type": "stream",
     "text": [
      "100% (9906 of 9906) |####################| Elapsed Time: 0:00:14 Time:  0:00:14\n"
     ]
    },
    {
     "name": "stdout",
     "output_type": "stream",
     "text": [
      "(2227, 1101)\n",
      "(2227, 1000)\n",
      "(2227, 100)\n",
      "1000\n",
      "saving file multi_syn_txt_data/syn_nar_5/shuffled/data/syn_nar_5_shuffled_37.npy\n"
     ]
    },
    {
     "name": "stderr",
     "output_type": "stream",
     "text": [
      "100% (9905 of 9905) |####################| Elapsed Time: 0:00:07 Time:  0:00:07\n"
     ]
    },
    {
     "name": "stdout",
     "output_type": "stream",
     "text": [
      "(2227, 1101)\n",
      "(2227, 1000)\n",
      "(2227, 100)\n",
      "1000\n",
      "saving file multi_syn_txt_data/syn_nar_5/shuffled/data/syn_nar_5_shuffled_38.npy\n"
     ]
    },
    {
     "name": "stderr",
     "output_type": "stream",
     "text": [
      "100% (9902 of 9902) |####################| Elapsed Time: 0:00:07 Time:  0:00:07\n"
     ]
    },
    {
     "name": "stdout",
     "output_type": "stream",
     "text": [
      "(2227, 1101)\n",
      "(2227, 1000)\n",
      "(2227, 100)\n",
      "1000\n",
      "saving file multi_syn_txt_data/syn_nar_5/shuffled/data/syn_nar_5_shuffled_39.npy\n",
      "syn_nar_texts/syn_narr_6.npy\n",
      "(1753, 100)\n",
      "[  82  156  273  345  445  484  617  666  733  830  884 1052 1095 1133\n",
      " 1222 1271 1342 1516 1591]\n"
     ]
    },
    {
     "name": "stderr",
     "output_type": "stream",
     "text": [
      "100% (9904 of 9904) |####################| Elapsed Time: 0:00:08 Time:  0:00:08\n"
     ]
    },
    {
     "name": "stdout",
     "output_type": "stream",
     "text": [
      "(1753, 1101)\n",
      "(1753, 1000)\n",
      "(1753, 100)\n",
      "1000\n",
      "saving file multi_syn_txt_data/syn_nar_6/shuffled/data/syn_nar_6_shuffled_0.npy\n"
     ]
    },
    {
     "name": "stderr",
     "output_type": "stream",
     "text": [
      "100% (9906 of 9906) |####################| Elapsed Time: 0:00:12 Time:  0:00:12\n"
     ]
    },
    {
     "name": "stdout",
     "output_type": "stream",
     "text": [
      "(1753, 1101)\n",
      "(1753, 1000)\n",
      "(1753, 100)\n",
      "1000\n",
      "saving file multi_syn_txt_data/syn_nar_6/shuffled/data/syn_nar_6_shuffled_1.npy\n"
     ]
    },
    {
     "name": "stderr",
     "output_type": "stream",
     "text": [
      "100% (9902 of 9902) |####################| Elapsed Time: 0:00:07 Time:  0:00:07\n"
     ]
    },
    {
     "name": "stdout",
     "output_type": "stream",
     "text": [
      "(1753, 1101)\n",
      "(1753, 1000)\n",
      "(1753, 100)\n",
      "1000\n",
      "saving file multi_syn_txt_data/syn_nar_6/shuffled/data/syn_nar_6_shuffled_2.npy\n"
     ]
    },
    {
     "name": "stderr",
     "output_type": "stream",
     "text": [
      "100% (9906 of 9906) |####################| Elapsed Time: 0:00:08 Time:  0:00:08\n"
     ]
    },
    {
     "name": "stdout",
     "output_type": "stream",
     "text": [
      "(1753, 1101)\n",
      "(1753, 1000)\n",
      "(1753, 100)\n",
      "1000\n",
      "saving file multi_syn_txt_data/syn_nar_6/shuffled/data/syn_nar_6_shuffled_3.npy\n"
     ]
    },
    {
     "name": "stderr",
     "output_type": "stream",
     "text": [
      "100% (9903 of 9903) |####################| Elapsed Time: 0:00:08 Time:  0:00:08\n"
     ]
    },
    {
     "name": "stdout",
     "output_type": "stream",
     "text": [
      "(1753, 1101)\n",
      "(1753, 1000)\n",
      "(1753, 100)\n",
      "1000\n",
      "saving file multi_syn_txt_data/syn_nar_6/shuffled/data/syn_nar_6_shuffled_4.npy\n"
     ]
    },
    {
     "name": "stderr",
     "output_type": "stream",
     "text": [
      "100% (9908 of 9908) |####################| Elapsed Time: 0:00:08 Time:  0:00:08\n"
     ]
    },
    {
     "name": "stdout",
     "output_type": "stream",
     "text": [
      "(1753, 1101)\n",
      "(1753, 1000)\n",
      "(1753, 100)\n",
      "1000\n",
      "saving file multi_syn_txt_data/syn_nar_6/shuffled/data/syn_nar_6_shuffled_5.npy\n"
     ]
    },
    {
     "name": "stderr",
     "output_type": "stream",
     "text": [
      "100% (9905 of 9905) |####################| Elapsed Time: 0:00:08 Time:  0:00:08\n"
     ]
    },
    {
     "name": "stdout",
     "output_type": "stream",
     "text": [
      "(1753, 1101)\n",
      "(1753, 1000)\n",
      "(1753, 100)\n",
      "1000\n",
      "saving file multi_syn_txt_data/syn_nar_6/shuffled/data/syn_nar_6_shuffled_6.npy\n"
     ]
    },
    {
     "name": "stderr",
     "output_type": "stream",
     "text": [
      "100% (9903 of 9903) |####################| Elapsed Time: 0:00:08 Time:  0:00:08\n"
     ]
    },
    {
     "name": "stdout",
     "output_type": "stream",
     "text": [
      "(1753, 1101)\n",
      "(1753, 1000)\n",
      "(1753, 100)\n",
      "1000\n",
      "saving file multi_syn_txt_data/syn_nar_6/shuffled/data/syn_nar_6_shuffled_7.npy\n"
     ]
    },
    {
     "name": "stderr",
     "output_type": "stream",
     "text": [
      "100% (9901 of 9901) |####################| Elapsed Time: 0:00:08 Time:  0:00:08\n"
     ]
    },
    {
     "name": "stdout",
     "output_type": "stream",
     "text": [
      "(1753, 1101)\n",
      "(1753, 1000)\n",
      "(1753, 100)\n",
      "1000\n",
      "saving file multi_syn_txt_data/syn_nar_6/shuffled/data/syn_nar_6_shuffled_8.npy\n"
     ]
    },
    {
     "name": "stderr",
     "output_type": "stream",
     "text": [
      "100% (9910 of 9910) |####################| Elapsed Time: 0:00:08 Time:  0:00:08\n"
     ]
    },
    {
     "name": "stdout",
     "output_type": "stream",
     "text": [
      "(1753, 1101)\n",
      "(1753, 1000)\n",
      "(1753, 100)\n",
      "1000\n",
      "saving file multi_syn_txt_data/syn_nar_6/shuffled/data/syn_nar_6_shuffled_9.npy\n"
     ]
    },
    {
     "name": "stderr",
     "output_type": "stream",
     "text": [
      "100% (9899 of 9899) |####################| Elapsed Time: 0:00:07 Time:  0:00:07\n"
     ]
    },
    {
     "name": "stdout",
     "output_type": "stream",
     "text": [
      "(1753, 1101)\n",
      "(1753, 1000)\n",
      "(1753, 100)\n",
      "1000\n",
      "saving file multi_syn_txt_data/syn_nar_6/shuffled/data/syn_nar_6_shuffled_10.npy\n"
     ]
    },
    {
     "name": "stderr",
     "output_type": "stream",
     "text": [
      "100% (9906 of 9906) |####################| Elapsed Time: 0:00:07 Time:  0:00:07\n"
     ]
    },
    {
     "name": "stdout",
     "output_type": "stream",
     "text": [
      "(1753, 1101)\n",
      "(1753, 1000)\n",
      "(1753, 100)\n",
      "1000\n",
      "saving file multi_syn_txt_data/syn_nar_6/shuffled/data/syn_nar_6_shuffled_11.npy\n"
     ]
    },
    {
     "name": "stderr",
     "output_type": "stream",
     "text": [
      "100% (9906 of 9906) |####################| Elapsed Time: 0:00:07 Time:  0:00:07\n"
     ]
    },
    {
     "name": "stdout",
     "output_type": "stream",
     "text": [
      "(1753, 1101)\n",
      "(1753, 1000)\n",
      "(1753, 100)\n",
      "1000\n",
      "saving file multi_syn_txt_data/syn_nar_6/shuffled/data/syn_nar_6_shuffled_12.npy\n"
     ]
    },
    {
     "name": "stderr",
     "output_type": "stream",
     "text": [
      "100% (9901 of 9901) |####################| Elapsed Time: 0:00:07 Time:  0:00:07\n"
     ]
    },
    {
     "name": "stdout",
     "output_type": "stream",
     "text": [
      "(1753, 1101)\n",
      "(1753, 1000)\n",
      "(1753, 100)\n",
      "1000\n",
      "saving file multi_syn_txt_data/syn_nar_6/shuffled/data/syn_nar_6_shuffled_13.npy\n"
     ]
    },
    {
     "name": "stderr",
     "output_type": "stream",
     "text": [
      "100% (9901 of 9901) |####################| Elapsed Time: 0:00:07 Time:  0:00:07\n"
     ]
    },
    {
     "name": "stdout",
     "output_type": "stream",
     "text": [
      "(1753, 1101)\n",
      "(1753, 1000)\n",
      "(1753, 100)\n",
      "1000\n",
      "saving file multi_syn_txt_data/syn_nar_6/shuffled/data/syn_nar_6_shuffled_14.npy\n"
     ]
    },
    {
     "name": "stderr",
     "output_type": "stream",
     "text": [
      "100% (9901 of 9901) |####################| Elapsed Time: 0:00:06 Time:  0:00:06\n"
     ]
    },
    {
     "name": "stdout",
     "output_type": "stream",
     "text": [
      "(1753, 1101)\n",
      "(1753, 1000)\n",
      "(1753, 100)\n",
      "1000\n",
      "saving file multi_syn_txt_data/syn_nar_6/shuffled/data/syn_nar_6_shuffled_15.npy\n"
     ]
    },
    {
     "name": "stderr",
     "output_type": "stream",
     "text": [
      "100% (9901 of 9901) |####################| Elapsed Time: 0:00:06 Time:  0:00:06\n"
     ]
    },
    {
     "name": "stdout",
     "output_type": "stream",
     "text": [
      "(1753, 1101)\n",
      "(1753, 1000)\n",
      "(1753, 100)\n",
      "1000\n",
      "saving file multi_syn_txt_data/syn_nar_6/shuffled/data/syn_nar_6_shuffled_16.npy\n"
     ]
    },
    {
     "name": "stderr",
     "output_type": "stream",
     "text": [
      "100% (9905 of 9905) |####################| Elapsed Time: 0:00:06 Time:  0:00:06\n"
     ]
    },
    {
     "name": "stdout",
     "output_type": "stream",
     "text": [
      "(1753, 1101)\n",
      "(1753, 1000)\n",
      "(1753, 100)\n",
      "1000\n",
      "saving file multi_syn_txt_data/syn_nar_6/shuffled/data/syn_nar_6_shuffled_17.npy\n"
     ]
    },
    {
     "name": "stderr",
     "output_type": "stream",
     "text": [
      "100% (9903 of 9903) |####################| Elapsed Time: 0:00:06 Time:  0:00:06\n"
     ]
    },
    {
     "name": "stdout",
     "output_type": "stream",
     "text": [
      "(1753, 1101)\n",
      "(1753, 1000)\n",
      "(1753, 100)\n",
      "1000\n",
      "saving file multi_syn_txt_data/syn_nar_6/shuffled/data/syn_nar_6_shuffled_18.npy\n"
     ]
    },
    {
     "name": "stderr",
     "output_type": "stream",
     "text": [
      "100% (9905 of 9905) |####################| Elapsed Time: 0:00:06 Time:  0:00:06\n"
     ]
    },
    {
     "name": "stdout",
     "output_type": "stream",
     "text": [
      "(1753, 1101)\n",
      "(1753, 1000)\n",
      "(1753, 100)\n",
      "1000\n",
      "saving file multi_syn_txt_data/syn_nar_6/shuffled/data/syn_nar_6_shuffled_19.npy\n"
     ]
    },
    {
     "name": "stderr",
     "output_type": "stream",
     "text": [
      "100% (9901 of 9901) |####################| Elapsed Time: 0:00:09 Time:  0:00:09\n"
     ]
    },
    {
     "name": "stdout",
     "output_type": "stream",
     "text": [
      "(1753, 1101)\n",
      "(1753, 1000)\n",
      "(1753, 100)\n",
      "1000\n",
      "saving file multi_syn_txt_data/syn_nar_6/shuffled/data/syn_nar_6_shuffled_20.npy\n"
     ]
    },
    {
     "name": "stderr",
     "output_type": "stream",
     "text": [
      "100% (9903 of 9903) |####################| Elapsed Time: 0:00:08 Time:  0:00:08\n"
     ]
    },
    {
     "name": "stdout",
     "output_type": "stream",
     "text": [
      "(1753, 1101)\n",
      "(1753, 1000)\n",
      "(1753, 100)\n",
      "1000\n",
      "saving file multi_syn_txt_data/syn_nar_6/shuffled/data/syn_nar_6_shuffled_21.npy\n"
     ]
    },
    {
     "name": "stderr",
     "output_type": "stream",
     "text": [
      "100% (9902 of 9902) |####################| Elapsed Time: 0:00:07 Time:  0:00:07\n"
     ]
    },
    {
     "name": "stdout",
     "output_type": "stream",
     "text": [
      "(1753, 1101)\n",
      "(1753, 1000)\n",
      "(1753, 100)\n",
      "1000\n",
      "saving file multi_syn_txt_data/syn_nar_6/shuffled/data/syn_nar_6_shuffled_22.npy\n"
     ]
    },
    {
     "name": "stderr",
     "output_type": "stream",
     "text": [
      "100% (9904 of 9904) |####################| Elapsed Time: 0:00:08 Time:  0:00:08\n"
     ]
    },
    {
     "name": "stdout",
     "output_type": "stream",
     "text": [
      "(1753, 1101)\n",
      "(1753, 1000)\n",
      "(1753, 100)\n",
      "1000\n",
      "saving file multi_syn_txt_data/syn_nar_6/shuffled/data/syn_nar_6_shuffled_23.npy\n"
     ]
    },
    {
     "name": "stderr",
     "output_type": "stream",
     "text": [
      "100% (9911 of 9911) |####################| Elapsed Time: 0:00:08 Time:  0:00:08\n"
     ]
    },
    {
     "name": "stdout",
     "output_type": "stream",
     "text": [
      "(1753, 1101)\n",
      "(1753, 1000)\n",
      "(1753, 100)\n",
      "1000\n",
      "saving file multi_syn_txt_data/syn_nar_6/shuffled/data/syn_nar_6_shuffled_24.npy\n"
     ]
    },
    {
     "name": "stderr",
     "output_type": "stream",
     "text": [
      "100% (9903 of 9903) |####################| Elapsed Time: 0:00:07 Time:  0:00:07\n"
     ]
    },
    {
     "name": "stdout",
     "output_type": "stream",
     "text": [
      "(1753, 1101)\n",
      "(1753, 1000)\n",
      "(1753, 100)\n",
      "1000\n",
      "saving file multi_syn_txt_data/syn_nar_6/shuffled/data/syn_nar_6_shuffled_25.npy\n"
     ]
    },
    {
     "name": "stderr",
     "output_type": "stream",
     "text": [
      "100% (9902 of 9902) |####################| Elapsed Time: 0:00:08 Time:  0:00:08\n"
     ]
    },
    {
     "name": "stdout",
     "output_type": "stream",
     "text": [
      "(1753, 1101)\n",
      "(1753, 1000)\n",
      "(1753, 100)\n",
      "1000\n",
      "saving file multi_syn_txt_data/syn_nar_6/shuffled/data/syn_nar_6_shuffled_26.npy\n"
     ]
    },
    {
     "name": "stderr",
     "output_type": "stream",
     "text": [
      "100% (9903 of 9903) |####################| Elapsed Time: 0:00:08 Time:  0:00:08\n"
     ]
    },
    {
     "name": "stdout",
     "output_type": "stream",
     "text": [
      "(1753, 1101)\n",
      "(1753, 1000)\n",
      "(1753, 100)\n",
      "1000\n",
      "saving file multi_syn_txt_data/syn_nar_6/shuffled/data/syn_nar_6_shuffled_27.npy\n"
     ]
    },
    {
     "name": "stderr",
     "output_type": "stream",
     "text": [
      "100% (9909 of 9909) |####################| Elapsed Time: 0:00:09 Time:  0:00:09\n"
     ]
    },
    {
     "name": "stdout",
     "output_type": "stream",
     "text": [
      "(1753, 1101)\n",
      "(1753, 1000)\n",
      "(1753, 100)\n",
      "1000\n",
      "saving file multi_syn_txt_data/syn_nar_6/shuffled/data/syn_nar_6_shuffled_28.npy\n"
     ]
    },
    {
     "name": "stderr",
     "output_type": "stream",
     "text": [
      "100% (9901 of 9901) |####################| Elapsed Time: 0:00:07 Time:  0:00:07\n"
     ]
    },
    {
     "name": "stdout",
     "output_type": "stream",
     "text": [
      "(1753, 1101)\n",
      "(1753, 1000)\n",
      "(1753, 100)\n",
      "1000\n",
      "saving file multi_syn_txt_data/syn_nar_6/shuffled/data/syn_nar_6_shuffled_29.npy\n"
     ]
    },
    {
     "name": "stderr",
     "output_type": "stream",
     "text": [
      "100% (9907 of 9907) |####################| Elapsed Time: 0:00:12 Time:  0:00:12\n"
     ]
    },
    {
     "name": "stdout",
     "output_type": "stream",
     "text": [
      "(1753, 1101)\n",
      "(1753, 1000)\n",
      "(1753, 100)\n",
      "1000\n",
      "saving file multi_syn_txt_data/syn_nar_6/shuffled/data/syn_nar_6_shuffled_30.npy\n"
     ]
    },
    {
     "name": "stderr",
     "output_type": "stream",
     "text": [
      "100% (9901 of 9901) |####################| Elapsed Time: 0:00:09 Time:  0:00:09\n"
     ]
    },
    {
     "name": "stdout",
     "output_type": "stream",
     "text": [
      "(1753, 1101)\n",
      "(1753, 1000)\n",
      "(1753, 100)\n",
      "1000\n",
      "saving file multi_syn_txt_data/syn_nar_6/shuffled/data/syn_nar_6_shuffled_31.npy\n"
     ]
    },
    {
     "name": "stderr",
     "output_type": "stream",
     "text": [
      "100% (9904 of 9904) |####################| Elapsed Time: 0:00:09 Time:  0:00:09\n"
     ]
    },
    {
     "name": "stdout",
     "output_type": "stream",
     "text": [
      "(1753, 1101)\n",
      "(1753, 1000)\n",
      "(1753, 100)\n",
      "1000\n",
      "saving file multi_syn_txt_data/syn_nar_6/shuffled/data/syn_nar_6_shuffled_32.npy\n"
     ]
    },
    {
     "name": "stderr",
     "output_type": "stream",
     "text": [
      "100% (9908 of 9908) |####################| Elapsed Time: 0:00:08 Time:  0:00:08\n"
     ]
    },
    {
     "name": "stdout",
     "output_type": "stream",
     "text": [
      "(1753, 1101)\n",
      "(1753, 1000)\n",
      "(1753, 100)\n",
      "1000\n",
      "saving file multi_syn_txt_data/syn_nar_6/shuffled/data/syn_nar_6_shuffled_33.npy\n"
     ]
    },
    {
     "name": "stderr",
     "output_type": "stream",
     "text": [
      "100% (9908 of 9908) |####################| Elapsed Time: 0:00:09 Time:  0:00:09\n"
     ]
    },
    {
     "name": "stdout",
     "output_type": "stream",
     "text": [
      "(1753, 1101)\n",
      "(1753, 1000)\n",
      "(1753, 100)\n",
      "1000\n",
      "saving file multi_syn_txt_data/syn_nar_6/shuffled/data/syn_nar_6_shuffled_34.npy\n"
     ]
    },
    {
     "name": "stderr",
     "output_type": "stream",
     "text": [
      "100% (9904 of 9904) |####################| Elapsed Time: 0:00:07 Time:  0:00:07\n"
     ]
    },
    {
     "name": "stdout",
     "output_type": "stream",
     "text": [
      "(1753, 1101)\n",
      "(1753, 1000)\n",
      "(1753, 100)\n",
      "1000\n",
      "saving file multi_syn_txt_data/syn_nar_6/shuffled/data/syn_nar_6_shuffled_35.npy\n"
     ]
    },
    {
     "name": "stderr",
     "output_type": "stream",
     "text": [
      "100% (9901 of 9901) |####################| Elapsed Time: 0:00:09 Time:  0:00:09\n"
     ]
    },
    {
     "name": "stdout",
     "output_type": "stream",
     "text": [
      "(1753, 1101)\n",
      "(1753, 1000)\n",
      "(1753, 100)\n",
      "1000\n",
      "saving file multi_syn_txt_data/syn_nar_6/shuffled/data/syn_nar_6_shuffled_36.npy\n"
     ]
    },
    {
     "name": "stderr",
     "output_type": "stream",
     "text": [
      "100% (9906 of 9906) |####################| Elapsed Time: 0:00:09 Time:  0:00:09\n"
     ]
    },
    {
     "name": "stdout",
     "output_type": "stream",
     "text": [
      "(1753, 1101)\n",
      "(1753, 1000)\n",
      "(1753, 100)\n",
      "1000\n",
      "saving file multi_syn_txt_data/syn_nar_6/shuffled/data/syn_nar_6_shuffled_37.npy\n"
     ]
    },
    {
     "name": "stderr",
     "output_type": "stream",
     "text": [
      "100% (9905 of 9905) |####################| Elapsed Time: 0:00:09 Time:  0:00:09\n"
     ]
    },
    {
     "name": "stdout",
     "output_type": "stream",
     "text": [
      "(1753, 1101)\n",
      "(1753, 1000)\n",
      "(1753, 100)\n",
      "1000\n",
      "saving file multi_syn_txt_data/syn_nar_6/shuffled/data/syn_nar_6_shuffled_38.npy\n"
     ]
    },
    {
     "name": "stderr",
     "output_type": "stream",
     "text": [
      "100% (9902 of 9902) |####################| Elapsed Time: 0:00:09 Time:  0:00:09\n"
     ]
    },
    {
     "name": "stdout",
     "output_type": "stream",
     "text": [
      "(1753, 1101)\n",
      "(1753, 1000)\n",
      "(1753, 100)\n",
      "1000\n",
      "saving file multi_syn_txt_data/syn_nar_6/shuffled/data/syn_nar_6_shuffled_39.npy\n",
      "syn_nar_texts/syn_narr_7.npy\n",
      "(1774, 100)\n",
      "[ 145  228  335  374  446  519  577  606  761  788  839  956 1100 1158\n",
      " 1195 1347 1436 1473 1616]\n"
     ]
    },
    {
     "name": "stderr",
     "output_type": "stream",
     "text": [
      "100% (9904 of 9904) |####################| Elapsed Time: 0:00:08 Time:  0:00:08\n"
     ]
    },
    {
     "name": "stdout",
     "output_type": "stream",
     "text": [
      "(1774, 1101)\n",
      "(1774, 1000)\n",
      "(1774, 100)\n",
      "1000\n",
      "saving file multi_syn_txt_data/syn_nar_7/shuffled/data/syn_nar_7_shuffled_0.npy\n"
     ]
    },
    {
     "name": "stderr",
     "output_type": "stream",
     "text": [
      "100% (9906 of 9906) |####################| Elapsed Time: 0:00:11 Time:  0:00:11\n"
     ]
    },
    {
     "name": "stdout",
     "output_type": "stream",
     "text": [
      "(1774, 1101)\n",
      "(1774, 1000)\n",
      "(1774, 100)\n",
      "1000\n",
      "saving file multi_syn_txt_data/syn_nar_7/shuffled/data/syn_nar_7_shuffled_1.npy\n"
     ]
    },
    {
     "name": "stderr",
     "output_type": "stream",
     "text": [
      "100% (9902 of 9902) |####################| Elapsed Time: 0:00:09 Time:  0:00:09\n"
     ]
    },
    {
     "name": "stdout",
     "output_type": "stream",
     "text": [
      "(1774, 1101)\n",
      "(1774, 1000)\n",
      "(1774, 100)\n",
      "1000\n",
      "saving file multi_syn_txt_data/syn_nar_7/shuffled/data/syn_nar_7_shuffled_2.npy\n"
     ]
    },
    {
     "name": "stderr",
     "output_type": "stream",
     "text": [
      "100% (9906 of 9906) |####################| Elapsed Time: 0:00:09 Time:  0:00:09\n"
     ]
    },
    {
     "name": "stdout",
     "output_type": "stream",
     "text": [
      "(1774, 1101)\n",
      "(1774, 1000)\n",
      "(1774, 100)\n",
      "1000\n",
      "saving file multi_syn_txt_data/syn_nar_7/shuffled/data/syn_nar_7_shuffled_3.npy\n"
     ]
    },
    {
     "name": "stderr",
     "output_type": "stream",
     "text": [
      "100% (9903 of 9903) |####################| Elapsed Time: 0:00:07 Time:  0:00:07\n"
     ]
    },
    {
     "name": "stdout",
     "output_type": "stream",
     "text": [
      "(1774, 1101)\n",
      "(1774, 1000)\n",
      "(1774, 100)\n",
      "1000\n",
      "saving file multi_syn_txt_data/syn_nar_7/shuffled/data/syn_nar_7_shuffled_4.npy\n"
     ]
    },
    {
     "name": "stderr",
     "output_type": "stream",
     "text": [
      "100% (9908 of 9908) |####################| Elapsed Time: 0:00:12 Time:  0:00:12\n"
     ]
    },
    {
     "name": "stdout",
     "output_type": "stream",
     "text": [
      "(1774, 1101)\n",
      "(1774, 1000)\n",
      "(1774, 100)\n",
      "1000\n",
      "saving file multi_syn_txt_data/syn_nar_7/shuffled/data/syn_nar_7_shuffled_5.npy\n"
     ]
    },
    {
     "name": "stderr",
     "output_type": "stream",
     "text": [
      "100% (9905 of 9905) |####################| Elapsed Time: 0:00:09 Time:  0:00:09\n"
     ]
    },
    {
     "name": "stdout",
     "output_type": "stream",
     "text": [
      "(1774, 1101)\n",
      "(1774, 1000)\n",
      "(1774, 100)\n",
      "1000\n",
      "saving file multi_syn_txt_data/syn_nar_7/shuffled/data/syn_nar_7_shuffled_6.npy\n"
     ]
    },
    {
     "name": "stderr",
     "output_type": "stream",
     "text": [
      "100% (9903 of 9903) |####################| Elapsed Time: 0:00:09 Time:  0:00:09\n"
     ]
    },
    {
     "name": "stdout",
     "output_type": "stream",
     "text": [
      "(1774, 1101)\n",
      "(1774, 1000)\n",
      "(1774, 100)\n",
      "1000\n",
      "saving file multi_syn_txt_data/syn_nar_7/shuffled/data/syn_nar_7_shuffled_7.npy\n"
     ]
    },
    {
     "name": "stderr",
     "output_type": "stream",
     "text": [
      "100% (9901 of 9901) |####################| Elapsed Time: 0:00:08 Time:  0:00:08\n"
     ]
    },
    {
     "name": "stdout",
     "output_type": "stream",
     "text": [
      "(1774, 1101)\n",
      "(1774, 1000)\n",
      "(1774, 100)\n",
      "1000\n",
      "saving file multi_syn_txt_data/syn_nar_7/shuffled/data/syn_nar_7_shuffled_8.npy\n"
     ]
    },
    {
     "name": "stderr",
     "output_type": "stream",
     "text": [
      "100% (9910 of 9910) |####################| Elapsed Time: 0:00:09 Time:  0:00:09\n"
     ]
    },
    {
     "name": "stdout",
     "output_type": "stream",
     "text": [
      "(1774, 1101)\n",
      "(1774, 1000)\n",
      "(1774, 100)\n",
      "1000\n",
      "saving file multi_syn_txt_data/syn_nar_7/shuffled/data/syn_nar_7_shuffled_9.npy\n"
     ]
    },
    {
     "name": "stderr",
     "output_type": "stream",
     "text": [
      "100% (9899 of 9899) |####################| Elapsed Time: 0:00:10 Time:  0:00:10\n"
     ]
    },
    {
     "name": "stdout",
     "output_type": "stream",
     "text": [
      "(1774, 1101)\n",
      "(1774, 1000)\n",
      "(1774, 100)\n",
      "1000\n",
      "saving file multi_syn_txt_data/syn_nar_7/shuffled/data/syn_nar_7_shuffled_10.npy\n"
     ]
    },
    {
     "name": "stderr",
     "output_type": "stream",
     "text": [
      "100% (9906 of 9906) |####################| Elapsed Time: 0:00:09 Time:  0:00:09\n"
     ]
    },
    {
     "name": "stdout",
     "output_type": "stream",
     "text": [
      "(1774, 1101)\n",
      "(1774, 1000)\n",
      "(1774, 100)\n",
      "1000\n",
      "saving file multi_syn_txt_data/syn_nar_7/shuffled/data/syn_nar_7_shuffled_11.npy\n"
     ]
    },
    {
     "name": "stderr",
     "output_type": "stream",
     "text": [
      "100% (9906 of 9906) |####################| Elapsed Time: 0:00:10 Time:  0:00:10\n"
     ]
    },
    {
     "name": "stdout",
     "output_type": "stream",
     "text": [
      "(1774, 1101)\n",
      "(1774, 1000)\n",
      "(1774, 100)\n",
      "1000\n",
      "saving file multi_syn_txt_data/syn_nar_7/shuffled/data/syn_nar_7_shuffled_12.npy\n"
     ]
    },
    {
     "name": "stderr",
     "output_type": "stream",
     "text": [
      "100% (9901 of 9901) |####################| Elapsed Time: 0:00:09 Time:  0:00:09\n"
     ]
    },
    {
     "name": "stdout",
     "output_type": "stream",
     "text": [
      "(1774, 1101)\n",
      "(1774, 1000)\n",
      "(1774, 100)\n",
      "1000\n",
      "saving file multi_syn_txt_data/syn_nar_7/shuffled/data/syn_nar_7_shuffled_13.npy\n"
     ]
    },
    {
     "name": "stderr",
     "output_type": "stream",
     "text": [
      "100% (9901 of 9901) |####################| Elapsed Time: 0:00:08 Time:  0:00:08\n"
     ]
    },
    {
     "name": "stdout",
     "output_type": "stream",
     "text": [
      "(1774, 1101)\n",
      "(1774, 1000)\n",
      "(1774, 100)\n",
      "1000\n",
      "saving file multi_syn_txt_data/syn_nar_7/shuffled/data/syn_nar_7_shuffled_14.npy\n"
     ]
    },
    {
     "name": "stderr",
     "output_type": "stream",
     "text": [
      "100% (9901 of 9901) |####################| Elapsed Time: 0:00:10 Time:  0:00:10\n"
     ]
    },
    {
     "name": "stdout",
     "output_type": "stream",
     "text": [
      "(1774, 1101)\n",
      "(1774, 1000)\n",
      "(1774, 100)\n",
      "1000\n",
      "saving file multi_syn_txt_data/syn_nar_7/shuffled/data/syn_nar_7_shuffled_15.npy\n"
     ]
    },
    {
     "name": "stderr",
     "output_type": "stream",
     "text": [
      "100% (9901 of 9901) |####################| Elapsed Time: 0:00:11 Time:  0:00:11\n"
     ]
    },
    {
     "name": "stdout",
     "output_type": "stream",
     "text": [
      "(1774, 1101)\n",
      "(1774, 1000)\n",
      "(1774, 100)\n",
      "1000\n",
      "saving file multi_syn_txt_data/syn_nar_7/shuffled/data/syn_nar_7_shuffled_16.npy\n"
     ]
    },
    {
     "name": "stderr",
     "output_type": "stream",
     "text": [
      "100% (9905 of 9905) |####################| Elapsed Time: 0:00:09 Time:  0:00:09\n"
     ]
    },
    {
     "name": "stdout",
     "output_type": "stream",
     "text": [
      "(1774, 1101)\n",
      "(1774, 1000)\n",
      "(1774, 100)\n",
      "1000\n",
      "saving file multi_syn_txt_data/syn_nar_7/shuffled/data/syn_nar_7_shuffled_17.npy\n"
     ]
    },
    {
     "name": "stderr",
     "output_type": "stream",
     "text": [
      "100% (9903 of 9903) |####################| Elapsed Time: 0:00:09 Time:  0:00:09\n"
     ]
    },
    {
     "name": "stdout",
     "output_type": "stream",
     "text": [
      "(1774, 1101)\n",
      "(1774, 1000)\n",
      "(1774, 100)\n",
      "1000\n",
      "saving file multi_syn_txt_data/syn_nar_7/shuffled/data/syn_nar_7_shuffled_18.npy\n"
     ]
    },
    {
     "name": "stderr",
     "output_type": "stream",
     "text": [
      "100% (9905 of 9905) |####################| Elapsed Time: 0:00:08 Time:  0:00:08\n"
     ]
    },
    {
     "name": "stdout",
     "output_type": "stream",
     "text": [
      "(1774, 1101)\n",
      "(1774, 1000)\n",
      "(1774, 100)\n",
      "1000\n",
      "saving file multi_syn_txt_data/syn_nar_7/shuffled/data/syn_nar_7_shuffled_19.npy\n"
     ]
    },
    {
     "name": "stderr",
     "output_type": "stream",
     "text": [
      "100% (9901 of 9901) |####################| Elapsed Time: 0:00:10 Time:  0:00:10\n"
     ]
    },
    {
     "name": "stdout",
     "output_type": "stream",
     "text": [
      "(1774, 1101)\n",
      "(1774, 1000)\n",
      "(1774, 100)\n",
      "1000\n",
      "saving file multi_syn_txt_data/syn_nar_7/shuffled/data/syn_nar_7_shuffled_20.npy\n"
     ]
    },
    {
     "name": "stderr",
     "output_type": "stream",
     "text": [
      "100% (9903 of 9903) |####################| Elapsed Time: 0:00:08 Time:  0:00:08\n"
     ]
    },
    {
     "name": "stdout",
     "output_type": "stream",
     "text": [
      "(1774, 1101)\n",
      "(1774, 1000)\n",
      "(1774, 100)\n",
      "1000\n",
      "saving file multi_syn_txt_data/syn_nar_7/shuffled/data/syn_nar_7_shuffled_21.npy\n"
     ]
    },
    {
     "name": "stderr",
     "output_type": "stream",
     "text": [
      "100% (9902 of 9902) |####################| Elapsed Time: 0:00:10 Time:  0:00:10\n"
     ]
    },
    {
     "name": "stdout",
     "output_type": "stream",
     "text": [
      "(1774, 1101)\n",
      "(1774, 1000)\n",
      "(1774, 100)\n",
      "1000\n",
      "saving file multi_syn_txt_data/syn_nar_7/shuffled/data/syn_nar_7_shuffled_22.npy\n"
     ]
    },
    {
     "name": "stderr",
     "output_type": "stream",
     "text": [
      "100% (9904 of 9904) |####################| Elapsed Time: 0:00:10 Time:  0:00:10\n"
     ]
    },
    {
     "name": "stdout",
     "output_type": "stream",
     "text": [
      "(1774, 1101)\n",
      "(1774, 1000)\n",
      "(1774, 100)\n",
      "1000\n",
      "saving file multi_syn_txt_data/syn_nar_7/shuffled/data/syn_nar_7_shuffled_23.npy\n"
     ]
    },
    {
     "name": "stderr",
     "output_type": "stream",
     "text": [
      "100% (9911 of 9911) |####################| Elapsed Time: 0:00:11 Time:  0:00:11\n"
     ]
    },
    {
     "name": "stdout",
     "output_type": "stream",
     "text": [
      "(1774, 1101)\n",
      "(1774, 1000)\n",
      "(1774, 100)\n",
      "1000\n",
      "saving file multi_syn_txt_data/syn_nar_7/shuffled/data/syn_nar_7_shuffled_24.npy\n"
     ]
    },
    {
     "name": "stderr",
     "output_type": "stream",
     "text": [
      "100% (9903 of 9903) |####################| Elapsed Time: 0:00:09 Time:  0:00:09\n"
     ]
    },
    {
     "name": "stdout",
     "output_type": "stream",
     "text": [
      "(1774, 1101)\n",
      "(1774, 1000)\n",
      "(1774, 100)\n",
      "1000\n",
      "saving file multi_syn_txt_data/syn_nar_7/shuffled/data/syn_nar_7_shuffled_25.npy\n"
     ]
    },
    {
     "name": "stderr",
     "output_type": "stream",
     "text": [
      "100% (9902 of 9902) |####################| Elapsed Time: 0:00:10 Time:  0:00:10\n"
     ]
    },
    {
     "name": "stdout",
     "output_type": "stream",
     "text": [
      "(1774, 1101)\n",
      "(1774, 1000)\n",
      "(1774, 100)\n",
      "1000\n",
      "saving file multi_syn_txt_data/syn_nar_7/shuffled/data/syn_nar_7_shuffled_26.npy\n"
     ]
    },
    {
     "name": "stderr",
     "output_type": "stream",
     "text": [
      "100% (9903 of 9903) |####################| Elapsed Time: 0:00:09 Time:  0:00:09\n"
     ]
    },
    {
     "name": "stdout",
     "output_type": "stream",
     "text": [
      "(1774, 1101)\n",
      "(1774, 1000)\n",
      "(1774, 100)\n",
      "1000\n",
      "saving file multi_syn_txt_data/syn_nar_7/shuffled/data/syn_nar_7_shuffled_27.npy\n"
     ]
    },
    {
     "name": "stderr",
     "output_type": "stream",
     "text": [
      "100% (9909 of 9909) |####################| Elapsed Time: 0:00:10 Time:  0:00:10\n"
     ]
    },
    {
     "name": "stdout",
     "output_type": "stream",
     "text": [
      "(1774, 1101)\n",
      "(1774, 1000)\n",
      "(1774, 100)\n",
      "1000\n",
      "saving file multi_syn_txt_data/syn_nar_7/shuffled/data/syn_nar_7_shuffled_28.npy\n"
     ]
    },
    {
     "name": "stderr",
     "output_type": "stream",
     "text": [
      "100% (9901 of 9901) |####################| Elapsed Time: 0:00:12 Time:  0:00:12\n"
     ]
    },
    {
     "name": "stdout",
     "output_type": "stream",
     "text": [
      "(1774, 1101)\n",
      "(1774, 1000)\n",
      "(1774, 100)\n",
      "1000\n",
      "saving file multi_syn_txt_data/syn_nar_7/shuffled/data/syn_nar_7_shuffled_29.npy\n"
     ]
    },
    {
     "name": "stderr",
     "output_type": "stream",
     "text": [
      "100% (9907 of 9907) |####################| Elapsed Time: 0:00:11 Time:  0:00:11\n"
     ]
    },
    {
     "name": "stdout",
     "output_type": "stream",
     "text": [
      "(1774, 1101)\n",
      "(1774, 1000)\n",
      "(1774, 100)\n",
      "1000\n",
      "saving file multi_syn_txt_data/syn_nar_7/shuffled/data/syn_nar_7_shuffled_30.npy\n"
     ]
    },
    {
     "name": "stderr",
     "output_type": "stream",
     "text": [
      "100% (9901 of 9901) |####################| Elapsed Time: 0:00:09 Time:  0:00:09\n"
     ]
    },
    {
     "name": "stdout",
     "output_type": "stream",
     "text": [
      "(1774, 1101)\n",
      "(1774, 1000)\n",
      "(1774, 100)\n",
      "1000\n",
      "saving file multi_syn_txt_data/syn_nar_7/shuffled/data/syn_nar_7_shuffled_31.npy\n"
     ]
    },
    {
     "name": "stderr",
     "output_type": "stream",
     "text": [
      "100% (9904 of 9904) |####################| Elapsed Time: 0:00:07 Time:  0:00:07\n"
     ]
    },
    {
     "name": "stdout",
     "output_type": "stream",
     "text": [
      "(1774, 1101)\n",
      "(1774, 1000)\n",
      "(1774, 100)\n",
      "1000\n",
      "saving file multi_syn_txt_data/syn_nar_7/shuffled/data/syn_nar_7_shuffled_32.npy\n"
     ]
    },
    {
     "name": "stderr",
     "output_type": "stream",
     "text": [
      "100% (9908 of 9908) |####################| Elapsed Time: 0:00:10 Time:  0:00:10\n"
     ]
    },
    {
     "name": "stdout",
     "output_type": "stream",
     "text": [
      "(1774, 1101)\n",
      "(1774, 1000)\n",
      "(1774, 100)\n",
      "1000\n",
      "saving file multi_syn_txt_data/syn_nar_7/shuffled/data/syn_nar_7_shuffled_33.npy\n"
     ]
    },
    {
     "name": "stderr",
     "output_type": "stream",
     "text": [
      "100% (9908 of 9908) |####################| Elapsed Time: 0:00:08 Time:  0:00:08\n"
     ]
    },
    {
     "name": "stdout",
     "output_type": "stream",
     "text": [
      "(1774, 1101)\n",
      "(1774, 1000)\n",
      "(1774, 100)\n",
      "1000\n",
      "saving file multi_syn_txt_data/syn_nar_7/shuffled/data/syn_nar_7_shuffled_34.npy\n"
     ]
    },
    {
     "name": "stderr",
     "output_type": "stream",
     "text": [
      "100% (9904 of 9904) |####################| Elapsed Time: 0:00:10 Time:  0:00:10\n"
     ]
    },
    {
     "name": "stdout",
     "output_type": "stream",
     "text": [
      "(1774, 1101)\n",
      "(1774, 1000)\n",
      "(1774, 100)\n",
      "1000\n",
      "saving file multi_syn_txt_data/syn_nar_7/shuffled/data/syn_nar_7_shuffled_35.npy\n"
     ]
    },
    {
     "name": "stderr",
     "output_type": "stream",
     "text": [
      "100% (9901 of 9901) |####################| Elapsed Time: 0:00:08 Time:  0:00:08\n"
     ]
    },
    {
     "name": "stdout",
     "output_type": "stream",
     "text": [
      "(1774, 1101)\n",
      "(1774, 1000)\n",
      "(1774, 100)\n",
      "1000\n",
      "saving file multi_syn_txt_data/syn_nar_7/shuffled/data/syn_nar_7_shuffled_36.npy\n"
     ]
    },
    {
     "name": "stderr",
     "output_type": "stream",
     "text": [
      "100% (9906 of 9906) |####################| Elapsed Time: 0:00:17 Time:  0:00:17\n"
     ]
    },
    {
     "name": "stdout",
     "output_type": "stream",
     "text": [
      "(1774, 1101)\n",
      "(1774, 1000)\n",
      "(1774, 100)\n",
      "1000\n",
      "saving file multi_syn_txt_data/syn_nar_7/shuffled/data/syn_nar_7_shuffled_37.npy\n"
     ]
    },
    {
     "name": "stderr",
     "output_type": "stream",
     "text": [
      "100% (9905 of 9905) |####################| Elapsed Time: 0:00:11 Time:  0:00:11\n"
     ]
    },
    {
     "name": "stdout",
     "output_type": "stream",
     "text": [
      "(1774, 1101)\n",
      "(1774, 1000)\n",
      "(1774, 100)\n",
      "1000\n",
      "saving file multi_syn_txt_data/syn_nar_7/shuffled/data/syn_nar_7_shuffled_38.npy\n"
     ]
    },
    {
     "name": "stderr",
     "output_type": "stream",
     "text": [
      "100% (9902 of 9902) |####################| Elapsed Time: 0:00:10 Time:  0:00:10\n"
     ]
    },
    {
     "name": "stdout",
     "output_type": "stream",
     "text": [
      "(1774, 1101)\n",
      "(1774, 1000)\n",
      "(1774, 100)\n",
      "1000\n",
      "saving file multi_syn_txt_data/syn_nar_7/shuffled/data/syn_nar_7_shuffled_39.npy\n"
     ]
    }
   ],
   "source": [
    "for nar_text in range(5,8): #8\n",
    "    current_file = \"syn_nar_texts/syn_narr_%d.npy\" % (nar_text)\n",
    "    print(current_file)\n",
    "    inputDataTesting=np.load(current_file)\n",
    "    print(inputDataTesting.shape)\n",
    "    current_file = \"syn_nar_texts/syn_narr_gt_%d.npy\" % (nar_text)\n",
    "    ground_truth_sums = np.load(current_file)\n",
    "    print(ground_truth_sums)    \n",
    "###################################################################\n",
    "    # see if we are shuffling\n",
    "    if do_shuffle:\n",
    "        random.shuffle(inputDataTesting)\n",
    "        random.shuffle(inputDataTesting)\n",
    "        random.shuffle(inputDataTesting)\n",
    "\n",
    "##########   now run the reservoirs for each of the input texts\n",
    "\n",
    "    for res_seed in range(40): #40\n",
    "    # set the seed\n",
    "        np.random.seed(res_seed)\n",
    "\n",
    "        # set up the reservoir\n",
    "        # leakingRate=0.2 changing too fast, mutliple with 0.05; changed\n",
    "        esn = PredictionESN(n_input=vectorDim, n_output=vectorDim, n_reservoir=numNode, leakingRate=leak_rate, regressionParameters=[1e-2], solver=\"lsqr\", feedback=False)\n",
    "\n",
    "        # train the reervoir with a new seed\n",
    "        esn.fit(in_small, out_small, transientTime=\"Auto\", verbose=1)\n",
    "\n",
    "\n",
    "\n",
    "        # modify the reservoir topology for input\n",
    "        if mod_input:\n",
    "            for i in range(700):\n",
    "                for j in range(101):\n",
    "                    esn._WInput[i+300,j] = 0\n",
    "            esn._WInput=esn._WInput*5\n",
    "\n",
    "        #radical _W modification\n",
    "        if mod_topo:\n",
    "            for i in range(1000):\n",
    "                for j in range(1000):\n",
    "                    temp_W[i,j] = esn._W[i,j]\n",
    "            for i in range(1000):\n",
    "                for j in range(1000):\n",
    "                    esn._W[i,j]=0\n",
    "            for i in range(esn._W.shape[0]):\n",
    "                for j in range(esn._W.shape[1]):\n",
    "                    if abs(i-j) <= breadth:\n",
    "                        esn._W[i,j] = ((breadth-abs(i-j))/breadth)**expon*temp_W[i,j]* (1 + i * gradient)*gain\n",
    "        if radical:\n",
    "            for i in range(100,200):\n",
    "                for j in range(800,900):\n",
    "                    esn._W[j,i] = temp_W[j,i]*grad2\n",
    "\n",
    "        if radical_bis:\n",
    "            for i in range(100,200):\n",
    "                for j in range(800,900):\n",
    "                    esn._W[i,j] = temp_W[j,i]*grad2\n",
    "\n",
    "\n",
    "        #run the reservoir\n",
    "        reservoirStatesBuffer = np.empty((0,numNode))\n",
    "        prediction,reservoirStatesBuffer  = esn.predict(inputDataTesting)\n",
    "        reservoirStatesBuffer = reservoirStatesBuffer.T\n",
    "        print(reservoirStatesBuffer.shape)\n",
    "        reservoirStatesBuffer = reservoirStatesBuffer[:,101:]\n",
    "        print(reservoirStatesBuffer.shape)\n",
    "        print(prediction.shape)\n",
    "\n",
    "        # set the similarity matrix\n",
    "        #sim_matrix1 = np.empty([len(reservoirStatesBuffer),len(reservoirStatesBuffer)])\n",
    "\n",
    "        print(len(reservoirStatesBuffer[1]))\n",
    "\n",
    "        reservoirStatesBuffer1 = reservoirStatesBuffer\n",
    "\n",
    "        #  multi_syn_txt_data\\syn_nar_0\\intact\\data\n",
    "        file_string = \"multi_syn_txt_data/syn_nar_%d/%s/data/syn_nar_%d_%s_%d.npy\" % (nar_text,intact_status_txt,nar_text,intact_status_txt,res_seed)\n",
    "        print(\"saving file\", file_string)\n",
    "        np.save(file_string,reservoirStatesBuffer)\n",
    "\n",
    "        #plot figure to verigy\n",
    "        resn = 50\n",
    "        begin=0\n",
    "        end=2200\n",
    "        rbegin = 900\n",
    "        rend = 910\n",
    "        fig= plt.figure(figsize=(10,12))\n",
    "\n",
    "        fig.suptitle(\"syn_nar_%d_%s_seed_%d\" % (nar_text,intact_status_txt,res_seed))\n",
    "\n",
    "        plt.subplot(611)\n",
    "        plt.plot( reservoirStatesBuffer1[:,100:105])\n",
    "        plt.title('Hierarchical 100:105')\n",
    "\n",
    "        plt.subplot(612)\n",
    "        plt.plot( reservoirStatesBuffer1[:,300:305])\n",
    "        plt.title('Hierarchical 300:305')\n",
    "\n",
    "        plt.subplot(613)\n",
    "        plt.plot( reservoirStatesBuffer1[:,500:505])\n",
    "        plt.title('Hierarchical 500:505')\n",
    "\n",
    "        plt.subplot(614)\n",
    "        plt.plot( reservoirStatesBuffer1[:,700:705])\n",
    "        plt.title('Hierarchical 700:705')\n",
    "\n",
    "        plt.subplot(615)\n",
    "        plt.plot( reservoirStatesBuffer1[:,900:905])\n",
    "        plt.title('Hierarchical 900:905')\n",
    "\n",
    "        plt.subplot(616)\n",
    "        plt.plot( inputDataTesting[:,:])\n",
    "        plt.title('Input')\n",
    "\n",
    "        #fig.tight_layout()\n",
    "        plt.savefig(\"multi_syn_txt_data/syn_nar_%d/%s/figures/syn_nar_%d_%s_%d.png\" % (nar_text,intact_status_txt,nar_text,intact_status_txt,res_seed))\n",
    "\n",
    "        fig= plt.figure(figsize=(10,8))\n",
    "        sns.heatmap(np.corrcoef(reservoirStatesBuffer[:,:]),cmap='viridis')#sns.heatmap(sim_matrix, square=True)\n",
    "        for i in ground_truth_sums:\n",
    "            plt.plot(i, i,marker=\"o\", markersize=8, markeredgecolor=\"red\", markerfacecolor=\"red\")        \n",
    "        plt.savefig(\"multi_syn_txt_data/syn_nar_%d/%s/figures/syn_nar_%d_%s_cor_%d.png\" % (nar_text,intact_status_txt,nar_text,intact_status_txt,res_seed))\n",
    "\n",
    "        \n",
    "        \n",
    "        plt.close('all')    \n"
   ]
  },
  {
   "cell_type": "code",
   "execution_count": 9,
   "metadata": {},
   "outputs": [
    {
     "ename": "SyntaxError",
     "evalue": "'break' outside loop (<ipython-input-9-6aaf1f276005>, line 4)",
     "output_type": "error",
     "traceback": [
      "\u001b[1;36m  File \u001b[1;32m\"<ipython-input-9-6aaf1f276005>\"\u001b[1;36m, line \u001b[1;32m4\u001b[0m\n\u001b[1;31mSyntaxError\u001b[0m\u001b[1;31m:\u001b[0m 'break' outside loop\n"
     ]
    }
   ],
   "source": [
    "break"
   ]
  },
  {
   "cell_type": "code",
   "execution_count": null,
   "metadata": {},
   "outputs": [],
   "source": [
    "plt.imshow(esn._W,cmap='seismic')\n",
    "plt.colorbar()"
   ]
  },
  {
   "cell_type": "code",
   "execution_count": null,
   "metadata": {
    "scrolled": true
   },
   "outputs": [],
   "source": [
    "plt.imshow(esn._WInput,cmap='seismic' )"
   ]
  },
  {
   "cell_type": "code",
   "execution_count": null,
   "metadata": {},
   "outputs": [],
   "source": [
    "resn = 50\n",
    "begin=0\n",
    "end=680\n",
    "rbegin = 900\n",
    "rend = 910\n",
    "fig= plt.figure(figsize=(10,12))\n",
    "\n",
    "plt.subplot(511)\n",
    "plt.plot( reservoirStatesBuffer1[begin:end,100:105])\n",
    "plt.title('Hierarchical 100:105')\n",
    "\n",
    "plt.subplot(512)\n",
    "plt.plot( reservoirStatesBuffer1[begin:end,300:305])\n",
    "plt.title('Hierarchical 300:305')\n",
    "\n",
    "plt.subplot(513)\n",
    "plt.plot( reservoirStatesBuffer1[begin:end,500:505])\n",
    "plt.title('Hierarchical 500:505')\n",
    "\n",
    "plt.subplot(514)\n",
    "plt.plot( reservoirStatesBuffer1[begin:end,700:705])\n",
    "plt.title('Hierarchical 700:705')\n",
    "\n",
    "plt.subplot(515)\n",
    "plt.plot( reservoirStatesBuffer1[begin:end,900:905])\n",
    "plt.title('Hierarchical 900:905')\n",
    "\n",
    "\n",
    "fig.tight_layout()\n",
    "\n",
    "#plt.savefig('temporal_hierarchy.png')"
   ]
  },
  {
   "cell_type": "code",
   "execution_count": null,
   "metadata": {},
   "outputs": [],
   "source": [
    "print(reservoirStatesBuffer1.shape)"
   ]
  },
  {
   "cell_type": "code",
   "execution_count": null,
   "metadata": {},
   "outputs": [],
   "source": [
    "plt.plot( sm.tsa.stattools.ccf(reservoirStatesBuffer1[:,300], reservoirStatesBuffer1[:,350])[:20],linewidth=2 )\n",
    "plt.plot( sm.tsa.stattools.ccf(reservoirStatesBuffer1[:,300], reservoirStatesBuffer1[:,450])[:20],linewidth=4 )\n",
    "plt.plot( sm.tsa.stattools.ccf(reservoirStatesBuffer1[:,300], reservoirStatesBuffer1[:,550])[:20],linewidth=8 )"
   ]
  },
  {
   "cell_type": "code",
   "execution_count": null,
   "metadata": {},
   "outputs": [],
   "source": [
    "reservoirStatesBuffer1.shape"
   ]
  },
  {
   "cell_type": "code",
   "execution_count": null,
   "metadata": {},
   "outputs": [],
   "source": [
    "areas = 20\n",
    "factor = int(numNode/areas)\n",
    "roi_data = np.zeros([areas,reservoirStatesBuffer1.shape[0]])\n",
    "print(roi_data.shape)\n",
    "print(factor)"
   ]
  },
  {
   "cell_type": "code",
   "execution_count": null,
   "metadata": {},
   "outputs": [],
   "source": [
    "for i in range(areas): # create 10 sub areas\n",
    "    for j in range (reservoirStatesBuffer1.shape[0]): #for each timestep\n",
    "        roi_data[i,j] = np.mean(reservoirStatesBuffer1[j,i*factor:(i+1)*factor])"
   ]
  },
  {
   "cell_type": "code",
   "execution_count": null,
   "metadata": {},
   "outputs": [],
   "source": [
    "reservoirStatesBuffer1[j,i*factor:(i+1)*factor]"
   ]
  },
  {
   "cell_type": "code",
   "execution_count": null,
   "metadata": {},
   "outputs": [],
   "source": [
    "plt.plot(roi_data.T)\n",
    "\n",
    "plt.plot()"
   ]
  },
  {
   "cell_type": "code",
   "execution_count": null,
   "metadata": {},
   "outputs": [],
   "source": [
    "plt.plot(roi_data[8:15,50:150].T)\n",
    "\n",
    "plt.plot()"
   ]
  },
  {
   "cell_type": "code",
   "execution_count": null,
   "metadata": {},
   "outputs": [],
   "source": [
    "source = 6\n",
    "plt.plot( sm.tsa.stattools.ccf(roi_data[source,50:150].T, roi_data[8,50:150].T)[:10],linewidth=1 )\n",
    "plt.plot( sm.tsa.stattools.ccf(roi_data[source,50:150].T, roi_data[10,50:150].T)[:10],linewidth=2 )\n",
    "plt.plot( sm.tsa.stattools.ccf(roi_data[source,50:150].T, roi_data[12,50:150].T)[:10],linewidth=3 )\n",
    "plt.plot( sm.tsa.stattools.ccf(roi_data[source,50:150].T, roi_data[14,50:150].T)[:10],linewidth=4 )\n",
    "plt.plot( sm.tsa.stattools.ccf(roi_data[source,50:150].T, roi_data[16,50:150].T)[:10],linewidth=5 )\n",
    "plt.plot( sm.tsa.stattools.ccf(roi_data[source,50:150].T, roi_data[18,50:150].T)[:10],linewidth=6 )\n",
    "#plt.plot( sm.tsa.stattools.ccf(roi_data[source,50:150].T, roi_data[19,50:150].T)[:10],linewidth=7 )"
   ]
  },
  {
   "cell_type": "code",
   "execution_count": null,
   "metadata": {},
   "outputs": [],
   "source": [
    "fig, [ax1, ax2] = plt.subplots(2, 1, sharex=True)\n",
    "ax1.xcorr(reservoirStatesBuffer1[700,50:150].T, reservoirStatesBuffer1[800,50:150].T, usevlines=True, maxlags=50, normed=True)\n",
    "ax1.grid(True)\n",
    "\n",
    "ax2.acorr(reservoirStatesBuffer1[16,50:150].T, usevlines=True, normed=True, maxlags=50)\n",
    "ax2.grid(True)\n",
    "\n",
    "plt.show()"
   ]
  },
  {
   "cell_type": "code",
   "execution_count": null,
   "metadata": {},
   "outputs": [],
   "source": [
    "fig, [ax1, ax2] = plt.subplots(2, 1, sharex=True)\n",
    "ax1.xcorr(roi_data[7,50:150].T, roi_data[16,50:150].T, usevlines=False, maxlags=50, normed=True)\n",
    "ax1.grid(True)\n",
    "\n",
    "ax2.acorr(roi_data[16,50:150].T, usevlines=False, normed=True, maxlags=50)\n",
    "ax2.grid(True)\n",
    "\n",
    "plt.show()\n",
    "\n",
    "\n",
    "\n",
    "\n"
   ]
  },
  {
   "cell_type": "code",
   "execution_count": null,
   "metadata": {},
   "outputs": [],
   "source": [
    "wiki2vec.get_word_vector(\"aezr\")"
   ]
  },
  {
   "cell_type": "code",
   "execution_count": null,
   "metadata": {},
   "outputs": [],
   "source": [
    "word = \"qsdf\"\n",
    "if '<Word sangane>' in wiki2vec.dictionary:\n",
    "    print(\"great\")"
   ]
  },
  {
   "cell_type": "code",
   "execution_count": null,
   "metadata": {},
   "outputs": [],
   "source": [
    "for token in wiki2vec.dictionary:\n",
    "    print(token)"
   ]
  },
  {
   "cell_type": "code",
   "execution_count": null,
   "metadata": {},
   "outputs": [],
   "source": [
    "if wiki2vec.get_word('qsdfqsdf'):\n",
    "    print(\"great\")"
   ]
  },
  {
   "cell_type": "code",
   "execution_count": null,
   "metadata": {},
   "outputs": [],
   "source": [
    "###### "
   ]
  }
 ],
 "metadata": {
  "kernelspec": {
   "display_name": "Python 3",
   "language": "python",
   "name": "python3"
  },
  "language_info": {
   "codemirror_mode": {
    "name": "ipython",
    "version": 3
   },
   "file_extension": ".py",
   "mimetype": "text/x-python",
   "name": "python",
   "nbconvert_exporter": "python",
   "pygments_lexer": "ipython3",
   "version": "3.7.6"
  }
 },
 "nbformat": 4,
 "nbformat_minor": 1
}
