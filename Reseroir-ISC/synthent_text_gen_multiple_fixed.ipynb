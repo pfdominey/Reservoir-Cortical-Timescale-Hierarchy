{
 "cells": [
  {
   "cell_type": "code",
   "execution_count": 1,
   "metadata": {},
   "outputs": [
    {
     "name": "stdout",
     "output_type": "stream",
     "text": [
      "intact\n"
     ]
    }
   ],
   "source": [
    "mod_input=True\n",
    "mod_topo=True\n",
    "leak_rate = 0.2\n",
    "gradient= 0.00075# 0.0005\n",
    "gain = 1.75\n",
    "radical=False\n",
    "radical_bis=False\n",
    "grad2=1.25\n",
    "breadth=600\n",
    "expon=3\n",
    "\n",
    "remove_stop_words = False\n",
    "do_shuffle = False\n",
    "\n",
    "\n",
    "if do_shuffle:\n",
    "    intact_status_txt = \"shuffled\"\n",
    "else:\n",
    "    intact_status_txt = \"intact\"\n",
    "\n",
    "print(intact_status_txt)\n",
    "# baseline with slow leak rate"
   ]
  },
  {
   "cell_type": "code",
   "execution_count": 2,
   "metadata": {},
   "outputs": [
    {
     "name": "stderr",
     "output_type": "stream",
     "text": [
      "[nltk_data] Downloading package stopwords to\n",
      "[nltk_data]     C:\\Users\\PeterDell\\AppData\\Roaming\\nltk_data...\n",
      "[nltk_data]   Package stopwords is already up-to-date!\n"
     ]
    }
   ],
   "source": [
    "import nltk\n",
    "nltk.download('stopwords')\n",
    "from nltk.corpus import stopwords"
   ]
  },
  {
   "cell_type": "code",
   "execution_count": 3,
   "metadata": {},
   "outputs": [],
   "source": [
    "# Import package\n",
    "import wikipedia# Specify the title of the Wikipedia page\n",
    "import random\n",
    "import matplotlib.pyplot as plt\n",
    "import json\n"
   ]
  },
  {
   "cell_type": "code",
   "execution_count": 4,
   "metadata": {},
   "outputs": [],
   "source": [
    "import urllib.request\n",
    "import requests\n",
    "import numpy as np\n",
    "import seaborn as sns"
   ]
  },
  {
   "cell_type": "code",
   "execution_count": 5,
   "metadata": {},
   "outputs": [
    {
     "name": "stderr",
     "output_type": "stream",
     "text": [
      "Using Numpy backend.\n"
     ]
    }
   ],
   "source": [
    "#import cupy as cp\n",
    "from easyesn.optimizers import GradientOptimizer\n",
    "from easyesn import PredictionESN\n",
    "from easyesn.optimizers import GridSearchOptimizer\n",
    "from easyesn import helper as hlp\n",
    "import numpy as np\n",
    "from wikipedia2vec import Wikipedia2Vec"
   ]
  },
  {
   "cell_type": "code",
   "execution_count": 6,
   "metadata": {},
   "outputs": [],
   "source": [
    "wiki2vec = Wikipedia2Vec.load('C:/Users/PeterDell/Google Drive/GoogleWIP/People/Uchida/PaperMethods/UchidaPrograms/enwiki_20180420_100d.pkl')\n"
   ]
  },
  {
   "cell_type": "code",
   "execution_count": 7,
   "metadata": {},
   "outputs": [],
   "source": [
    "wiki = urllib.request.urlopen('https://en.wikipedia.org/wiki/Special:Random')\n",
    "response=requests.get('https://en.wikipedia.org/wiki/Special:Random')\n"
   ]
  },
  {
   "cell_type": "code",
   "execution_count": 8,
   "metadata": {},
   "outputs": [
    {
     "name": "stdout",
     "output_type": "stream",
     "text": [
      "https://en.wikipedia.org/wiki/Jimmy_Edgar\n"
     ]
    }
   ],
   "source": [
    "print(response.url)"
   ]
  },
  {
   "cell_type": "code",
   "execution_count": 9,
   "metadata": {},
   "outputs": [],
   "source": [
    "# Import package\n",
    "import wikipedia# Specify the title of the Wikipedia page"
   ]
  },
  {
   "cell_type": "code",
   "execution_count": 10,
   "metadata": {},
   "outputs": [
    {
     "name": "stdout",
     "output_type": "stream",
     "text": [
      "Louvet River\n"
     ]
    }
   ],
   "source": [
    "item = wikipedia.random(pages=1)\n",
    "print(item)"
   ]
  },
  {
   "cell_type": "code",
   "execution_count": 11,
   "metadata": {},
   "outputs": [
    {
     "name": "stdout",
     "output_type": "stream",
     "text": [
      "7\n"
     ]
    }
   ],
   "source": [
    "rand_temp = random.randint(0,10)\n",
    "print(rand_temp)"
   ]
  },
  {
   "cell_type": "code",
   "execution_count": 12,
   "metadata": {},
   "outputs": [
    {
     "name": "stdout",
     "output_type": "stream",
     "text": [
      "ok\n",
      "-1\n",
      "σ\n",
      "963\n"
     ]
    }
   ],
   "source": [
    "test =  \"\\u03c3\"\n",
    "if test.find('\\\\') ==-1:\n",
    "    print(\"ok\")\n",
    "print(test.find('u'))    \n",
    "print(test)\n",
    "print(ord(test))"
   ]
  },
  {
   "cell_type": "code",
   "execution_count": 13,
   "metadata": {},
   "outputs": [
    {
     "data": {
      "text/plain": [
       "False"
      ]
     },
     "execution_count": 13,
     "metadata": {},
     "output_type": "execute_result"
    }
   ],
   "source": [
    "all(ord(char) < 128 for char in test)"
   ]
  },
  {
   "cell_type": "code",
   "execution_count": 14,
   "metadata": {},
   "outputs": [
    {
     "name": "stdout",
     "output_type": "stream",
     "text": [
      "(0, 100)\n"
     ]
    }
   ],
   "source": [
    "vectorDim = 100\n",
    "inputDataTesting = np.empty((0,vectorDim))\n",
    "print(inputDataTesting.shape)\n",
    "inputDataText = []\n"
   ]
  },
  {
   "cell_type": "code",
   "execution_count": 15,
   "metadata": {
    "scrolled": true
   },
   "outputs": [
    {
     "name": "stdout",
     "output_type": "stream",
     "text": [
      "(0, 100)\n",
      "\n",
      "\n",
      " 0 *******************   : Jarosław Kaczyński\n",
      "aleksander 1 0 born 8 1 18 9 2 june 10 3 is 12 4 a 13 5 polish 14 6 politician 15 7 who 16 8 is 17 9 currently 18 10 serving 19 11 as 20 12 leader 21 13 of 22 14 the 23 15 law 24 16 and 25 17 justice 26 18 party 27 19 by 29 20 its 30 21 polish 31 22 acronym 32 23 which 34 24 he 35 25 in 37 26 2001 38 27 with 39 28 his 40 29 twin 41 30 lech 43 31 who 45 32 served 46 33 as 47 34 president 48 35 of 49 36 poland 50 37 until 51 38 his 52 39 death 53 40 in 54 41 running 56 42 for 57 43 he 59 44 served 60 45 as 61 46 the 62 47 prime 63 48 minister 64 49 of 65 50 poland 66 51 from 67 52 july 68 53 2006 69 54 to 70 55 november 71 56 while 73 57 his 74 58 brother 75 59 was 76 60 the 77 61 president 78 62 of 79 63 after 81 64 electoral 83 65 defeat 84 66 in 85 67 was 88 68 the 89 69 main 90 70 leader 91 71 of 92 72 the 93 73 opposition 94 74 during 95 75 civic 96 76 following 99 77 the 100 78 death 101 79 of 102 80 his 103 81 brother 104 82 in 105 83 a 106 84 plane 107 85 ran 111 86 \n",
      "\n",
      " 1 *******************   : Cirié\n",
      "or 6 0 is 8 1 a 9 2 comune 10 3 in 12 4 the 13 5 metropolitan 14 6 city 15 7 of 16 8 turin 17 9 in 18 10 the 19 11 italian 20 12 region 21 13 located 23 14 about 24 15 20 25 16 kilometres 26 17 northwest 29 18 of 30 19 borders 33 20 the 34 21 following 35 22 san 38 23 carlo 39 24 san 41 25 maurizio 42 26 canavese 43 27 and 44 28 geography 47 29 about 50 30 18 51 31 km 52 32 northwest 53 33 of 54 34 is 56 35 located 57 36 at 58 37 the 59 38 end 60 39 of 61 40 the 62 41 lanzo 63 42 close 65 43 to 66 44 a 67 45 plateau 68 46 called 69 47 a 71 48 celtic 72 49 origin 73 50 term 74 51 indicating 75 52 a 76 53 the 78 54 area 79 55 is 80 56 close 81 57 to 82 58 the 83 59 stura 84 60 di 85 61 a 87 62 creek 88 63 which 89 64 flows 90 65 west 91 66 northwest 92 67 of 93 68 the 94 69 history 97 70 the 99 71 area 100 72 around 101 73 since 103 74 about 104 75 the 105 76 third 106 77 century 107 78 was 109 79 inhabited 110 80 by 111 81 the 112 82 a 114 83 celtic 115 84 tribe 116 85 before 118 86 the 119 87 roman 120 88 according 122 89 to 123 90 this 125 91 area 126 92 was 127 93 covered 128 94 in 129 95 thick 130 96 with 132 97 very 133 98 few 134 99 some 136 100 small 137 101 villages 138 102 and 139 103 sparse 140 104 tracks 141 105 linking 142 106 the 143 107 in 145 108 143 146 109 the 148 110 led 150 111 by 151 112 consul 152 113 appius 153 114 claudius 154 115 pulcher 155 116 143 157 117 moved 159 118 against 160 119 the 161 120 tribes 162 121 living 163 122 in 164 123 the 165 124 orco 166 125 and 167 126 dora 168 127 baltea 169 128 to 171 129 open 172 130 a 173 131 way 174 132 towards 175 133 elvetia 176 134 \n",
      "\n",
      " 2 *******************   : 1953 New York Central Railroad accident\n",
      "the 0 0 1953 1 1 new 2 2 york 3 3 central 4 4 railroad 5 5 accident 6 6 occurred 7 7 on 8 8 the 9 9 mainline 11 10 miles 13 11 east 14 12 of 15 13 ohio 17 14 at 18 15 on 21 16 march 22 17 the 25 18 accident 26 19 sequence 27 20 began 28 21 when 29 22 an 30 23 improperly 31 24 secured 32 25 load 33 26 of 34 27 large 35 28 pipes 36 29 \n",
      "\n",
      " 3 *******************   : Grant Guilford\n",
      "william 0 0 grant 1 1 guilford 2 2 is 3 3 a 4 4 new 5 5 zealand 6 6 academic 7 7 and 8 8 specialising 10 9 in 11 10 veterinary 12 11 guilford 14 12 was 15 13 the 16 14 former 17 15 at 19 16 victoria 20 17 university 21 18 of 22 19 academic 25 20 career 26 21 after 28 22 a 29 23 bachelor 30 24 of 31 25 veterinary 32 26 science 33 27 and 34 28 bachelor 35 29 of 36 30 philosophy 37 31 at 38 32 massey 39 33 guilford 41 34 completed 42 35 a 43 36 phd 44 37 in 45 38 nutrition 46 39 from 47 40 the 48 41 university 49 42 of 50 43 the 53 44 title 54 45 of 55 46 his 56 47 1993 57 48 thesis 58 49 was 59 50 experimental 60 51 studies 61 52 of 62 53 gastrointestinal 63 54 injury 65 55 and 66 56 food 67 57 sensitivity 68 58 in 69 59 the 71 60 completion 72 61 of 73 62 his 74 63 guilford 76 64 worked 77 65 at 78 66 the 79 67 university 80 68 of 81 69 missouri 82 70 and 83 71 the 84 72 university 85 73 of 86 74 before 89 75 returning 90 76 to 91 77 new 92 78 zealand 93 79 and 94 80 massey 95 81 where 97 82 he 98 83 studied 99 84 food 100 85 allergies 101 86 in 102 87 domestic 103 88 was 105 89 first 106 90 author 107 91 on 108 92 the 109 93 third 110 94 edition 111 95 of 112 96 the 113 97 veterinary 114 98 textbook 115 99 small 117 100 animal 118 101 according 120 102 to 121 103 the 122 104 scopus 123 105 citation 124 106 he 126 107 has 127 108 an 128 109 of 130 110 19 131 111 with 132 112 52 134 113 publication 135 114 and 136 115 as 139 116 of 140 117 april 141 118 university 144 119 administrative 145 120 career 146 121 guilford 148 122 served 149 123 for 150 124 10 151 125 years 152 126 as 153 127 the 154 128 foundation 155 129 head 156 130 of 157 131 the 158 132 institute 159 133 of 160 134 animal 162 135 and 163 136 biomedical 164 137 sciences 165 138 at 166 139 massey 167 140 the 169 141 institute 170 142 became 171 143 \n",
      "\n",
      " 4 *******************   : Cary Tennis\n",
      "cary 0 0 tennis 2 1 september 4 2 an 7 3 american 8 4 author 9 5 and 10 6 he 12 7 is 13 8 best 14 9 known 15 10 for 16 11 his 17 12 work 18 13 as 19 14 an 20 15 advice 21 16 columnist 22 17 in 23 18 his 24 19 column 25 20 you 27 21 on 29 22 the 30 23 website 31 24 which 33 25 ran 34 26 for 35 27 twelve 36 28 years 37 29 critic 39 30 siobhan 40 31 welch 41 32 said 42 33 of 43 34 him 44 35 tennis 46 36 has 47 37 resurrected 48 38 the 49 39 advice 50 40 column 51 41 into 52 42 a 53 43 even 55 44 literary 57 45 he 59 46 is 60 47 the 61 48 with 64 49 a 65 50 style 66 51 more 67 52 reminiscent 68 53 of 69 54 an 70 55 ruminations 72 56 than 73 57 the 74 58 pat 75 59 responses 76 60 usually 77 61 found 78 62 in 79 63 tennis 81 64 graduated 82 65 cum 83 66 laude 84 67 from 85 68 the 86 69 university 87 70 of 88 71 miami 89 72 in 90 73 1976 91 74 with 92 75 a 93 76 in 95 77 literature 96 78 and 97 79 journalism 98 80 and 99 81 entered 100 82 the 101 83 masters 102 84 program 103 85 in 104 86 creative 105 87 writing 106 88 at 107 89 san 108 90 francisco 109 91 state 110 92 university 111 93 in 112 94 he 114 95 passed 115 96 his 116 97 oral 117 98 examinations 118 99 william 121 100 faulkner 122 101 and 123 102 vladimir 124 103 and 126 104 had 127 105 his 128 106 creative 129 107 thesis 130 108 approved 131 109 riverwood 133 110 house 134 111 and 135 112 other 136 113 but 138 114 he 139 115 never 140 116 completed 141 117 the 142 118 degree 143 119 tennis 146 120 worked 147 121 in 148 122 the 149 123 mailroom 150 124 of 151 125 western 152 126 electric 153 127 \n",
      "\n",
      " 5 *******************   : Child's Play (franchise)\n",
      "play 1 0 known 3 1 colloquially 4 2 as 5 3 is 7 4 an 8 5 american 9 6 horror 10 7 slasher 11 8 media 12 9 franchise 13 10 created 14 11 by 15 12 don 16 13 the 18 14 films 19 15 mainly 20 16 focus 21 17 on 22 18 chucky 23 19 by 25 20 brad 26 21 dourif 27 22 in 28 23 the 29 24 original 30 25 films 31 26 and 32 27 television 33 28 and 35 29 mark 36 30 hamill 37 31 in 38 32 the 39 33 a 41 34 notorious 42 35 serial 43 36 killer 44 37 who 45 38 frequently 46 39 escapes 47 40 death 48 41 by 49 42 performing 50 43 a 51 44 voodoo 52 45 ritual 53 46 to 54 47 transfer 55 48 his 56 49 soul 57 50 into 58 51 a 59 52 the 63 53 original 64 54 was 68 55 released 69 56 on 70 57 november 71 58 the 74 59 film 75 60 has 76 61 spawned 77 62 six 78 63 a 80 64 television 81 65 a 83 66 comic 85 67 a 87 68 video 88 69 and 90 70 the 93 71 and 96 72 fourth 97 73 films 98 74 were 99 75 box 100 76 office 101 77 successes 102 78 with 103 79 all 104 80 of 105 81 the 106 82 films 107 83 earning 108 84 over 109 85 million 111 86 including 113 87 revenues 114 88 from 115 89 sales 116 90 of 117 91 vod 120 92 and 121 93 the 123 94 franchise 124 95 has 125 96 generated 126 97 over 127 98 it 130 99 also 131 100 won 132 101 a 133 102 saturn 134 103 award 135 104 for 136 105 best 137 106 horror 138 107 the 140 108 film 141 109 series 142 110 originally 143 111 started 144 112 out 145 113 as 146 114 straight 147 115 horror 148 116 with 149 117 the 150 118 first 151 119 installment 152 120 which 155 121 \n",
      "\n",
      " 6 *******************   : Kameko Tarnez\n"
     ]
    },
    {
     "name": "stdout",
     "output_type": "stream",
     "text": [
      "kameko 0 0 is 2 1 an 3 2 american 4 3 world 5 4 soul 7 5 and 11 6 feature 12 7 film 13 8 he 15 9 has 16 10 collaborated 17 11 with 18 12 many 19 13 icons 20 14 such 21 15 as 22 16 michael 23 17 erykah 25 18 toni 27 19 grace 29 20 rita 31 21 vanessa 33 22 williams 34 23 and 35 24 kameko 37 25 is 38 26 the 39 27 owner 40 28 of 41 29 a 44 30 artist 46 31 production 48 32 house 49 33 boutique 51 34 record 52 35 the 54 36 company 55 37 was 56 38 formed 57 39 by 58 40 \n",
      "\n",
      " 7 *******************   : 14th Quartermaster Detachment\n",
      "the 0 0 14th 1 1 quartermaster 2 2 is 4 3 a 5 4 united 6 5 states 7 6 army 8 7 reserve 9 8 water 10 9 purification 11 10 unit 12 11 stationed 13 12 in 14 13 during 17 14 operation 18 15 desert 19 16 storm 20 17 the 21 18 detachment 22 19 lost 23 20 13 24 21 soldiers 25 22 killed 26 23 and 27 24 \n",
      "\n",
      " 8 *******************   : Steam Controller\n",
      "the 0 0 steam 1 1 controller 2 2 is 3 3 a 4 4 game 5 5 controller 6 6 developed 7 7 by 8 8 valve 9 9 for 10 10 use 11 11 with 12 12 personal 13 13 computers 14 14 running 15 15 steam 16 16 on 17 17 smartphones 21 18 or 22 19 the 24 20 controller 25 21 was 26 22 designed 27 23 not 28 24 only 29 25 for 30 26 games 31 27 developed 32 28 for 33 29 controller 34 30 but 36 31 also 37 32 for 38 33 games 39 34 traditionally 40 35 played 41 36 with 42 37 keyboard 43 38 and 44 39 mouse 45 40 controls 46 41 so 47 42 that 48 43 they 49 44 can 50 45 be 51 46 played 52 47 through 53 48 the 54 49 it 56 50 was 57 51 released 58 52 in 59 53 november 60 54 2015 61 55 along 62 56 with 63 57 steam 65 58 machine 66 59 and 67 60 discontinued 68 61 in 69 62 november 70 63 features 73 64 the 75 65 steam 76 66 controller 77 67 features 78 68 two 79 69 clickable 80 70 trackpads 81 71 opposed 83 72 to 84 73 the 85 74 more 86 75 typical 87 76 thumbsticks 88 77 on 89 78 modern 90 79 console 91 80 and 93 81 fourteen 94 82 including 96 83 and 99 84 undergrip 100 85 the 102 86 trackpads 103 87 include 104 88 haptic 105 89 chris 107 90 kohler 108 91 of 109 92 \n",
      "\n",
      " 9 *******************   : The Script (album)\n",
      "the 0 0 script 1 1 is 2 2 the 3 3 debut 4 4 album 5 5 by 6 6 irish 7 7 pop 8 8 rock 9 9 trio 10 10 the 11 11 which 13 12 was 14 13 released 15 14 in 16 15 the 17 16 republic 18 17 of 19 18 ireland 20 19 on 21 20 8 22 21 august 23 22 2008 24 23 and 25 24 was 26 25 released 27 26 in 28 27 the 29 28 uk 30 29 on 31 30 11 32 31 august 33 32 2008 34 33 by 35 34 phonogenic 36 35 following 38 36 success 39 37 in 40 38 the 41 39 republic 42 40 of 43 41 the 45 42 album 46 43 was 47 44 released 48 45 elsewhere 49 46 in 50 47 europe 51 48 in 52 49 september 53 50 the 55 51 album 56 52 topped 57 53 the 58 54 uk 59 55 charts 60 56 and 61 57 peaked 62 58 at 63 59 number 64 60 64 65 61 on 66 62 the 67 63 us 68 64 billboard 69 65 200 70 66 on 71 67 4 72 68 march 73 69 the 75 70 album 76 71 was 77 72 nominated 78 73 for 79 74 a 80 75 choice 81 76 music 82 77 album 84 78 of 85 79 the 86 80 year 87 81 reception 90 82 the 92 83 album 93 84 was 94 85 met 95 86 with 96 87 mixed 97 88 reviews 98 89 from 99 90 music 100 91 timothy 102 92 powell 103 93 of 104 94 the 105 95 bbc 106 96 stated 107 97 that 108 98 the 109 99 album 110 100 a 112 101 \n",
      "\n",
      " 10 *******************   : 2016–17 European Rugby Challenge Cup pool stage\n",
      "the 0 0 european 2 1 rugby 3 2 challenge 4 3 cup 5 4 pool 6 5 stage 7 6 was 8 7 the 9 8 first 10 9 stage 11 10 of 12 11 competition 13 12 in 14 13 the 15 14 third 16 15 season 17 16 of 18 17 the 19 18 european 20 19 rugby 21 20 challenge 22 21 it 24 22 involved 25 23 20 26 24 teams 27 25 across 29 26 5 30 27 pools 31 28 of 32 29 4 33 30 for 35 31 8 36 32 places 38 33 awarded 40 34 to 41 35 the 42 36 5 43 37 pool 44 38 winners 45 39 and 46 40 the 47 41 3 48 42 pool 50 43 the 52 44 pool 53 45 stage 54 46 began 55 47 on 56 48 13 57 49 october 58 50 2016 59 51 and 60 52 was 61 53 completed 62 54 on 63 55 the 64 56 weekend 65 57 of 66 58 january 68 59 seeding 71 60 the 73 61 20 74 62 competing 75 63 teams 76 64 were 77 65 seeded 78 66 and 79 67 split 80 68 into 81 69 four 82 70 seeding 84 71 was 85 72 based 86 73 on 87 74 performance 88 75 in 89 76 their 90 77 respective 91 78 domestic 92 79 where 94 80 promotion 95 81 and 96 82 relegation 97 83 is 98 84 in 99 85 effect 100 86 in 101 87 a 102 88 the 104 89 promoted 105 90 team 106 91 was 107 92 seeded 108 93 or 110 94 multiple 112 95 teams 113 96 are 114 97 by 116 98 performance 117 99 in 118 100 the 119 101 \n",
      "\n",
      " 11 *******************   : Kyan\n",
      "cyan 0 0 is 2 1 the 3 2 color 4 3 between 5 4 green 6 5 and 7 6 blue 8 7 on 9 8 the 10 9 visible 11 10 spectrum 12 11 of 13 12 it 15 13 is 16 14 evoked 17 15 by 18 16 light 19 17 with 20 18 a 21 19 predominant 22 20 wavelength 23 21 between 24 22 490 25 23 and 26 24 520 27 25 between 29 26 the 30 27 wavelengths 31 28 of 32 29 green 33 30 and 34 31 the 36 32 subtractive 37 33 color 38 34 or 40 35 cmyk 41 36 color 42 37 which 44 38 can 45 39 be 46 40 overlaid 47 41 to 48 42 produce 49 43 all 50 44 colors 51 45 in 52 46 paint 53 47 and 54 48 color 55 49 cyan 57 50 is 58 51 one 59 52 of 60 53 the 61 54 primary 62 55 along 64 56 with 65 57 magenta 66 58 and 67 59 in 69 60 the 70 61 additive 71 62 color 72 63 or 74 64 rgb 75 65 color 76 66 used 78 67 to 79 68 create 80 69 all 81 70 the 82 71 colors 83 72 on 84 73 a 85 74 computer 86 75 or 87 76 television 88 77 cyan 90 78 is 91 79 made 92 80 by 93 81 mixing 94 82 equal 95 83 amounts 96 84 of 97 85 green 98 86 and 99 87 blue 100 88 cyan 102 89 is 103 90 the 104 91 complement 105 92 of 106 93 it 108 94 can 109 95 be 110 96 made 111 97 by 112 98 the 113 99 removal 114 100 of 115 101 red 116 102 from 117 103 mixing 119 104 red 120 105 light 121 106 and 122 107 cyan 123 108 light 124 109 at 125 110 the 126 111 right 127 112 intensity 128 113 will 129 114 make 130 115 white 131 116 colors 133 117 in 134 118 the 135 119 cyan 136 120 color 137 121 range 138 122 are 139 123 electric 142 124 and 145 125 others 146 126 described 147 127 as 148 128 etymology 151 129 its 153 130 name 154 131 is 155 132 derived 156 133 from 157 134 the 158 135 ancient 159 136 greek 160 137 word 161 138 kyanos 162 139 meaning 164 140 blue 166 141 lapis 168 142 it 170 143 was 171 144 formerly 172 145 known 173 146 as 174 147 or 177 148 and 179 149 its 180 150 first 181 151 recorded 182 152 use 183 153 as 184 154 a 185 155 color 186 156 name 187 157 in 188 158 english 189 159 was 190 160 in 191 161 further 193 162 origins 194 163 of 195 164 the 196 165 color 197 166 name 198 167 can 199 168 \n",
      "\n",
      " 12 *******************   : Abstracting electricity\n",
      "abstracting 0 0 electricity 1 1 is 2 2 a 3 3 statutory 4 4 offence 5 5 of 6 6 dishonestly 7 7 or 10 8 diverting 11 9 covered 13 10 by 14 11 different 15 12 legislation 16 13 in 17 14 england 18 15 and 19 16 northern 21 17 ireland 22 18 and 23 19 the 24 20 republic 25 21 of 26 22 the 28 23 law 29 24 for 31 25 in 33 26 cases 34 27 of 35 28 bypassing 36 29 an 37 30 electricity 38 31 reconnecting 40 32 a 41 33 disconnected 42 34 or 44 35 unlawfully 45 36 obtaining 46 37 a 47 38 free 48 39 telephone 49 40 in 51 41 low 52 42 v 53 43 blease 54 44 crim 56 45 lr 57 46 513 58 47 it 59 48 was 60 49 held 61 50 that 62 51 electricity 63 52 could 64 53 not 65 54 be 66 55 stolen 67 56 as 68 57 it 69 58 is 70 59 not 71 60 property 72 61 within 73 62 the 74 63 meaning 75 64 of 76 65 section 77 66 4 78 67 of 79 68 the 80 69 theft 81 70 act 82 71 in 84 72 one 85 73 reported 86 74 case 87 75 in 88 76 2015 89 77 a 90 78 man 91 79 was 92 80 arrested 93 81 for 94 82 abstracting 95 83 electricity 96 84 the 98 85 value 99 86 of 100 87 by 102 88 charging 103 89 his 104 90 mobile 105 91 telephone 106 92 on 107 93 a 108 94 but 110 95 was 111 96 ultimately 112 97 not 113 98 before 115 99 the 116 100 computer 117 101 misuse 118 102 act 119 103 1990 120 104 those 121 105 who 122 106 misused 123 107 computers 124 108 were 126 109 charged 127 110 with 128 111 abstracting 129 112 as 131 113 \n",
      "\n",
      " 13 *******************   : Georgios Katechakis\n"
     ]
    },
    {
     "name": "stdout",
     "output_type": "stream",
     "text": [
      "georgios 0 0 katechakis 1 1 was 6 2 a 7 3 hellenic 8 4 army 9 5 officer 10 6 and 11 7 he 13 8 distinguished 14 9 himself 15 10 with 16 11 his 17 12 participation 18 13 in 19 14 the 20 15 macedonian 21 16 struggle 22 17 under 23 18 the 24 19 nom 25 20 de 26 21 guerre 27 22 kapetan 28 23 rouvas 29 24 in 32 25 an 34 26 ardent 35 27 he 37 28 participated 38 29 in 39 30 the 40 31 movement 41 32 of 42 33 national 43 34 after 45 35 his 46 36 retirement 47 37 from 48 38 the 49 39 army 50 40 with 51 41 the 52 42 rank 53 43 of 54 44 major 55 45 he 57 46 entered 58 47 being 60 48 elected 61 49 into 62 50 the 63 51 greek 64 52 parliament 65 53 and 66 54 the 67 55 greek 68 56 he 70 57 also 71 58 served 72 59 \n",
      "\n",
      " 14 *******************   : Massachusetts Horticultural Society\n",
      "the 0 0 massachusetts 1 1 horticultural 2 2 sometimes 4 3 abbreviated 5 4 to 6 5 is 8 6 an 9 7 american 10 8 horticultural 11 9 society 12 10 based 13 11 in 14 12 it 16 13 describes 17 14 itself 18 15 as 19 16 the 20 17 oldest 21 18 formally 22 19 organized 23 20 horticultural 24 21 institution 25 22 in 26 23 the 27 24 united 28 25 in 30 26 its 31 27 mission 32 28 the 34 29 society 35 30 dedicates 36 31 itself 37 32 to 38 33 encouraging 39 34 the 40 35 science 41 36 and 42 37 practice 43 38 of 44 39 horticulture 45 40 and 46 41 developing 47 42 the 48 43 and 52 44 understanding 53 45 of 54 46 plants 55 47 and 56 48 the 57 49 as 59 50 of 60 51 it 62 52 had 63 53 some 64 54 history 68 55 the 70 56 society 71 57 was 72 58 established 73 59 in 74 60 1829 75 61 in 76 62 boston 77 63 as 78 64 the 79 65 boston 80 66 horticultural 81 67 and 83 68 promptly 84 69 began 85 70 weekly 86 71 exhibits 87 72 faneuil 89 73 hall 90 74 and 91 75 quincy 92 76 of 94 77 locally 95 78 grown 96 79 fruit 97 80 and 98 81 later 99 82 teaching 101 83 the 102 84 newest 103 85 horticultural 104 86 techniques 105 87 and 106 88 including 108 89 the 109 90 local 110 91 concord 111 92 grape 112 93 in 113 94 it 115 95 continued 116 96 this 117 97 tradition 118 98 from 119 99 1871 120 100 through 121 101 2008 122 102 with 123 103 its 124 104 annual 125 105 new 126 106 england 127 107 spring 128 108 flower 129 109 in 131 110 1831 132 111 the 133 112 society 134 113 bought 135 114 a 136 115 estate 140 116 called 141 117 for 144 118 an 145 119 and 148 120 although 150 121 the 151 122 horticultural 152 123 garden 153 124 never 154 125 in 156 126 1835 157 127 the 158 128 site 159 129 was 160 130 incorporated 161 131 as 162 132 mount 163 133 auburn 164 134 until 166 135 the 168 136 society 169 137 received 170 138 of 172 139 the 173 140 proceeds 174 141 from 175 142 the 176 143 sale 177 144 of 178 145 mount 179 146 cemetery 181 147 horticultural 184 148 hall 185 149 in 187 150 its 188 151 early 189 152 the 191 153 society 192 154 met 193 155 in 194 156 various 195 157 locations 196 158 in 197 159 starting 199 160 in 200 161 the 202 162 society 203 163 has 204 164 built 205 165 for 206 166 \n",
      "\n",
      " 15 *******************   : Aurora Feint\n",
      "aurora 0 0 feint 1 1 was 2 2 a 3 3 video 4 4 game 5 5 series 6 6 developed 7 7 by 8 8 danielle 9 9 cassley 10 10 and 11 11 jason 12 12 citron 13 13 for 14 14 aurora 16 15 feint 17 16 the 18 17 beginning 19 18 was 20 19 released 21 20 in 22 21 the 23 22 first 24 23 wave 25 24 of 26 25 app 27 26 store 28 27 applications 29 28 in 30 29 july 31 30 2008 32 31 and 33 32 was 34 33 a 35 34 free 36 35 game 38 36 which 39 37 combines 40 38 the 41 39 geometric 42 40 shape 43 41 \n",
      "\n",
      " 16 *******************   : Nakba\n",
      "the 0 0 nakba 1 1 or 9 2 also 11 3 known 12 4 as 13 5 the 14 6 palestinian 15 7 was 17 8 the 18 9 destruction 19 10 of 20 11 palestinian 21 12 society 22 13 and 23 14 homeland 24 15 in 25 16 and 27 17 the 28 18 permanent 29 19 displacement 30 20 of 31 21 a 32 22 majority 33 23 of 34 24 the 35 25 palestinian 36 26 the 38 27 term 39 28 is 40 29 also 41 30 used 42 31 to 43 32 describe 44 33 the 45 34 ongoing 46 35 and 49 36 occupation 50 37 of 51 38 the 52 39 both 54 40 in 55 41 the 56 42 occupied 57 43 west 58 44 bank 59 45 and 60 46 the 61 47 gaza 62 48 as 64 49 well 65 50 as 66 51 in 67 52 palestinian 68 53 refugee 69 54 camps 70 55 throughout 71 56 the 72 57 foundational 74 58 events 75 59 of 76 60 the 77 61 nakba 78 62 took 79 63 place 80 64 during 81 65 and 82 66 shortly 83 67 after 84 68 the 85 69 palestine 87 70 including 89 71 of 91 72 mandatory 92 73 palestine 93 74 being 94 75 declared 95 76 as 96 77 the 98 78 exodus 99 79 of 100 80 the 103 81 related 104 82 depopulation 105 83 and 106 84 destruction 107 85 of 108 86 over 109 87 500 110 88 palestinian 111 89 villages 112 90 and 113 91 subsequent 114 92 geographical 115 93 the 117 94 denial 118 95 of 119 96 the 120 97 palestinian 121 98 right 122 99 of 123 100 the 125 101 \n",
      "\n",
      " 17 *******************   : Grasshoppers (Cavallette)\n",
      "grasshoppers 0 0 is 2 1 an 3 2 italian 4 3 animated 5 4 short 6 5 by 7 6 bruno 8 7 bozzetto 9 8 which 10 9 condenses 11 10 the 12 11 whole 13 12 of 14 13 human 15 14 civilization 16 15 into 17 16 9 18 17 focusing 20 18 primarily 21 19 on 22 20 the 23 21 human 24 22 predilection 26 23 for 27 24 warfare 28 25 and 29 26 the 30 27 vanity 31 28 of 32 29 it 34 30 was 35 31 an 36 32 nominated 37 33 for 38 34 an 39 35 academy 40 36 award 41 37 for 42 38 best 43 39 animated 44 40 short 45 41 in 46 42 summary 49 43 each 51 44 piece 52 45 of 53 46 history 54 47 is 55 48 presented 56 49 as 57 50 a 58 51 simple 59 52 usually 61 53 depicting 62 54 a 63 55 few 64 56 characters 66 57 arguing 67 58 and 68 59 making 69 60 over 71 61 and 72 62 over 73 63 a 76 64 single 77 65 figure 78 66 is 79 67 meant 80 68 to 81 69 stand 82 70 in 83 71 for 84 72 an 85 73 entire 86 74 group 87 75 a 89 76 single 90 77 caricature 92 78 for 93 79 the 94 80 entire 95 81 line 96 82 of 97 83 roman 98 84 there 100 85 is 101 86 very 102 87 little 103 88 spoken 104 89 most 107 90 of 108 91 the 109 92 cartoon 110 93 is 111 94 accompanied 112 95 by 113 96 a 114 97 bouncy 115 98 which 118 99 frequently 119 100 changes 120 101 style 121 102 to 122 103 suit 123 104 the 124 105 particular 125 106 historical 126 107 the 129 108 score 130 109 rests 131 110 on 132 111 a 133 112 single 134 113 simple 135 114 to 137 115 which 138 116 it 139 117 frequently 140 118 returns 141 119 in 142 120 between 143 121 plot 146 122 in 148 123 the 149 124 course 150 125 of 151 126 9 152 127 grasshoppers 154 128 takes 155 129 us 156 130 through 157 131 the 158 132 following 159 133 parts 160 134 of 161 135 the 163 136 discovery 164 137 of 165 138 and 167 139 the 168 140 development 169 141 of 170 142 tools 171 143 and 172 144 which 174 145 modern 175 146 man 176 147 uses 177 148 to 178 149 remove 179 150 the 180 151 threat 181 152 of 182 153 "
     ]
    },
    {
     "name": "stderr",
     "output_type": "stream",
     "text": [
      "C:\\Users\\PeterDell\\anaconda3\\lib\\site-packages\\wikipedia\\wikipedia.py:389: UserWarning: No parser was explicitly specified, so I'm using the best available HTML parser for this system (\"lxml\"). This usually isn't a problem, but if you run this code on another system, or in a different virtual environment, it may use a different parser and behave differently.\n",
      "\n",
      "The code that caused this warning is on line 389 of the file C:\\Users\\PeterDell\\anaconda3\\lib\\site-packages\\wikipedia\\wikipedia.py. To get rid of this warning, pass the additional argument 'features=\"lxml\"' to the BeautifulSoup constructor.\n",
      "\n",
      "  lis = BeautifulSoup(html).find_all('li')\n"
     ]
    },
    {
     "name": "stdout",
     "output_type": "stream",
     "text": [
      "\n",
      "Disambiguation error    ['Marin Creek', 'Village Creek (Allamakee County, Iowa)', 'Village Creek (Missouri)', 'Village Creek (Texas)', 'Village Creek (Tarrant County) Texas', 'Village Creek (Norwalk, Connecticut)']\n",
      "\n",
      "\n",
      " 18 *******************   : Simon Verhoeven\n",
      "simon 0 0 verhoeven 1 1 in 3 2 munich 4 3 on 5 4 20 6 5 june 7 6 is 9 7 a 10 8 german 11 9 film 12 10 film 15 11 former 17 12 and 19 13 occasional 20 14 film 21 15 music 22 16 life 25 17 and 26 18 family 27 19 verhoeven 29 20 is 30 21 the 31 22 son 32 23 of 33 24 international 34 25 screen 35 26 actress 36 27 senta 37 28 berger 38 29 and 39 30 film 43 31 director 44 32 michael 45 33 the 47 34 have 49 35 been 50 36 working 51 37 in 52 38 acting 53 39 and 54 40 directing 55 41 for 56 42 simon 58 43 grandfather 60 44 paul 61 45 verhoeven 62 46 the 64 47 dutch 65 48 filmmaker 66 49 of 67 50 the 68 51 same 69 52 ran 71 53 the 72 54 renowned 73 55 deutsches 74 56 theater 75 57 in 76 58 berlin 77 59 as 78 60 well 79 61 as 80 62 the 81 63 munich 82 64 michael 84 65 sister 86 66 lis 87 67 verhoeven 88 68 was 89 69 a 90 70 stage 91 71 actress 92 72 and 93 73 director 94 74 who 95 75 was 96 76 briefly 97 77 married 98 78 to 99 79 international 100 80 screen 101 81 actor 102 82 mario 103 83 simon 105 84 brother 107 85 luca 108 86 is 109 87 also 110 88 an 111 89 actor 112 90 who 113 91 debuted 114 92 in 115 93 first 117 94 cinematic 118 95 directorial 119 96 effort 120 97 100 121 98 pro 122 99 the 124 100 family 125 101 legacy 126 102 on 127 103 stage 128 104 and 129 105 screen 130 106 was 131 107 \n",
      "\n",
      " 19 *******************   : Cold War History\n",
      "the 0 0 cold 1 1 war 2 2 was 3 3 a 4 4 period 5 5 of 6 6 geopolitical 7 7 tension 8 8 between 9 9 the 10 10 united 11 11 states 12 12 and 13 13 the 14 14 soviet 15 15 union 16 16 and 17 17 their 18 18 respective 19 19 the 21 20 western 22 21 bloc 23 22 and 24 23 the 25 24 eastern 26 25 which 28 26 began 29 27 following 30 28 world 31 29 war 32 30 historians 34 31 do 35 32 not 36 33 fully 37 34 agree 38 35 on 39 36 its 40 37 starting 41 38 and 42 39 ending 43 40 but 45 41 the 46 42 period 47 43 is 48 44 generally 49 45 considered 50 46 to 51 47 span 52 48 from 53 49 the 54 50 announcement 55 51 of 56 52 the 57 53 truman 58 54 doctrine 59 55 on 60 56 12 61 57 march 62 58 1947 63 59 to 64 60 the 65 61 dissolution 66 62 of 67 63 the 68 64 soviet 69 65 union 70 66 on 71 67 26 72 68 december 73 69 the 75 70 term 76 71 cold 77 72 war 78 73 is 79 74 used 80 75 because 81 76 there 82 77 was 83 78 no 84 79 fighting 86 80 directly 87 81 between 88 82 the 89 83 two 90 84 but 92 85 they 93 86 each 94 87 supported 95 88 major 96 89 regional 97 90 conflicts 98 91 known 99 92 as 100 93 proxy 101 94 the 103 95 conflict 104 96 was 105 97 based 106 98 around 107 99 the 108 100 ideological 109 101 and 110 102 geopolitical 111 103 [87, 135, 30, 144, 128, 122, 41, 25, 93, 102, 102, 169, 114, 60, 167, 42, 102, 154, 108, 104]\n",
      "[87, 222, 252, 396, 524, 646, 687, 712, 805, 907, 1009, 1178, 1292, 1352, 1519, 1561, 1663, 1817, 1925]\n",
      "(0, 100)\n",
      "\n",
      "Disambiguation error    ['Eminent domain', 'The Undertaker', 'Undertaker', 'Takers', 'Houston Takers', 'The Taker/Tulsa', 'Take (disambiguation)', 'Acquisition (disambiguation)', 'Census taker (disambiguation)', 'Makers and Takers', 'Givers and Takers', 'Takers and Leavers']\n",
      "\n",
      "\n",
      " 0 *******************   : Hemichromis lifalili\n",
      "hemichromis 0 0 common 2 1 name 3 2 jewel 5 3 is 7 4 a 8 5 species 9 6 of 10 7 fish 11 8 in 12 9 the 13 10 family 14 11 description 17 12 hemichromis 19 13 can 21 14 grow 22 15 up 23 16 to 24 17 centimetres 26 18 they 30 19 are 31 20 or 33 21 bright 34 22 red 35 23 with 36 24 rows 37 25 of 38 26 small 39 27 blue 40 28 spots 41 29 all 42 30 over 43 31 the 44 32 the 46 33 head 47 34 and 48 35 two 50 36 dark 51 37 spots 52 38 are 53 39 present 54 40 on 55 41 the 56 42 the 58 43 first 59 44 on 60 45 the 61 46 the 63 47 second 64 48 in 65 49 the 66 50 middle 67 51 of 68 52 the 69 53 while 71 54 they 72 55 lack 73 56 the 74 57 dark 75 58 spot 76 59 at 77 60 the 78 61 base 79 62 of 80 63 the 81 64 tail 82 65 present 83 66 in 84 67 hemichromis 85 68 in 87 69 the 88 70 mating 89 71 period 90 72 almost 91 73 the 92 74 whole 93 75 body 94 76 is 95 77 outside 97 78 the 98 79 spawning 99 80 season 100 81 adult 101 82 males 102 83 and 103 84 females 104 85 can 105 86 be 106 87 distinguished 107 88 mainly 108 89 by 109 90 their 110 91 body 111 92 the 113 93 females 114 94 are 115 95 much 116 96 leaner 117 97 and 118 98 show 119 99 a 120 100 brighter 121 101 the 123 102 males 124 103 are 125 104 much 126 105 stronger 127 106 and 128 107 have 129 108 a 130 109 more 131 110 massive 132 111 head 133 112 than 134 113 diet 137 114 these 139 115 fishes 140 116 mainly 141 117 feeds 142 118 on 143 119 small 147 120 but 149 121 also 150 122 on 151 123 \n",
      "\n",
      " 1 *******************   : Demirýollary\n",
      "open 1 0 company 3 1 means 10 2 is 12 3 the 13 4 operator 15 5 of 16 6 railways 17 7 in 18 8 the 20 9 company 21 10 operates 22 11 on 23 12 km 25 13 of 28 14 railways 29 15 in 31 16 the 32 17 and 34 18 maintains 35 19 over 36 20 345 37 21 railway 38 22 stations 39 23 throughout 40 24 the 41 25 the 43 26 company 44 27 belongs 45 28 to 46 29 the 47 30 ministry 48 31 of 49 32 industry 50 33 and 51 34 construction 52 35 and 53 36 is 54 37 subordinate 55 38 to 56 39 the 57 40 railways 58 41 agency 59 42 of 60 43 it 62 44 is 63 45 headquartered 64 46 in 65 47 while 67 48 the 68 49 rail 69 50 system 70 51 itself 71 52 belongs 72 53 to 73 54 the 74 55 railways 75 56 the 77 57 turkmen 78 58 railways 79 59 company 80 60 owns 81 61 the 82 62 locomotive 83 63 and 84 64 railcar 85 65 rail 87 66 construction 89 67 and 90 68 maintenance 91 69 communications 93 70 and 94 71 power 95 72 supply 96 73 and 98 74 two 99 75 hotels 100 76 in 101 77 the 103 78 and 105 79 history 108 80 independent 111 81 turkmenistan 112 82 on 114 83 29 115 84 january 116 85 2019 117 86 the 118 87 ministry 119 88 of 120 89 railways 121 90 was 122 91 downgraded 123 92 to 124 93 agency 125 94 renamed 127 95 the 128 96 turkmen 129 97 railways 130 98 agency 131 99 and 135 100 subordinated 136 101 to 137 102 the 138 103 reorganized 139 104 ministry 140 105 of 141 106 industry 142 107 and 143 108 communications 144 109 subsequently 146 110 was 147 111 again 148 112 reorganized 149 113 into 150 114 the 151 115 ministry 152 116 of 153 117 industry 154 118 and 155 119 ojsc 159 120 the 163 121 open 164 122 company 166 123 was 168 124 formed 169 125 as 170 126 a 171 127 commercial 172 128 subsidiary 173 129 of 174 130 the 175 131 turkmen 176 132 railways 177 133 agency 178 134 on 179 135 5 180 136 february 181 137 has 184 138 received 185 139 the 186 140 functions 187 141 \n",
      "Disambiguation error    ['Charlie Harrison (basketball)', 'Charlie Harrison (Manchester United footballer)', 'Charlie Harrison (footballer, born 1861)', 'Charlie Harrison (Gaelic footballer)', 'Poco', 'Charles Harrison (disambiguation)']\n",
      "\n",
      "\n",
      " 2 *******************   : Pat Stapleton (ice hockey)\n",
      "patrick 0 0 james 1 1 stapleton 3 2 1940 6 3 april 8 4 was 11 5 a 12 6 canadian 13 7 ice 14 8 hockey 15 9 a 17 10 stapleton 19 11 played 20 12 15 21 13 seasons 22 14 in 23 15 the 24 16 national 25 17 hockey 26 18 league 27 19 and 29 20 the 30 21 world 31 22 hockey 32 23 association 33 24 most 35 25 notably 36 26 for 37 27 the 38 28 chicago 39 29 black 40 30 he 42 31 was 43 32 the 44 33 father 45 34 of 46 35 mike 47 36 who 49 37 had 50 38 a 51 39 lengthy 52 40 career 53 41 in 54 42 the 55 43 playing 58 44 career 59 45 \n",
      "Exception error    Page id \"andors\" does not match any pages. Try another id!\n",
      "\n",
      "\n",
      " 3 *******************   : Haydarpaşa suburban\n"
     ]
    },
    {
     "name": "stdout",
     "output_type": "stream",
     "text": [
      "the 0 0 suburban 2 1 also 6 2 known 7 3 as 8 4 the 9 5 line 11 6 and 15 7 numbered 16 8 as 17 9 was 19 10 a 20 11 commuter 21 12 rail 22 13 line 23 14 operated 24 15 by 25 16 the 26 17 turkish 27 18 state 28 19 between 30 20 terminal 32 21 in 33 22 to 35 23 since 37 24 its 38 25 opening 39 26 in 40 27 it 42 28 was 43 29 the 44 30 busiest 45 31 commuter 46 32 rail 47 33 line 48 34 and 49 35 busiest 50 36 tcdd 51 37 service 52 38 in 53 39 until 55 40 it 56 41 was 57 42 discontinued 58 43 in 59 44 electrified 61 45 in 62 46 the 64 47 line 65 48 was 66 49 the 67 50 second 68 51 electrified 69 52 commuter 70 53 rail 71 54 service 72 55 in 73 56 after 75 57 the 76 58 istanbul 77 59 operating 79 60 across 80 61 the 81 62 the 83 63 route 84 64 traversed 85 65 the 86 66 southern 87 67 shore 88 68 of 89 69 asian 91 70 passing 93 71 through 94 72 important 95 73 pendik 100 74 and 101 75 the 103 76 line 104 77 then 105 78 crosses 106 79 into 107 80 the 108 81 kocaeli 109 82 province 110 83 into 111 84 where 113 85 it 114 86 the 116 87 state 117 88 railways 118 89 has 119 90 operated 120 91 its 121 92 regional 122 93 service 123 94 to 124 95 and 126 96 mainline 127 97 service 128 98 to 129 99 ankara 130 100 on 131 101 the 132 102 line 133 103 as 134 104 making 136 105 it 137 106 one 138 107 of 139 108 the 140 109 busiest 141 110 rail 142 111 lines 143 112 in 144 113 in 146 114 terms 147 115 of 148 116 passengers 149 117 and 150 118 number 151 119 of 152 120 history 155 121 a 157 122 railway 158 123 to 159 124 gebze 160 125 was 161 126 originally 162 127 built 163 128 by 164 129 the 165 130 ottoman 166 131 empire 167 132 in 168 133 as 170 134 part 171 135 of 172 136 the 173 137 railway 174 138 to 175 139 this 177 140 line 178 141 was 179 142 at 180 143 \n",
      "\n",
      " 4 *******************   : Michelle Rothschild-Patterson\n",
      "michelle 0 0 born 4 1 november 5 2 also 8 3 known 9 4 as 10 5 sister 11 6 is 13 7 known 14 8 for 15 9 her 16 10 work 17 11 in 18 12 reality 19 13 television 20 14 and 21 15 for 22 16 being 23 17 the 24 18 mother 25 19 of 26 20 reality 27 21 tv 28 22 personality 29 23 tiffany 30 24 whom 34 25 she 35 26 has 36 27 starred 37 28 alongside 38 29 on 39 30 reality 40 31 shows 41 32 \n",
      "\n",
      " 5 *******************   : Kerry O'Flaherty\n",
      "kerry 0 0 15 3 1 july 4 2 is 6 3 an 7 4 irish 8 5 runner 9 6 competing 10 7 primarily 11 8 in 12 9 the 13 10 3000 14 11 metres 15 12 she 17 13 competed 18 14 at 19 15 the 20 16 2015 21 17 world 22 18 championships 23 19 in 24 20 beijing 25 21 without 26 22 qualifying 27 23 for 28 24 the 29 25 competed 32 26 in 33 27 the 34 28 2016 35 29 olympic 36 30 she 38 31 has 39 32 also 40 33 competed 41 34 at 42 35 two 43 36 european 44 37 championships 45 38 and 46 39 one 47 40 european 48 41 indoor 49 42 biography 52 43 kerry 54 44 was 56 45 born 57 46 15 58 47 july 59 48 1981 60 49 in 61 50 she 63 51 runs 64 52 for 65 53 newcastle 66 54 completed 68 55 a 69 56 sports 70 57 science 71 58 degree 72 59 and 73 60 studied 74 61 physical 75 62 education 76 63 at 77 64 ulster 78 65 began 80 66 competitively 81 67 training 82 68 in 83 69 she 85 70 had 86 71 hoped 87 72 to 88 73 qualify 89 74 for 90 75 \n",
      "Disambiguation error    ['Wang Theatre', 'Metropolitan Theatre (Winnipeg)', 'Medellín Metropolitan Theatre', 'Manila Metropolitan Theater', \"Grauman's Metropolitan Theatre\", 'Metropolitan Theatre (Cleveland, Ohio)', 'Metropolitan Theatre (Morgantown, West Virginia)', 'The Metropolitan Theatre', 'Teatro Metropólitan']\n",
      "\n",
      "Exception error    Page id \"purchasing power party\" does not match any pages. Try another id!\n",
      "\n",
      "\n",
      " 6 *******************   : Jimmy Maurer\n",
      "jimmy 0 0 maurer 1 1 october 3 2 is 6 3 an 7 4 american 8 5 soccer 9 6 player 10 7 who 11 8 plays 12 9 as 13 10 a 14 11 goalkeeper 15 12 for 16 13 fc 17 14 dallas 18 15 in 19 16 major 20 17 league 21 18 career 24 19 college 27 20 and 28 21 amateur 29 22 maurer 31 23 attended 32 24 college 33 25 at 34 26 the 35 27 university 36 28 of 37 29 south 38 30 carolina 39 31 and 40 32 was 41 33 the 42 34 starting 43 35 goalkeeper 44 36 for 45 37 four 46 38 during 48 39 his 49 40 he 52 41 started 53 42 all 54 43 78 55 44 games 56 45 for 57 46 the 58 47 he 60 48 finished 61 49 his 62 50 collegiate 63 51 career 64 52 with 65 53 28 66 54 second 68 55 in 69 56 south 70 57 carolina 71 58 in 73 59 his 74 60 first 75 61 year 76 62 in 77 63 maurer 79 64 started 80 65 all 81 66 19 82 67 games 83 68 for 84 69 the 85 70 gamecocks 86 71 and 87 72 recorded 88 73 a 89 74 goals 91 75 against 92 76 he 94 77 was 95 78 also 96 79 named 97 80 conference 98 81 usa 99 82 freshman 100 83 of 101 84 the 102 85 in 104 86 2009 105 87 as 106 88 a 107 89 maurer 109 90 played 110 91 every 111 92 minute 112 93 in 113 94 net 114 95 for 115 96 south 116 97 carolina 117 98 and 118 99 had 119 100 a 120 101 goals 122 102 against 123 103 average 124 104 to 125 105 go 126 106 along 127 107 with 128 108 five 129 109 shutouts 130 110 and 131 111 being 132 112 named 133 113 to 134 114 the 135 115 usa 137 116 third 138 117 he 140 118 was 141 119 named 142 120 to 143 121 the 144 122 2010 145 123 usa 147 124 second 148 125 team 149 126 during 150 127 \n",
      "\n",
      " 7 *******************   : LGBT rights in the United States Virgin Islands\n",
      "in 0 0 the 1 1 virgin 3 2 and 8 3 transgender 9 4 people 11 5 face 12 6 certain 13 7 legal 14 8 challenges 15 9 and 16 10 discrimination 17 11 not 18 12 faced 19 13 by 20 14 sexual 24 15 activity 25 16 has 26 17 been 27 18 legal 28 19 since 29 20 but 31 21 the 32 22 virgin 33 23 islands 34 24 provides 35 25 no 36 26 protection 37 27 against 38 28 discrimination 39 29 for 40 30 lgbt 41 31 following 43 32 the 44 33 supreme 45 34 ruling 47 35 in 48 36 obergefell 49 37 hodges 51 38 on 52 39 june 53 40 \n",
      "\n",
      " 8 *******************   : JOY Entertainment\n",
      "marie 1 0 born 5 1 16 6 2 april 7 3 is 9 4 an 10 5 actress 11 6 born 12 7 in 13 8 the 14 9 united 15 10 she 17 11 has 18 12 won 19 13 several 20 14 including 22 15 a 23 16 golden 24 17 globe 25 18 award 26 19 and 27 20 a 28 21 screen 29 22 actors 30 23 guild 31 24 in 33 25 addition 34 26 to 35 27 a 36 28 nomination 37 29 for 38 30 a 39 31 primetime 40 32 emmy 41 33 in 43 34 she 45 35 was 46 36 featured 47 37 on 48 38 time 49 39 100 51 40 next 52 41 list 53 42 of 54 43 leaders 56 44 who 57 45 are 58 46 shaping 59 47 the 60 48 born 62 49 in 63 50 miami 64 51 and 65 52 raised 66 53 in 67 54 buenos 68 55 aires 69 56 and 70 57 left 73 58 school 74 59 at 75 60 the 76 61 age 77 62 of 78 63 16 79 64 to 80 65 pursue 81 66 an 82 67 acting 83 68 after 85 69 small 86 70 television 87 71 she 89 72 made 90 73 her 91 74 film 92 75 debut 93 76 with 94 77 a 95 78 leading 96 79 role 97 80 in 98 81 the 99 82 horror 100 83 film 101 84 the 102 85 witch 103 86 she 105 87 went 106 88 on 107 89 to 108 90 star 109 91 in 110 92 the 111 93 horror 112 94 film 113 95 split 114 96 and 116 97 its 117 98 glass 119 99 and 121 100 the 122 101 black 123 102 comedy 124 103 thoroughbreds 125 104 she 127 105 won 128 106 the 129 107 chopard 131 108 at 132 109 \n",
      "\n",
      " 9 *******************   : Paraboloidal coordinates\n",
      "paraboloidal 0 0 coordinates 1 1 are 2 2 orthogonal 4 3 coordinates 5 4 that 18 5 generalize 19 6 parabolic 21 7 they 23 8 possess 24 9 elliptic 25 10 paraboloids 26 11 as 27 12 as 30 13 they 32 14 should 33 15 be 34 16 distinguished 35 17 from 36 18 parabolic 37 19 cylindrical 38 20 coordinates 39 21 and 40 22 parabolic 41 23 rotational 42 24 both 44 25 of 45 26 which 46 27 are 47 28 also 48 29 generalizations 49 30 of 50 31 parabolic 52 32 the 54 33 coordinate 55 34 surfaces 56 35 of 57 36 the 58 37 former 59 38 are 60 39 parabolic 61 40 and 63 41 the 64 42 coordinate 65 43 surfaces 66 44 of 67 45 the 68 46 latter 69 47 are 70 48 circular 71 49 differently 73 50 from 74 51 cylindrical 75 52 and 76 53 rotational 77 54 parabolic 78 55 but 80 56 similarly 81 57 to 82 58 the 83 59 related 84 60 ellipsoidal 85 61 the 87 62 coordinate 88 63 surfaces 89 64 of 90 65 the 91 66 paraboloidal 92 67 \n",
      "\n",
      " 10 *******************   : Richland Farm (Clarksville, Maryland)\n"
     ]
    },
    {
     "name": "stdout",
     "output_type": "stream",
     "text": [
      "richland 0 0 farm 1 1 is 2 2 a 3 3 historic 4 4 home 5 5 and 6 6 farm 7 7 complex 8 8 located 9 9 at 10 10 howard 12 11 united 15 12 the 17 13 main 18 14 house 19 15 is 20 16 a 21 17 log 22 18 and 23 19 frame 24 20 the 26 21 earliest 27 22 section 28 23 of 29 24 which 30 25 is 31 26 presumed 32 27 to 33 28 date 34 29 from 35 30 the 37 31 main 38 32 block 39 33 comprises 40 34 three 41 35 with 43 36 a 44 37 large 45 38 addition 46 39 on 47 40 the 48 41 rear 49 42 added 50 43 in 51 44 it 53 45 features 54 46 a 55 47 porch 59 48 supported 60 49 by 61 50 22 62 51 doric 63 52 order 64 53 also 66 54 on 67 55 the 68 56 property 69 57 are 70 58 the 71 59 wagon 76 60 tractor 78 61 shed 79 62 and 80 63 smokehouse 81 64 with 82 65 a 85 66 bank 86 67 a 88 68 stone 89 69 spring 90 70 house 91 71 and 92 72 was 94 73 originally 95 74 part 96 75 of 97 76 a 99 77 land 100 78 grant 101 79 surveyed 102 80 on 103 81 may 104 82 by 107 83 thomas 108 84 worthington 109 85 and 110 86 his 111 87 henry 113 88 a 115 89 small 116 90 portion 117 91 of 118 92 richland 119 93 was 120 94 also 121 95 part 122 96 of 123 97 thomas 126 98 worthington 127 99 left 128 100 300 129 101 acres 130 102 of 131 103 altogether 132 104 and 133 105 63 134 106 acres 135 107 of 136 108 range 138 109 to 139 110 his 140 111 ariana 142 112 worthington 143 113 who 145 114 was 146 115 married 147 116 to 148 117 nicholas 149 118 thomas 152 119 dated 155 120 january 156 121 1752 158 122 and 159 123 proved 160 124 after 161 125 his 162 126 death 163 127 in 164 128 indicates 166 129 that 167 130 inheritance 169 131 was 170 132 already 171 133 part 172 134 of 173 135 a 174 136 plantation 175 137 established 176 138 by 177 139 her 178 140 ariana 180 141 divided 181 142 her 182 143 holdings 183 144 among 184 145 her 185 146 three 186 147 nicholas 189 148 and 190 149 richland 192 150 was 193 151 part 194 152 of 195 153 gassaway 196 154 gassaway 199 155 watkins 200 156 \n",
      "\n",
      " 11 *******************   : Radui\n",
      "radio 0 0 is 1 1 the 2 2 technology 3 3 of 4 4 signaling 5 5 and 6 6 communicating 7 7 using 8 8 radio 9 9 radio 11 10 waves 12 11 are 13 12 electromagnetic 14 13 waves 15 14 of 16 15 frequency 17 16 between 18 17 30 19 18 hertz 20 19 and 22 20 300 23 21 gigahertz 24 22 they 26 23 are 27 24 generated 28 25 by 29 26 an 30 27 electronic 31 28 device 32 29 called 33 30 a 34 31 transmitter 35 32 connected 36 33 to 37 34 an 38 35 antenna 39 36 which 40 37 radiates 41 38 the 42 39 and 44 40 received 45 41 by 46 42 another 47 43 antenna 48 44 connected 49 45 to 50 46 a 51 47 radio 52 48 radio 54 49 is 55 50 very 56 51 widely 57 52 used 58 53 in 59 54 modern 60 55 in 62 56 radio 63 57 radio 66 58 remote 68 59 remote 70 60 and 72 61 other 73 62 in 75 63 radio 76 64 used 78 65 in 79 66 radio 80 67 and 81 68 television 82 69 cell 84 70 wireless 88 71 and 90 72 satellite 91 73 among 93 74 numerous 94 75 other 95 76 radio 97 77 waves 98 78 are 99 79 used 100 80 to 101 81 carry 102 82 information 103 83 across 104 84 space 105 85 from 106 86 a 107 87 transmitter 108 88 to 109 89 a 110 90 by 112 91 modulating 113 92 the 114 93 radio 115 94 signal 116 95 an 118 96 information 119 97 signal 120 98 on 121 99 the 122 100 radio 123 101 wave 124 102 by 125 103 varying 126 104 some 127 105 aspect 128 106 of 129 107 the 130 108 in 132 109 the 133 110 in 135 111 used 137 112 to 138 113 locate 139 114 and 140 115 track 141 116 objects 142 117 like 143 118 spacecraft 146 119 and 147 120 a 149 121 beam 150 122 of 151 123 radio 152 124 waves 153 125 emitted 154 126 by 155 127 a 156 128 radar 157 129 transmitter 158 130 reflects 159 131 off 160 132 the 161 133 target 162 134 and 164 135 the 165 136 reflected 166 137 waves 167 138 reveal 168 139 the 169 140 in 172 141 radio 173 142 navigation 174 143 \n",
      "\n",
      " 12 *******************   : On the Rocks: A Political Comedy\n",
      "on 0 0 the 1 1 a 3 2 political 4 3 comedy 5 4 is 7 5 a 8 6 play 9 7 by 10 8 george 11 9 bernard 12 10 shaw 13 11 which 14 12 deals 15 13 with 16 14 the 17 15 social 18 16 crisis 19 17 of 20 18 the 21 19 great 22 20 the 24 21 entire 25 22 play 26 23 is 27 24 set 28 25 in 29 26 the 30 27 cabinet 31 28 room 32 29 of 33 30 10 34 31 downing 35 32 it 37 33 is 38 34 noted 39 35 for 40 36 its 41 37 evidence 42 38 of 43 39 political 45 40 evolution 46 41 towards 47 42 apparent 48 43 support 49 44 for 50 45 context 53 46 the 55 47 play 56 48 was 57 49 written 58 50 in 59 51 the 60 52 midst 61 53 of 62 54 the 63 55 and 65 56 shortly 66 57 after 67 58 hitler 68 59 had 69 60 come 70 61 to 71 62 power 72 63 in 73 64 the 75 65 figure 76 66 \n",
      "\n",
      " 13 *******************   : Michael D. Barnes\n",
      "michael 0 0 darr 1 1 barnes 2 2 september 4 3 is 7 4 an 8 5 american 9 6 lawyer 10 7 and 11 8 politician 12 9 who 13 10 represented 14 11 the 15 12 eighth 16 13 district 17 14 of 18 15 maryland 19 16 in 20 17 the 21 18 united 22 19 states 23 20 house 24 21 of 25 22 representatives 26 23 from 27 24 1979 28 25 to 29 26 early 32 27 life 33 28 born 35 29 in 36 30 to 39 31 john 40 32 barnes 42 33 former 43 34 general 44 35 counsel 45 36 to 46 37 telephone 48 38 and 50 39 vernon 51 40 his 54 41 grandfather 55 42 john 56 43 barnes 58 44 was 59 45 a 60 46 judge 61 47 on 62 48 the 63 49 district 65 50 court 66 51 for 67 52 the 68 53 northern 69 54 district 70 55 of 71 56 barnes 73 57 moved 74 58 to 75 59 chevy 76 60 chase 77 61 in 78 62 montgomery 79 63 maryland 81 64 at 82 65 age 83 66 personal 86 67 life 87 68 barnes 89 69 married 90 70 claudia 91 71 dillon 92 72 in 94 73 he 96 74 has 97 75 two 98 76 dillon 100 77 and 101 78 career 104 79 after 106 80 serving 107 81 in 108 82 the 109 83 marine 110 84 corps 111 85 to 113 86 being 115 87 discharged 116 88 with 117 89 the 118 90 rank 119 91 of 120 92 barnes 122 93 attended 123 94 george 124 95 washington 125 96 university 126 97 and 127 98 obtained 128 99 a 129 100 juris 130 101 doctor 131 102 degree 132 103 in 133 104 barnes 135 105 served 136 106 on 137 107 the 138 108 maryland 139 109 public 140 110 service 141 111 barnes 143 112 served 144 113 as 145 114 executive 146 115 director 147 116 of 148 117 the 149 118 1976 150 119 democratic 151 120 party 152 121 platform 153 122 barnes 155 123 served 156 124 in 157 125 both 158 126 private 159 127 and 160 128 government 161 129 practice 162 130 until 163 131 his 164 132 election 165 133 to 166 134 the 167 135 house 168 136 of 169 137 representatives 170 138 as 171 139 a 172 140 democrat 173 141 in 174 142 during 176 143 the 177 144 first 178 145 session 179 146 of 180 147 the 181 148 99th 182 149 he 184 150 was 185 151 the 186 152 chairman 187 153 of 188 154 the 189 155 western 190 156 hemisphere 191 157 subcommittee 192 158 of 193 159 the 194 160 house 195 161 foreign 196 162 affairs 197 163 \n",
      "Disambiguation error    ['Saktigarh, Siliguri', 'Saktigarh, Bardhaman', 'Saktigarh railway station']\n",
      "\n",
      "\n",
      " 14 *******************   : Stephens Bros. Boat Builders\n",
      "stephens 0 0 brothers 1 1 boat 2 2 builders 3 3 and 4 4 designers 5 5 company 6 6 an 9 7 american 10 8 boat 11 9 began 13 10 in 14 11 the 15 12 back 16 13 yard 17 14 of 18 15 brothers 19 16 theodore 20 17 and 23 18 robert 24 19 their 28 20 boatbuilding 29 21 firm 30 22 in 31 23 california 33 24 operated 34 25 \n",
      "Disambiguation error    ['Robert Darwin of Elston', 'Robert Waring Darwin of Elston', 'Robin Darwin']\n",
      "\n",
      "\n",
      " 15 *******************   : Albert Laing\n",
      "albert 0 0 laing 1 1 was 2 2 a 3 3 rugby 4 4 league 5 5 player 6 6 who 7 7 represented 8 8 new 9 9 zealand 10 10 in 11 11 1932 12 12 against 13 13 england 14 14 becoming 15 15 kiwi 16 16 he 18 17 played 19 18 club 20 19 rugby 21 20 league 22 21 for 23 22 devonport 24 23 united 25 24 \n",
      "\n",
      " 16 *******************   : MGTOW\n"
     ]
    },
    {
     "name": "stdout",
     "output_type": "stream",
     "text": [
      "towing 0 0 is 1 1 coupling 2 2 two 3 3 or 4 4 more 5 5 objects 6 6 together 7 7 so 8 8 that 9 9 they 10 10 may 11 11 be 12 12 pulled 13 13 by 14 14 a 15 15 designated 16 16 power 17 17 source 18 18 or 19 19 the 21 20 towing 22 21 source 23 22 may 24 23 be 25 24 a 26 25 motorized 27 26 land 28 27 or 32 28 and 34 29 the 35 30 load 36 31 being 37 32 anything 38 33 that 39 34 can 40 35 be 41 36 these 43 37 may 44 38 be 45 39 joined 46 40 by 47 41 a 48 42 fifth 54 43 integrated 58 44 or 60 45 other 61 46 means 62 47 of 63 48 keeping 64 49 the 65 50 objects 66 51 together 67 52 while 68 53 in 69 54 towing 71 55 may 72 56 be 73 57 as 74 58 simple 75 59 as 76 60 a 77 61 tractor 78 62 pulling 79 63 a 80 64 tree 81 65 the 83 66 most 84 67 familiar 85 68 form 86 69 is 87 70 the 88 71 transport 89 72 of 90 73 disabled 91 74 or 92 75 otherwise 93 76 indisposed 94 77 vehicles 95 78 by 96 79 a 97 80 tow 98 81 truck 99 82 or 100 83 other 102 84 familiar 103 85 forms 104 86 are 105 87 the 106 88 \n",
      "Disambiguation error    ['Eurybatus (mythology)', 'Argonauts', 'Cercopes', 'Battle of Sybota', 'Eurybarus', 'Heracles', 'Peloponnesian War', 'Eurybates']\n",
      "\n",
      "\n",
      " 17 *******************   : McBride\n",
      "daniel 0 0 richard 1 1 mcbride 2 2 december 4 3 is 7 4 an 8 5 american 9 6 and 13 7 he 15 8 starred 16 9 in 17 10 the 18 11 hbo 19 12 television 20 13 series 21 14 eastbound 22 15 vice 25 16 and 27 17 the 28 18 righteous 29 19 also 31 20 the 33 21 former 34 22 two 35 23 with 36 24 frequent 37 25 collaborator 38 26 jody 39 27 hill 40 28 while 41 29 creating 42 30 the 43 31 latter 44 32 he 46 33 has 47 34 appeared 48 35 in 49 36 films 50 37 such 51 38 as 52 39 the 53 40 foot 54 41 fist 55 42 way 56 43 hot 58 44 rod 59 45 pineapple 61 46 express 62 47 tropic 64 48 thunder 65 49 up 67 50 in 68 51 the 69 52 air 70 53 your 72 54 highness 73 55 this 75 56 is 76 57 the 77 58 end 78 59 and 80 60 covenant 82 61 he 84 62 has 85 63 done 86 64 voice 87 65 acting 88 66 for 89 67 despicable 90 68 me 91 69 kung 93 70 fu 94 71 panda 95 72 2 96 73 the 98 74 angry 99 75 birds 100 76 sausage 102 77 party 103 78 the 106 79 angry 107 80 birds 108 81 \n",
      "\n",
      " 18 *******************   : Coral Gables Police and Fire Station\n",
      "the 0 0 coral 1 1 gables 2 2 police 3 3 and 4 4 fire 5 5 station 6 6 known 8 7 as 9 8 the 10 9 city 11 10 of 12 11 coral 13 12 gables 14 13 public 15 14 safety 16 15 is 18 16 a 19 17 historic 20 18 site 21 19 in 22 20 coral 23 21 completed 26 22 in 27 23 1939 28 24 as 29 25 a 30 26 works 31 27 progress 32 28 administration 33 29 it 35 30 was 36 31 designed 37 32 by 38 33 phineas 39 34 in 41 35 steps 43 36 were 44 37 taken 45 38 to 46 39 preserve 47 40 the 48 41 building 49 42 and 50 43 its 51 44 legacy 52 45 \n",
      "\n",
      " 19 *******************   : Delma S. Arrigoitia\n",
      "delma 0 0 arrigoitia 2 1 february 4 2 is 7 3 a 8 4 educator 11 5 and 12 6 lawyer 13 7 whose 14 8 written 15 9 works 16 10 cover 17 11 the 18 12 life 19 13 and 20 14 works 21 15 of 22 16 some 23 17 of 24 18 puerto 25 19 most 27 20 prominent 28 21 politicians 29 22 of 30 23 the 31 24 early 32 25 20th 33 26 after 35 27 earning 36 28 her 37 29 doctorate 38 30 in 39 31 history 40 32 at 41 33 fordham 42 34 university 43 35 in 44 36 new 45 37 she 47 38 helped 48 39 develop 49 40 the 50 41 graduate 51 42 school 52 43 for 53 44 history 54 45 at 55 46 the 56 47 university 57 48 of 58 49 puerto 59 50 rico 60 51 and 61 52 taught 62 53 there 63 54 for 64 55 early 67 56 years 68 57 arrigoitia 70 58 delma 73 59 arrigoitia 75 60 peraza 76 61 was 78 62 born 79 63 in 80 64 the 81 65 city 82 66 of 83 67 arecibo 84 68 to 85 69 enrique 86 70 and 87 71 consuelo 88 72 her 90 73 father 91 74 had 92 75 two 93 76 sons 94 77 from 95 78 his 96 79 first 97 80 but 99 81 delma 100 82 grew 101 83 up 102 84 mostly 103 85 as 104 86 an 105 87 only 106 88 she 108 89 was 109 90 always 110 91 intrigued 111 92 by 112 93 reading 113 94 one 115 95 of 116 96 her 117 97 brothers 118 98 became 119 99 a 120 100 medical 121 101 and 123 102 the 124 103 other 125 104 has 126 105 a 127 106 doctorate 128 107 in 129 108 comes 131 109 from 132 110 a 133 111 distinguished 134 112 family 135 113 whose 136 114 love 137 115 for 138 116 education 139 117 and 140 118 culture 141 119 served 142 120 as 143 121 [124, 142, 46, 144, 33, 76, 128, 41, 110, 68, 157, 144, 67, 164, 26, 25, 89, 82, 46, 122]\n",
      "[124, 266, 312, 456, 489, 565, 693, 734, 844, 912, 1069, 1213, 1280, 1444, 1470, 1495, 1584, 1666, 1712]\n",
      "(0, 100)\n",
      "\n",
      "Disambiguation error    ['The Warriors', 'Brian Tyler (racing driver)']\n",
      "\n",
      "\n",
      " 0 *******************   : The Butterfly Effect (band)\n",
      "the 0 0 butterfly 1 1 effect 2 2 are 3 3 an 4 4 australian 5 5 rock 6 6 band 7 7 from 8 8 brisbane 9 9 formed 10 10 in 11 11 the 13 12 band 14 13 released 15 14 a 16 15 debut 18 16 ep 19 17 in 20 18 and 22 19 then 23 20 three 24 21 albums 26 22 begins 28 23 here 29 24 in 30 25 imago 32 26 in 33 27 and 35 28 final 36 29 conversation 37 30 of 38 31 kings 39 32 in 40 33 during 42 34 this 43 35 the 45 36 band 46 37 consisted 47 38 of 48 39 clint 49 40 boge 50 41 on 51 42 \n",
      "\n",
      " 1 *******************   : Sheppard Air Force Base\n",
      "sheppard 0 0 air 1 1 force 2 2 base 3 3 faa 8 4 is 11 5 a 12 6 united 13 7 states 14 8 air 15 9 force 16 10 base 17 11 located 18 12 five 19 13 miles 20 14 north 23 15 of 24 16 the 25 17 central 26 18 business 27 19 district 28 20 of 29 21 wichita 30 22 in 32 23 wichita 33 24 united 36 25 it 38 26 is 39 27 the 40 28 largest 41 29 training 42 30 base 43 31 and 44 32 most 45 33 diversified 46 34 \n",
      "\n",
      " 2 *******************   : Margherita Marchione\n",
      "sister 0 0 margherita 1 1 marchione 2 2 1922 5 3 may 7 4 was 10 5 an 11 6 american 12 7 roman 13 8 catholic 14 9 teacher 17 10 and 18 11 who 20 12 dedicated 21 13 herself 22 14 in 23 15 her 24 16 later 25 17 years 26 18 to 27 19 the 28 20 defense 29 21 of 30 22 pope 31 23 pius 32 24 early 35 25 life 36 26 marchione 38 27 was 39 28 born 40 29 in 41 30 february 42 31 1922 43 32 in 44 33 little 45 34 new 47 35 one 49 36 of 50 37 eight 51 38 children 52 39 of 53 40 crescenzo 54 41 and 55 42 felicia 56 43 immigrants 58 44 from 59 45 she 62 46 attended 63 47 school 66 48 in 67 49 nearby 68 50 and 70 51 in 71 52 1935 72 53 she 73 54 joined 74 55 the 75 56 religious 76 57 teachers 77 58 she 79 59 became 80 60 a 81 61 nun 82 62 in 83 63 1938 84 64 at 85 65 the 86 66 age 87 67 of 88 68 received 90 69 her 91 70 from 93 71 georgian 94 72 court 95 73 and 97 74 her 98 75 and 100 76 from 102 77 columbia 103 78 and 105 79 eventually 106 80 became 107 81 a 108 82 professor 109 83 at 110 84 fairleigh 111 85 dickinson 112 86 after 114 87 earning 115 88 a 116 89 doctorate 117 90 on 118 91 philosophy 119 92 at 120 93 she 122 94 was 123 95 the 124 96 first 125 97 nun 126 98 to 127 99 become 128 100 a 129 101 tenured 130 102 professor 131 103 at 132 104 fairleigh 133 105 dickinson 134 106 where 136 107 she 137 108 taught 138 109 italian 139 110 language 140 111 and 141 112 literature 142 113 for 143 114 nearly 144 115 two 145 116 on 148 117 philip 149 118 mazzei 150 119 interest 153 120 in 154 121 philip 155 122 mazzei 156 123 began 157 124 in 158 125 1974 159 126 philip 161 127 an 163 128 florentine 165 129 who 166 130 moved 167 131 to 168 132 fought 170 133 in 171 134 the 172 135 american 173 136 and 175 137 became 176 138 a 177 139 lifelong 178 140 personal 179 141 friend 180 142 of 181 143 thomas 182 144 \n",
      "\n",
      " 3 *******************   : Waverly, Nebraska\n"
     ]
    },
    {
     "name": "stdout",
     "output_type": "stream",
     "text": [
      "waverly 0 0 is 1 1 a 2 2 village 3 3 in 4 4 lancaster 5 5 united 8 6 it 10 7 is 11 8 part 12 9 of 13 10 the 14 11 nebraska 16 12 metropolitan 17 13 statistical 18 14 the 20 15 population 21 16 was 22 17 at 24 18 the 25 19 2010 26 20 history 29 21 waverly 31 22 was 32 23 platted 33 24 in 34 25 1870 35 26 when 36 27 the 37 28 railroad 38 29 was 39 30 extended 40 31 to 41 32 that 42 33 it 44 34 was 45 35 named 46 36 after 47 37 walter 48 38 1814 50 39 historical 51 40 novel 52 41 several 54 42 of 55 43 the 56 44 street 58 45 names 59 46 were 60 47 taken 61 48 from 62 49 the 63 50 novel 64 51 as 65 52 waverly 67 53 was 68 54 incorporated 69 55 as 70 56 a 71 57 village 72 58 in 73 59 from 75 60 1921 76 61 to 77 62 1966 78 63 waverly 79 64 consolidated 80 65 its 81 66 school 82 67 district 83 68 with 84 69 several 85 70 surrounding 86 71 school 87 72 allowing 89 73 for 90 74 the 91 75 school 92 76 system 93 77 in 94 78 waverly 95 79 to 96 80 geography 99 81 waverly 101 82 is 102 83 located 103 84 at 104 85 to 109 86 the 110 87 united 111 88 states 112 89 census 113 90 the 115 91 city 116 92 has 117 93 a 118 94 total 119 95 area 120 96 of 121 97 square 123 98 miles 124 99 all 127 100 demographics 130 101 2010 133 102 census 134 103 as 136 104 of 137 105 the 138 106 census 139 107 of 140 108 there 142 109 were 143 110 and 148 111 903 149 112 families 150 113 living 151 114 in 152 115 the 153 116 the 155 117 population 156 118 density 157 119 was 158 120 inhabitants 160 121 per 161 122 square 162 123 mile 163 124 there 165 125 were 166 126 housing 168 127 units 169 128 at 170 129 an 171 130 average 172 131 density 173 132 of 174 133 per 176 134 square 177 135 mile 178 136 the 180 137 racial 181 138 makeup 182 139 of 183 140 the 184 141 city 185 142 was 186 143 african 190 144 native 193 145 from 198 146 other 199 147 and 201 148 from 203 149 two 204 150 or 205 151 more 206 152 hispanic 208 153 or 209 154 latino 210 155 \n",
      "\n",
      " 4 *******************   : V. I. Warshawski\n",
      "victoria 0 0 iphigenia 1 1 warshawski 5 2 is 6 3 a 7 4 fictional 8 5 private 9 6 investigator 10 7 from 11 8 chicago 12 9 who 13 10 is 14 11 the 15 12 protagonist 16 13 featured 17 14 in 18 15 a 19 16 series 20 17 of 21 18 detective 22 19 novels 23 20 and 24 21 short 25 22 stories 26 23 written 27 24 by 28 25 chicago 29 26 author 30 27 sara 31 28 the 33 29 exception 34 30 of 35 31 pietro 37 32 adventures 40 33 are 41 34 written 42 35 in 43 36 the 44 37 first 45 38 biography 48 39 victoria 50 40 iphigenia 51 41 called 53 42 by 55 43 her 56 44 is 58 45 the 59 46 daughter 60 47 of 61 48 gabriella 63 49 who 65 50 was 66 51 and 68 52 fled 69 53 the 70 54 mussolini 71 55 regime 72 56 in 73 57 trained 75 58 as 76 59 an 77 60 opera 78 61 she 80 62 was 81 63 destitute 82 64 when 83 65 she 84 66 arrived 85 67 as 86 68 a 87 69 refugee 88 70 she 90 71 met 91 72 and 92 73 married 93 74 anton 94 75 a 97 76 polish 98 77 american 99 78 police 100 79 officer 101 80 in 102 81 gabriella 104 82 spoke 105 83 italian 106 84 and 107 85 heavily 108 86 accented 109 87 english 110 88 with 111 89 her 112 90 who 114 91 became 115 92 fluent 116 93 in 117 94 on 119 95 the 120 96 other 121 97 the 123 98 tony 125 99 spoke 126 100 only 127 101 english 128 102 with 129 103 and 131 104 she 132 105 picked 133 106 up 134 107 only 135 108 a 136 109 few 137 110 words 138 111 of 139 112 polish 140 113 from 141 114 her 142 115 paternal 143 116 gabriella 145 117 died 146 118 of 147 119 cancer 148 120 when 149 121 vic 150 122 was 151 123 in 152 124 high 153 125 tony 155 126 died 156 127 ten 157 128 years 158 129 later 159 130 in 160 131 suggesting 162 132 that 163 133 vic 164 134 was 165 135 born 166 136 about 167 137 blood 169 138 shot 170 139 as 172 140 in 175 141 the 176 142 refers 178 143 to 179 144 vic 180 145 having 181 146 last 182 147 been 183 148 to 184 149 her 185 150 high 186 151 school 187 152 some 188 153 20 189 154 years 190 155 making 192 156 the 193 157 setting 194 158 of 195 159 this 196 160 story 197 161 the 199 162 \n",
      "Exception error    Page id \"chad mcmahon\" does not match any pages. Try another id!\n",
      "\n",
      "Disambiguation error    ['Astrology (album)', 'Bbno$', 'Astronomy', 'All pages with titles beginning with Astrology', 'All pages with titles beginning with Astrological', 'All pages with titles containing astrology', 'All pages with titles containing astrological']\n",
      "\n",
      "\n",
      " 5 *******************   : Tour de Ski\n",
      "the 0 0 tour 1 1 de 2 2 ski 3 3 is 5 4 a 6 5 skiing 8 6 event 9 7 held 10 8 annually 11 9 since 12 10 the 13 11 season 15 12 in 16 13 central 17 14 modeled 19 15 on 20 16 the 21 17 tour 22 18 de 23 19 france 24 20 of 25 21 the 27 22 tour 28 23 de 29 24 ski 30 25 is 31 26 a 32 27 stage 33 28 world 34 29 cup 35 30 event 36 31 in 37 32 the 38 33 fis 39 34 world 41 35 each 43 36 tour 44 37 de 45 38 ski 46 39 has 47 40 consisted 48 41 of 49 42 six 50 43 to 51 44 nine 52 45 held 54 46 during 55 47 late 56 48 december 57 49 and 58 50 early 59 51 january 60 52 in 61 53 the 62 54 czech 63 55 and 67 56 as 69 57 of 70 58 the 72 59 prize 73 60 money 74 61 for 75 62 the 76 63 event 77 64 amount 78 65 to 79 66 swiss 81 67 francs 82 68 shared 85 69 out 86 70 on 87 71 both 88 72 men 89 73 and 90 74 and 93 75 events 95 76 are 96 77 held 97 78 together 98 79 on 99 80 the 100 81 same 101 82 with 103 83 the 104 84 only 105 85 difference 106 86 being 107 87 the 108 88 distance 109 89 the 111 90 stage 112 91 hosts 113 92 changes 114 93 every 115 94 but 117 95 some 118 96 of 119 97 the 120 98 format 121 99 stays 122 100 the 123 101 same 124 102 with 125 103 the 126 104 diversity 127 105 of 128 106 mass 131 107 races 133 108 with 134 109 individual 135 110 starts 136 111 and 137 112 the 139 113 tour 140 114 de 141 115 ski 142 116 has 143 117 every 144 118 year 145 119 concluded 146 120 with 147 121 two 148 122 or 149 123 three 150 124 stages 151 125 in 152 126 val 153 127 di 154 128 with 156 129 the 157 130 final 158 131 \n",
      "\n",
      " 6 *******************   : Fairmont, North Carolina\n",
      "fairmont 0 0 is 1 1 a 2 2 town 3 3 in 4 4 robeson 5 5 north 7 6 united 9 7 the 11 8 population 12 9 was 13 10 at 15 11 the 16 12 2010 17 13 history 20 14 fairmont 22 15 was 23 16 founded 24 17 on 25 18 the 26 19 site 27 20 of 28 21 the 29 22 ashpole 30 23 a 32 24 small 33 25 private 34 26 and 36 27 was 37 28 chartered 38 29 in 39 30 1899 40 31 as 41 32 then 43 33 union 44 34 city 45 35 and 46 36 lastly 47 37 as 48 38 the 50 39 first 51 40 settlers 52 41 to 53 42 this 54 43 area 55 44 received 56 45 land 57 46 grants 58 47 from 59 48 the 60 49 lords 61 50 proprietors 62 51 and 63 52 worked 64 53 in 65 54 the 66 55 logging 67 56 and 68 57 naval 69 58 stores 70 59 industries 71 60 producing 72 61 turpentine 74 62 and 75 63 pitch 76 64 for 77 65 the 79 66 county 81 67 lumber 82 68 company 83 69 opened 84 70 in 85 71 the 86 72 northern 87 73 section 88 74 of 89 75 town 90 76 in 91 77 the 92 78 late 93 79 1890s 94 80 employing 95 81 300 96 82 men 97 83 and 98 84 becoming 99 85 one 100 86 of 101 87 the 102 88 largest 103 89 lumber 104 90 companies 105 91 in 106 92 the 107 93 by 109 94 the 110 95 late 111 96 19th 112 97 a 114 98 thriving 115 99 tobacco 116 100 market 117 101 had 118 102 been 119 103 established 120 104 as 121 105 the 123 106 railroads 124 107 later 125 108 followed 126 109 to 127 110 \n",
      "Disambiguation error    ['Richard L. Berkley', 'Richard J. Berkley', 'Richard Berkeley (disambiguation)']\n",
      "\n",
      "\n",
      " 7 *******************   : History of construction\n"
     ]
    },
    {
     "name": "stdout",
     "output_type": "stream",
     "text": [
      "the 0 0 history 1 1 of 2 2 construction 3 3 embraces 4 4 many 5 5 other 6 6 including 8 7 structural 9 8 civil 11 9 city 13 10 growth 14 11 and 15 12 population 16 13 which 18 14 are 19 15 relatives 20 16 to 21 17 branches 22 18 of 23 19 and 27 20 the 29 21 fields 30 22 permit 31 23 allow 32 24 both 33 25 modern 34 26 and 35 27 ancient 36 28 construction 37 29 to 38 30 be 39 31 as 41 32 well 42 33 as 43 34 the 44 35 building 46 36 and 48 37 tools 49 38 construction 51 39 has 52 40 evolved 53 41 and 54 42 undergone 55 43 different 56 44 trends 57 45 over 58 46 marked 60 47 by 61 48 a 62 49 few 63 50 key 64 51 durability 66 52 of 67 53 the 68 54 materials 69 55 increase 71 56 in 72 57 building 73 58 height 74 59 and 75 60 the 77 61 degree 78 62 of 79 63 control 80 64 exercised 81 65 over 82 66 the 83 67 interior 84 68 and 86 69 the 88 70 energy 89 71 available 90 72 for 91 73 the 92 74 construction 93 75 chronological 96 76 development 97 77 neolithic 100 78 construction 101 79 the 103 80 also 105 81 known 106 82 as 107 83 the 108 84 new 109 85 stone 110 86 was 112 87 a 113 88 time 114 89 period 115 90 roughly 116 91 from 117 92 9000 118 93 bc 119 94 to 120 95 5000 121 96 bc 122 97 named 123 98 because 124 99 it 125 100 was 126 101 the 127 102 last 128 103 period 129 104 of 130 105 the 131 106 age 132 107 before 133 108 woodworking 134 109 the 136 110 tools 137 111 available 138 112 were 139 113 made 140 114 from 141 115 natural 142 116 including 144 117 animal 150 118 and 152 119 various 154 120 tools 155 121 for 156 122 cutting 157 123 were 158 124 used 159 125 such 160 126 as 161 127 the 162 128 hand 163 129 and 167 130 as 169 131 well 170 132 as 171 133 tools 172 134 to 173 135 scrape 174 136 or 175 137 such 177 138 as 178 139 the 179 140 flake 180 141 and 182 142 tools 183 143 to 184 144 pull 188 145 and 189 146 building 191 147 materials 192 148 included 193 149 bones 194 150 such 195 151 as 196 152 mammoth 197 153 lime 205 154 and 207 155 for 209 156 the 211 157 first 212 158 \n",
      "\n",
      " 8 *******************   : John Ashley (bandit)\n",
      "john 0 0 hopkin 1 1 ashley 2 2 1888 5 3 or 6 4 1895 7 5 november 9 6 was 12 7 an 13 8 american 14 9 bank 16 10 and 19 11 occasional 20 12 pirate 21 13 active 22 14 in 23 15 southern 24 16 florida 25 17 during 26 18 the 27 19 1910s 28 20 and 29 21 between 31 22 1915 32 23 and 33 24 the 35 25 of 38 26 the 39 27 or 41 28 operated 44 29 from 45 30 various 46 31 hideouts 47 32 in 48 33 the 49 34 florida 50 35 his 52 36 gang 53 37 robbed 54 38 nearly 55 39 million 57 40 from 58 41 at 59 42 least 60 43 40 61 44 banks 62 45 while 63 46 at 64 47 the 65 48 \n",
      "\n",
      " 9 *******************   : Isamu Akasaki\n",
      "isamu 0 0 akasaki 1 1 akasaki 4 2 january 6 3 1929 8 4 april 10 5 was 13 6 a 14 7 japanese 15 8 engineer 16 9 and 17 10 specializing 19 11 in 20 12 the 21 13 field 22 14 of 23 15 semiconductor 24 16 technology 25 17 and 26 18 nobel 27 19 prize 28 20 best 30 21 known 31 22 for 32 23 inventing 33 24 the 34 25 bright 35 26 gallium 36 27 nitride 37 28 junction 40 29 blue 41 30 led 42 31 in 43 32 1989 44 33 and 45 34 subsequently 46 35 the 47 36 gan 49 37 blue 50 38 led 51 39 as 52 40 this 54 41 and 55 42 other 56 43 akasaki 58 44 was 59 45 awarded 60 46 the 61 47 kyoto 62 48 prize 63 49 in 64 50 advanced 65 51 technology 66 52 in 67 53 and 69 54 the 70 55 ieee 71 56 edison 72 57 medal 73 58 in 74 59 he 76 60 was 77 61 also 78 62 awarded 79 63 the 80 64 2014 81 65 nobel 82 66 prize 83 67 in 84 68 together 86 69 with 87 70 hiroshi 88 71 amano 89 72 and 90 73 shuji 91 74 the 94 75 invention 95 76 of 96 77 efficient 97 78 blue 98 79 which 101 80 has 102 81 enabled 103 82 bright 104 83 and 105 84 white 107 85 light 108 86 in 110 87 along 113 88 with 114 89 shuji 115 90 nick 117 91 george 120 92 craford 121 93 and 122 94 russell 123 95 dupuis 125 96 were 126 97 awarded 127 98 the 128 99 queen 129 100 elizabeth 130 101 prize 131 102 for 132 103 engineering 133 104 the 135 105 creation 136 106 and 137 107 development 138 108 of 139 109 led 140 110 which 142 111 forms 143 112 the 144 113 basis 145 114 of 146 115 all 147 116 solid 148 117 state 149 118 lighting 150 119 early 153 120 life 154 121 and 155 122 education 156 123 he 158 124 was 159 125 born 160 126 in 161 127 kagoshima 163 128 prefecture 164 129 and 165 130 raised 166 131 in 167 132 kagoshima 168 133 his 170 134 elder 171 135 brother 172 136 is 173 137 masanori 174 138 who 176 139 was 177 140 an 178 141 electronic 179 142 engineering 180 143 \n",
      "\n",
      " 10 *******************   : Nippes\n",
      "the 0 0 nipple 1 1 is 2 2 a 3 3 raised 4 4 region 5 5 of 6 6 tissue 7 7 on 8 8 the 9 9 surface 10 10 of 11 11 the 12 12 breast 13 13 from 14 14 in 16 15 milk 18 16 leaves 19 17 the 20 18 breast 21 19 through 22 20 the 23 21 lactiferous 24 22 ducts 25 23 to 26 24 feed 27 25 an 28 26 the 30 27 milk 31 28 can 32 29 flow 33 30 through 34 31 the 35 32 nipple 36 33 passively 37 34 or 38 35 it 39 36 can 40 37 be 41 38 ejected 42 39 by 43 40 smooth 44 41 muscle 45 42 contractions 46 43 that 47 44 occur 48 45 along 49 46 with 50 47 the 51 48 ductal 52 49 the 54 50 nipple 55 51 is 56 52 surrounded 57 53 by 58 54 the 59 55 which 61 56 is 62 57 often 63 58 a 64 59 darker 65 60 colour 66 61 than 67 62 the 68 63 surrounding 69 64 a 71 65 nipple 72 66 is 73 67 often 74 68 called 75 69 a 76 70 teat 77 71 when 78 72 referring 79 73 to 80 74 nipple 82 75 or 83 76 teat 84 77 can 85 78 also 86 79 be 87 80 used 88 81 to 89 82 describe 90 83 the 91 84 flexible 92 85 mouthpiece 93 86 of 94 87 a 95 88 baby 96 89 in 98 90 the 100 91 nipples 101 92 of 102 93 both 103 94 males 104 95 and 105 96 females 106 97 can 107 98 be 108 99 stimulated 109 100 as 110 101 part 111 102 of 112 103 sexual 113 104 in 115 105 many 116 106 human 118 107 female 119 108 nipples 120 109 are 121 110 or 123 111 as 125 112 sex 126 113 objects 127 114 and 128 115 evaluated 129 116 in 130 117 terms 131 118 of 132 119 their 133 120 physical 134 121 characteristics 135 122 and 136 123 anatomy 139 124 in 141 125 a 143 126 nipple 144 127 called 146 128 mammary 147 129 papilla 148 130 or 149 131 is 151 132 a 152 133 small 153 134 projection 154 135 of 155 136 skin 156 137 containing 157 138 the 158 139 outlets 159 140 for 160 141 lactiferous 162 142 ducts 163 143 arranged 164 144 cylindrically 165 145 around 166 146 the 167 147 marsupials 169 148 and 170 149 eutherian 171 150 mammals 172 151 typically 173 152 have 174 153 an 175 154 even 176 155 number 177 156 of 178 157 nipples 179 158 arranged 180 159 from 182 160 as 183 161 few 184 162 as 185 163 2 186 164 to 187 165 as 188 166 many 189 167 as 190 168 skin 192 169 \n",
      "\n",
      " 11 *******************   : Sagardighi, Murshidabad\n",
      "sagardighi 0 0 is 1 1 a 2 2 town 3 3 situated 4 4 in 5 5 the 6 6 sagardighi 7 7 cd 8 8 block 9 9 in 10 10 the 11 11 jangipur 12 12 subdivision 13 13 of 14 14 murshidabad 15 15 district 16 16 in 17 17 the 18 18 state 19 19 of 20 20 west 21 21 history 25 22 it 27 23 is 28 24 revealed 29 25 by 30 26 the 31 27 period 32 28 of 33 29 by 37 30 that 40 31 it 41 32 was 42 33 an 43 34 ancient 44 35 in 46 36 pala 47 37 reign 48 38 sagardighi 51 39 was 52 40 one 53 41 of 54 42 the 55 43 main 56 44 centres 57 45 of 58 46 buddhist 59 47 after 61 48 this 62 49 in 63 50 medieval 64 51 \n",
      "\n",
      " 12 *******************   : Sardonicism\n",
      "to 0 0 be 1 1 sardonic 2 2 is 3 3 to 4 4 be 5 5 disdainfully 6 6 or 7 7 cynically 8 8 or 10 9 scornfully 11 10 a 13 11 form 14 12 of 15 13 wit 16 14 or 17 15 being 19 16 sardonic 20 17 often 21 18 involves 22 19 expressing 23 20 an 24 21 uncomfortable 25 22 truth 26 23 in 27 24 a 28 25 clever 29 26 and 30 27 not 31 28 necessarily 32 29 malicious 33 30 often 35 31 with 36 32 a 37 33 degree 38 34 of 39 35 origin 42 36 both 44 37 the 45 38 concept 46 39 and 47 40 the 48 41 etymology 49 42 of 50 43 the 51 44 while 53 45 being 54 46 of 55 47 uncertain 56 48 appear 58 49 to 59 50 stem 60 51 from 61 52 the 62 53 mediterranean 63 54 island 64 55 of 65 56 the 67 57 byzantine 69 58 greek 70 59 encyclopedia 71 60 suda 72 61 traces 73 62 the 74 63 earliest 76 64 \n",
      "\n",
      " 13 *******************   : Atomics International\n"
     ]
    },
    {
     "name": "stdout",
     "output_type": "stream",
     "text": [
      "atomics 0 0 international 1 1 was 2 2 a 3 3 division 4 4 of 5 5 the 6 6 north 7 7 american 8 8 aviation 9 9 company 10 10 acquired 12 11 by 13 12 the 14 13 rockwell 15 14 international 16 15 which 18 16 engaged 19 17 principally 20 18 in 21 19 the 22 20 early 23 21 development 24 22 of 25 23 nuclear 26 24 technology 27 25 and 28 26 nuclear 29 27 reactors 30 28 for 31 29 both 32 30 commercial 33 31 and 34 32 government 35 33 atomics 37 34 international 38 35 was 39 36 responsible 40 37 for 41 38 a 42 39 number 43 40 of 44 41 accomplishments 45 42 relating 46 43 to 47 44 nuclear 48 45 construction 51 46 and 52 47 operation 53 48 of 54 49 the 55 50 first 56 51 nuclear 57 52 reactor 58 53 in 59 54 california 60 55 the 62 56 first 63 57 nuclear 64 58 reactor 65 59 to 66 60 produce 67 61 power 68 62 for 69 63 a 70 64 commercial 71 65 power 72 66 grid 73 67 in 74 68 the 75 69 united 76 70 states 77 71 and 79 72 the 80 73 first 81 74 nuclear 82 75 reactor 83 76 launched 84 77 into 85 78 outer 86 79 space 87 80 by 88 81 the 89 82 united 90 83 states 91 84 international 93 85 undertook 94 86 the 95 87 development 96 88 of 97 89 nuclear 98 90 reactors 99 91 soon 100 92 after 101 93 being 102 94 a 104 95 series 105 96 of 106 97 commercial 107 98 nuclear 108 99 power 109 100 reactors 110 101 beginning 111 102 with 112 103 the 113 104 sodium 114 105 reactor 115 106 \n",
      "\n",
      " 14 *******************   : Brandur Enni\n",
      "brandur 0 0 helgason 1 1 enni 2 2 15 4 3 april 5 4 is 7 5 a 8 6 faroese 9 7 and 13 8 he 15 9 plays 16 10 piano 19 11 and 20 12 in 22 13 august 23 14 he 25 15 moved 26 16 to 27 17 where 29 18 he 30 19 studied 31 20 music 32 21 for 33 22 two 34 23 years 35 24 at 36 25 the 37 26 music 38 27 production 39 28 academy 40 29 in 42 30 he 44 31 moved 45 32 back 46 33 to 47 34 his 48 35 hometown 49 36 and 51 37 started 52 38 to 53 39 attend 54 40 the 55 41 suduroy 56 42 high 57 43 brother 60 44 enni 62 45 is 63 46 also 64 47 a 65 48 singer 66 49 and 67 50 songwriter 68 51 and 69 52 plays 70 53 several 71 54 he 73 55 is 74 56 well 75 57 known 76 58 in 77 59 the 78 60 faroe 79 61 islands 80 62 and 81 63 sometimes 82 64 performs 83 65 with 84 66 singer 86 67 at 89 68 the 90 69 midsummer 91 70 festival 92 71 in 93 72 the 95 73 two 96 74 brothers 97 75 brandur 98 76 and 99 77 performed 101 78 together 102 79 on 103 80 stage 104 81 along 105 82 with 106 83 other 107 84 faroese 108 85 career 111 86 brandur 113 87 musical 115 88 career 116 89 started 117 90 he 119 91 was 120 92 singing 121 93 \n",
      "\n",
      " 15 *******************   : Ivory (Omar Apollo album)\n",
      "ivory 0 0 is 1 1 the 2 2 debut 3 3 studio 4 4 album 5 5 by 6 6 american 7 7 omar 9 8 released 11 9 on 12 10 april 13 11 by 16 12 warner 17 13 the 19 14 album 20 15 was 21 16 promoted 22 17 by 23 18 five 24 19 and 33 20 the 35 21 deluxe 37 22 titled 39 23 ivory 40 24 featuring 42 25 five 43 26 additional 44 27 is 46 28 going 47 29 to 48 30 be 49 31 released 50 32 on 51 33 august 52 34 received 55 35 mostly 56 36 positive 57 37 with 59 38 critics 60 39 praising 61 40 musical 63 41 growth 64 42 and 65 43 vocal 66 44 background 69 45 debut 72 46 album 73 47 had 74 48 to 75 49 go 76 50 through 77 51 a 78 52 rewriting 79 53 process 80 54 as 81 55 he 82 56 was 83 57 dissatisfied 84 58 with 85 59 the 86 60 initial 87 61 version 88 62 of 89 63 the 90 64 apollo 92 65 had 95 66 this 96 67 feeling 97 68 that 98 69 i 99 70 want 101 71 to 102 72 promote 103 73 or 104 74 tour 105 75 this 106 76 i 108 77 excited 110 78 about 111 79 it 113 80 was 114 81 good 115 82 music 116 83 it 118 84 bad 120 85 but 122 86 it 123 87 feel 125 88 like 126 89 despite 128 90 the 129 91 disappointment 130 92 from 131 93 his 132 94 record 133 95 label 134 96 apollo 136 97 was 137 98 allowed 138 99 to 139 100 proceed 140 101 with 141 102 the 142 103 starting 144 104 in 145 105 november 146 106 after 148 107 releasing 149 108 two 150 109 lead 151 110 february 153 111 apollo 156 112 announced 157 113 the 158 114 release 159 115 date 160 116 as 161 117 well 162 118 as 163 119 the 164 120 title 165 121 of 166 122 \n",
      "\n",
      " 16 *******************   : 2021 general convention of Rastriya Prajatantra Party\n",
      "the 0 0 rastriya 1 1 prajatantra 2 2 party 3 3 democratic 10 4 is 22 5 a 23 6 constitutional 24 7 monarchist 25 8 and 26 9 hindu 27 10 nationalist 28 11 political 29 12 party 30 13 in 31 14 it 33 15 was 34 16 formed 35 17 by 36 18 former 37 19 prime 38 20 ministers 39 21 surya 40 22 bahadur 41 23 thapa 42 24 and 43 25 lokendra 44 26 bahadur 45 27 who 47 28 served 48 29 two 49 30 \n",
      "\n",
      " 17 *******************   : Mianfu\n",
      "mianfu 0 0 is 8 1 a 9 2 kind 10 3 of 11 4 chinese 12 5 clothing 13 6 worn 14 7 by 15 8 and 18 9 princes 19 10 in 20 11 historical 21 12 from 23 13 the 24 14 shang 25 15 to 26 16 the 27 17 ming 28 18 mianfu 30 19 is 31 20 the 32 21 highest 33 22 level 34 23 of 35 24 formal 36 25 dress 37 26 worn 38 27 by 39 28 chinese 40 29 monarchs 41 30 and 42 31 the 43 32 ruling 44 33 families 45 34 in 46 35 special 47 36 ceremonial 48 37 events 49 38 such 50 39 as 51 40 morning 53 41 ancestral 55 42 new 58 43 audience 60 44 and 61 45 other 62 46 ceremonial 63 47 there 65 48 \n",
      "\n",
      " 18 *******************   : Terry Hall\n",
      "terence 0 0 edward 1 1 hall 2 2 19 4 3 march 5 4 is 7 5 an 8 6 english 9 7 musician 10 8 and 11 9 the 12 10 lead 13 11 singer 14 12 of 15 13 the 16 14 and 18 15 formerly 19 16 of 20 17 fun 21 18 boy 22 19 the 24 20 blair 27 21 anouchka 29 22 and 30 23 he 32 24 has 33 25 released 34 26 two 35 27 solo 36 28 albums 37 29 and 38 30 has 39 31 also 40 32 collaborated 41 33 with 42 34 many 43 35 artists 44 36 including 45 37 david 46 38 lightning 50 39 stephen 54 40 dub 56 41 damon 59 42 junkie 63 43 leila 65 44 lily 67 45 shakespears 69 46 and 72 47 nouvelle 73 48 biography 76 49 early 79 50 years 80 51 born 82 52 and 83 53 raised 84 54 in 85 55 hall 88 56 was 89 57 abducted 90 58 by 91 59 a 92 60 paedophile 93 61 ring 94 62 on 95 63 a 96 64 trip 97 65 to 98 66 france 99 67 at 100 68 the 101 69 age 102 70 of 103 71 he 105 72 left 106 73 school 107 74 before 108 75 his 109 76 fifteenth 110 77 taking 112 78 various 113 79 jobs 115 80 quantity 118 81 and 120 82 apprentice 121 83 hairdresser 122 84 among 123 85 he 125 86 became 126 87 an 127 88 active 128 89 member 129 90 of 130 91 the 131 92 burgeoning 132 93 coventry 133 94 music 134 95 scene 135 96 of 136 97 the 137 98 late 138 99 playing 140 100 in 141 101 a 142 102 local 143 103 punk 144 104 band 145 105 called 146 106 squad 147 107 he 149 108 was 150 109 succeeded 151 110 by 152 111 gus 153 112 chambers 154 113 after 155 114 he 156 115 left 157 116 and 159 117 being 160 118 credited 161 119 as 162 120 a 163 121 composer 164 122 on 165 123 their 166 124 the 171 125 specials 172 126 initially 174 127 the 175 128 frontman 176 129 of 177 130 coventry 179 131 in 181 132 which 183 133 became 184 134 the 185 135 specials 186 136 in 187 137 early 188 138 hall 190 139 first 191 140 came 192 141 to 193 142 prominence 194 143 in 195 144 the 196 145 uk 197 146 in 198 147 1979 199 148 when 200 149 \n",
      "\n",
      " 19 *******************   : Cytochrome c peroxidase\n",
      "cytochrome 0 0 c 1 1 or 3 2 is 5 3 a 6 4 enzyme 9 5 of 10 6 the 11 7 peroxidase 12 8 family 13 9 that 14 10 takes 15 11 reducing 16 12 equivalents 17 13 from 18 14 cytochrome 19 15 c 20 16 and 21 17 reduces 22 18 hydrogen 23 19 peroxide 24 20 to 25 21 ccp 27 22 h2o2 29 23 2 31 24 ferrocytochrome 32 25 c 33 26 ccp 37 27 2h2o 39 28 2 41 29 ferricytochrome 42 30 cccp 43 31 can 44 32 be 45 33 derived 46 34 from 47 35 aerobically 48 36 grown 49 37 yeast 50 38 strains 51 39 and 52 40 can 53 41 be 54 42 isolated 55 43 in 56 44 both 57 45 native 58 46 and 59 47 recombinant 60 48 forms 61 49 with 62 50 high 63 51 yield 64 52 from 65 53 saccharomyces 66 54 the 68 55 primary 70 56 function 71 57 is 72 58 to 73 59 eliminate 74 60 toxic 75 61 radical 76 62 molecules 77 63 produced 78 64 by 79 65 the 80 66 cell 81 67 which 82 68 are 83 69 harmful 84 70 to 85 71 biological 86 72 it 88 73 works 89 74 to 90 75 maintain 91 76 low 92 77 concentration 93 78 levels 94 79 of 95 80 hydrogen 96 81 which 98 82 is 99 83 generated 100 84 by 101 85 the 102 86 organism 103 87 naturally 104 88 through 105 89 incomplete 106 90 oxygen 107 91 when 109 92 glucose 110 93 levels 111 94 in 112 95 fast 113 96 growing 114 97 yeast 115 98 strains 116 99 are 117 100 the 119 101 cells 120 102 turn 121 103 to 122 104 respiration 123 105 which 124 106 raises 125 107 the 126 108 [43, 35, 145, 156, 163, 132, 111, 159, 49, 144, 170, 52, 65, 107, 94, 123, 31, 49, 150, 109]\n",
      "[43, 78, 223, 379, 542, 674, 785, 944, 993, 1137, 1307, 1359, 1424, 1531, 1625, 1748, 1779, 1828, 1978]\n",
      "(0, 100)\n"
     ]
    },
    {
     "name": "stdout",
     "output_type": "stream",
     "text": [
      "\n",
      "\n",
      " 0 *******************   : R v Van der Peet\n",
      "r 0 0 v 1 1 van 2 2 der 3 3 2 6 4 507 8 5 is 9 6 a 10 7 leading 11 8 case 12 9 on 13 10 aboriginal 14 11 rights 15 12 under 16 13 section 17 14 35 18 15 of 19 16 the 20 17 constitution 21 18 the 24 19 supreme 25 20 court 26 21 held 27 22 that 28 23 aboriginal 29 24 fishing 30 25 rights 31 26 did 32 27 not 33 28 extend 34 29 to 35 30 commercial 36 31 selling 37 32 of 38 33 from 40 34 this 41 35 case 42 36 came 43 37 the 44 38 van 45 39 der 46 40 peet 47 41 test 48 42 for 49 43 determining 50 44 if 51 45 an 52 46 aboriginal 53 47 right 54 48 this 56 49 is 57 50 the 58 51 first 59 52 of 60 53 three 61 54 cases 62 55 known 63 56 as 64 57 the 65 58 van 66 59 der 67 60 peet 68 61 trilogy 69 62 which 70 63 included 71 64 r 72 65 v 73 66 ntc 74 67 smokehouse 75 68 ltd 76 69 and 77 70 r 78 71 v 79 72 on 81 73 september 82 74 steven 85 75 and 86 76 charles 87 77 jimmy 88 78 caught 89 79 sockeye 90 80 salmon 91 81 near 92 82 the 94 83 men 95 84 were 96 85 both 97 86 holders 98 87 of 99 88 valid 100 89 native 101 90 food 102 91 fish 103 92 so 105 93 the 106 94 fish 107 95 were 108 96 legally 109 97 but 111 98 they 112 99 were 113 100 forbidden 114 101 from 115 102 selling 116 103 the 117 104 charles 119 105 jimmy 120 106 brought 121 107 the 122 108 fish 123 109 to 124 110 his 125 111 dorothy 128 112 van 129 113 der 130 114 a 132 115 member 133 116 of 134 117 the 135 118 and 138 119 she 139 120 cleaned 140 121 the 141 122 fish 142 123 and 143 124 set 144 125 them 145 126 on 146 127 van 148 128 der 149 129 peet 150 130 was 151 131 visited 152 132 by 153 133 marie 154 134 a 156 135 who 159 136 offered 160 137 to 161 138 purchase 162 139 ten 163 140 fish 164 141 at 165 142 a 167 143 for 169 144 a 170 145 total 171 146 of 172 147 van 174 148 \n",
      "\n",
      " 1 *******************   : MacBook (2006–2012)\n",
      "the 0 0 macbook 1 1 is 2 2 a 3 3 line 4 4 of 5 5 macintosh 6 6 notebook 7 7 computers 8 8 manufactured 10 9 and 11 10 sold 12 11 by 13 12 apple 14 13 from 16 14 may 17 15 2006 18 16 to 19 17 february 20 18 a 22 19 new 23 20 line 24 21 of 25 22 computers 26 23 by 27 24 the 28 25 same 29 26 name 30 27 was 31 28 released 32 29 in 33 30 serving 35 31 the 36 32 same 37 33 purpose 38 34 as 39 35 an 40 36 it 43 37 replaced 44 38 the 45 39 ibook 46 40 series 47 41 of 48 42 notebooks 49 43 as 50 44 a 51 45 part 52 46 of 53 47 transition 55 48 from 56 49 powerpc 57 50 to 58 51 intel 59 52 positioned 61 53 as 62 54 the 63 55 low 64 56 end 65 57 of 66 58 the 67 59 macbook 68 60 below 70 61 the 71 62 premium 72 63 macbook 74 64 air 75 65 and 76 66 the 77 67 powerful 78 68 macbook 79 69 the 81 70 macbook 82 71 was 83 72 aimed 84 73 at 85 74 the 86 75 \n",
      "\n",
      " 2 *******************   : Wuhan–Guangzhou high-speed railway\n",
      "the 0 0 also 4 1 called 5 2 the 6 3 wuguang 7 4 railway 9 5 and 10 6 short 11 7 for 12 8 kong 14 9 is 19 10 a 20 11 rail 25 12 operated 27 13 by 28 14 china 29 15 railway 30 16 connecting 33 17 wuhan 34 18 and 35 19 the 37 20 provincial 38 21 capitals 39 22 of 40 23 hubei 41 24 and 42 25 it 45 26 was 46 27 the 47 28 fastest 49 29 train 50 30 initially 52 31 using 53 32 coupled 54 33 crh2c 55 34 \n",
      "Disambiguation error    ['Maria Gibbs', 'Margaretta Graddon']\n",
      "\n",
      "\n",
      " 3 *******************   : Fisher Ridge Cave System\n",
      "the 0 0 fisher 1 1 ridge 2 2 cave 3 3 system 4 4 is 5 5 a 6 6 cave 7 7 system 8 8 located 9 9 in 10 10 hart 11 11 united 14 12 near 16 13 mammoth 17 14 cave 18 15 national 19 16 as 21 17 of 22 18 november 23 19 2019 24 20 it 25 21 had 26 22 been 27 23 mapped 28 24 to 29 25 a 30 26 length 31 27 of 32 28 miles 34 29 making 37 30 it 38 31 the 39 32 cave 41 33 in 42 34 the 43 35 united 44 36 states 45 37 and 46 38 the 47 39 in 49 40 the 50 41 discovery 53 42 the 55 43 earliest 56 44 visitors 57 45 to 58 46 the 59 47 fisher 60 48 ridge 61 49 cave 62 50 system 63 51 were 64 52 archaic 65 53 native 66 54 americans 67 55 who 68 56 explored 69 57 the 70 58 they 72 59 scratched 73 60 a 74 61 lattice 75 62 or 76 63 checkerboard 77 64 pattern 78 65 onto 79 66 a 80 67 large 81 68 breakdown 82 69 pieces 84 70 of 85 71 charcoal 86 72 from 87 73 a 88 74 cane 89 75 torch 90 76 dated 91 77 to 92 78 approximately 93 79 3000 94 80 \n",
      "\n",
      " 4 *******************   : 2010–11 UEFA Europa League play-off round\n",
      "the 0 0 uefa 2 1 europa 3 2 league 4 3 was 5 4 the 6 5 second 7 6 season 8 7 of 9 8 the 10 9 uefa 11 10 europa 12 11 secondary 15 12 club 16 13 football 17 14 tournament 18 15 organised 19 16 by 20 17 and 22 18 the 23 19 40th 24 20 edition 25 21 overall 26 22 including 27 23 its 28 24 the 30 25 uefa 31 26 it 33 27 began 34 28 on 35 29 1 36 30 july 37 31 with 39 32 the 40 33 first 41 34 qualifying 42 35 round 43 36 and 45 37 concluded 46 38 on 47 39 18 48 40 may 49 41 with 51 42 the 52 43 final 53 44 at 54 45 the 55 46 aviva 56 47 stadium 57 48 in 58 49 republic 60 50 of 61 51 between 63 52 porto 64 53 and 65 54 finalists 67 55 this 69 56 was 70 57 the 71 58 first 72 59 final 74 60 of 75 61 a 76 62 european 77 63 competition 78 64 and 79 65 only 80 66 the 81 67 third 82 68 time 83 69 \n",
      "\n",
      " 5 *******************   : Prince Maximilian of Saxony (1870–1951)\n",
      "prince 0 0 maximilian 1 1 william 2 2 augustus 3 3 albert 4 4 charles 5 5 gregory 6 6 odo 7 7 of 8 8 duke 10 9 of 11 10 saxony 12 11 maximilian 14 12 wilhelm 15 13 august 16 14 albert 17 15 karl 18 16 gregor 19 17 17 21 18 november 22 19 1870 23 20 12 25 21 january 26 22 was 28 23 a 29 24 member 30 25 of 31 26 the 32 27 albertine 33 28 branch 34 29 of 35 30 the 36 31 house 37 32 of 38 33 wettin 39 34 and 40 35 a 41 36 catholic 42 37 early 45 38 life 46 39 maximilian 48 40 wilhelm 49 41 august 50 42 albert 51 43 karl 52 44 gregor 53 45 odo 54 46 of 55 47 saxony 56 48 was 57 49 born 58 50 in 59 51 capital 61 52 of 62 53 the 63 54 kingdom 64 55 of 65 56 the 67 57 seventh 68 58 of 69 59 the 70 60 eight 71 61 children 72 62 of 73 63 prince 74 64 george 75 65 of 76 66 saxony 77 67 and 78 68 his 79 69 wife 80 70 infanta 81 71 maria 82 72 anna 83 73 of 84 74 he 86 75 was 87 76 born 88 77 with 89 78 the 90 79 titles 91 80 prince 92 81 and 93 82 duke 94 83 of 95 84 with 97 85 the 98 86 style 99 87 royal 100 88 amongst 102 89 his 103 90 siblings 104 91 was 105 92 the 106 93 last 107 94 saxon 108 95 king 109 96 frederick 110 97 augustus 111 98 iii 112 99 and 113 100 princess 114 101 maria 115 102 josepha 116 103 mother 117 104 of 118 105 the 119 106 last 120 107 austrian 121 108 emperor 122 109 charles 123 110 priesthood 126 111 on 128 112 26 129 113 july 130 114 despite 132 115 initial 133 116 opposition 134 117 from 135 118 his 136 119 prince 138 120 maximilian 139 121 decided 140 122 to 141 123 study 142 124 for 143 125 the 144 126 priesthood 145 127 and 146 128 was 147 129 subsequently 148 130 ordained 149 131 a 150 132 he 152 133 renounced 153 134 his 154 135 claim 155 136 to 156 137 the 157 138 throne 158 139 of 159 140 saxony 160 141 on 161 142 entering 162 143 the 163 144 priesthood 164 145 and 165 146 also 166 147 expressed 167 148 a 168 149 determination 169 150 to 170 151 refuse 171 152 the 172 153 apanage 173 154 \n",
      "\n",
      " 6 *******************   : My Way (Usher album)\n",
      "my 0 0 way 1 1 is 2 2 the 3 3 second 4 4 studio 5 5 album 6 6 by 7 7 american 8 8 singer 9 9 it 11 10 was 12 11 released 13 12 on 14 13 september 15 14 by 18 15 laface 19 16 records 20 17 in 21 18 north 22 19 the 24 20 album 25 21 features 26 22 guest 27 23 appearances 28 24 from 29 25 jermaine 31 26 and 33 27 the 36 28 album 37 29 was 38 30 supported 39 31 by 40 32 three 41 33 all 43 34 and 50 35 make 52 36 me 53 37 with 55 38 most 56 39 of 57 40 the 58 41 album 59 42 production 60 43 by 61 44 babyface 62 45 and 63 46 the 65 47 album 66 48 became 67 49 a 68 50 commercial 69 51 debuting 71 52 at 72 53 number 73 54 15 74 55 on 75 56 the 76 57 billboard 77 58 200 78 59 and 79 60 peaking 80 61 at 81 62 number 82 63 the 84 64 album 85 65 also 86 66 reached 87 67 number 88 68 four 89 69 on 90 70 the 91 71 us 92 72 top 93 73 albums 95 74 chart 96 75 and 97 76 eventually 98 77 topped 99 78 the 100 79 billboard 101 80 \n",
      "\n",
      " 7 *******************   : International Linguistics Olympiad\n"
     ]
    },
    {
     "name": "stdout",
     "output_type": "stream",
     "text": [
      "the 0 0 international 1 1 linguistics 2 2 olympiad 3 3 is 5 4 one 6 5 of 7 6 the 8 7 international 9 8 science 10 9 olympiads 11 10 for 12 11 secondary 13 12 school 14 13 its 16 14 abbreviation 17 15 iol 18 16 is 19 17 deliberately 20 18 chosen 21 19 not 22 20 to 23 21 correspond 24 22 to 25 23 the 26 24 name 27 25 of 28 26 the 29 27 organization 30 28 in 31 29 any 32 30 particular 33 31 and 35 32 member 36 33 organizations 37 34 are 38 35 free 39 36 to 40 37 choose 41 38 for 42 39 themselves 43 40 how 44 41 to 45 42 designate 46 43 the 47 44 competition 48 45 in 49 46 their 50 47 own 51 48 this 53 49 olympiad 54 50 furthers 55 51 the 56 52 fields 57 53 of 58 54 and 61 55 descriptive 62 56 \n",
      "\n",
      " 8 *******************   : Albert Methfessel\n",
      "albert 0 0 methfessel 1 1 october 3 2 1785 4 3 23 6 4 march 7 5 was 9 6 a 10 7 german 11 8 and 15 9 originally 17 10 destined 18 11 by 19 12 his 20 13 parents 21 14 for 22 15 service 23 16 in 24 17 the 25 18 like 27 19 his 28 20 older 29 21 he 31 22 left 32 23 theological 33 24 studies 34 25 because 35 26 of 36 27 his 37 28 great 38 29 interest 39 30 in 40 31 given 42 32 a 43 33 scholarship 44 34 by 45 35 local 46 36 he 48 37 was 49 38 able 50 39 to 51 40 formally 52 41 study 53 42 and 55 43 then 56 44 return 57 45 to 58 46 his 59 47 hometown 60 48 of 61 49 rudolstadt 62 50 to 63 51 perform 64 52 and 65 53 sing 66 54 for 67 55 twelve 68 56 he 70 57 spent 71 58 three 72 59 years 73 60 in 74 61 hamburg 75 62 before 76 63 becoming 77 64 an 78 65 itinerant 79 66 musician 80 67 for 81 68 seven 82 69 his 84 70 period 85 71 of 86 72 greatest 87 73 income 88 74 was 89 75 as 90 76 kapellmeister 91 77 in 92 78 braunschweig 93 79 from 94 80 1832 95 81 to 96 82 his 98 83 career 99 84 was 100 85 then 101 86 hampered 102 87 by 103 88 health 104 89 but 106 90 he 107 91 continued 108 92 to 109 93 write 111 94 musical 112 95 and 114 96 correspond 115 97 with 116 98 his 117 99 fellow 118 100 musicians 119 101 until 120 102 \n",
      "\n",
      " 9 *******************   : 2021 AFC Champions League group stage\n",
      "the 0 0 2021 1 1 afc 2 2 champions 3 3 league 4 4 group 5 5 stage 6 6 was 7 7 played 8 8 from 9 9 14 10 10 to 11 11 30 12 12 april 13 13 2021 14 14 for 15 15 the 16 16 west 17 17 region 18 18 and 19 19 from 20 20 22 21 21 june 22 22 to 23 23 11 24 24 july 25 25 2021 26 26 for 27 27 the 28 28 east 29 29 a 31 30 total 32 31 of 33 32 40 34 33 teams 35 34 competed 36 35 in 37 36 the 38 37 group 39 38 stage 40 39 to 41 40 decide 42 41 the 43 42 16 44 43 places 45 44 in 46 45 the 47 46 knockout 48 47 stage 49 48 of 50 49 the 51 50 2021 52 51 afc 53 52 champions 54 53 draw 57 54 the 59 55 draw 60 56 for 61 57 the 62 58 group 63 59 stage 64 60 was 65 61 held 66 62 on 67 63 27 68 64 january 69 65 myt 72 66 \n",
      "\n",
      " 10 *******************   : Printz Board\n",
      "priese 0 0 prince 1 1 lamont 2 2 board 4 3 september 6 4 is 9 5 a 10 6 grammy 11 7 american 13 8 record 14 9 and 17 10 singer 18 11 best 19 12 known 20 13 for 21 14 his 22 15 work 23 16 with 24 17 black 25 18 eyed 26 19 peas 27 20 and 28 21 being 29 22 a 30 23 member 31 24 of 32 25 the 33 26 production 34 27 group 35 28 bucky 36 29 in 38 30 board 40 31 has 41 32 worked 42 33 with 43 34 dj 44 35 ceelo 46 36 mark 48 37 and 51 38 john 52 39 among 54 40 early 57 41 life 58 42 printz 60 43 is 61 44 from 62 45 ohio 64 46 but 65 47 moved 66 48 to 67 49 los 68 50 angeles 69 51 at 70 52 age 71 53 as 73 54 a 74 55 he 76 56 explored 77 57 the 78 58 parameters 79 59 of 80 60 jazz 81 61 and 82 62 music 83 63 that 84 64 instigated 85 65 his 86 66 journey 87 67 from 88 68 his 89 69 where 91 70 music 92 71 legends 93 72 like 94 73 jimi 95 74 bob 97 75 the 99 76 eagles 100 77 and 101 78 stoked 103 79 his 104 80 relocating 106 81 to 107 82 san 108 83 diego 109 84 state 110 85 he 112 86 had 113 87 to 114 88 decide 115 89 between 116 90 a 117 91 career 118 92 in 119 93 music 120 94 or 121 95 staying 123 96 in 124 97 he 126 98 added 127 99 classical 128 100 greats 129 101 to 130 102 his 131 103 eclectic 132 104 mix 133 105 of 134 106 musical 135 107 career 138 108 after 140 109 migrating 141 110 to 142 111 los 143 112 angeles 144 113 he 145 114 met 146 115 a 147 116 band 148 117 that 149 118 needed 150 119 a 151 120 keyboard 152 121 over 154 122 time 155 123 this 156 124 band 157 125 evolved 158 126 \n",
      "Disambiguation error    ['Khabarsky District', 'Khabarskoye']\n",
      "\n",
      "\n",
      " 11 *******************   : Around the World in Eighty Days (1919 film)\n",
      "around 0 0 the 1 1 world 2 2 in 3 3 eighty 4 4 days 5 5 le 7 6 tour 8 7 du 9 8 monde 10 9 en 11 10 is 14 11 an 15 12 adventure 16 13 novel 17 14 by 18 15 the 19 16 french 20 17 writer 21 18 jules 22 19 first 24 20 published 25 21 in 26 22 french 27 23 in 28 24 in 30 25 the 31 26 phileas 33 27 fogg 34 28 of 35 29 london 36 30 and 37 31 his 38 32 newly 39 33 employed 40 34 french 41 35 valet 42 36 passepartout 43 37 attempt 44 38 to 45 39 circumnavigate 46 40 the 47 41 world 48 42 in 49 43 80 50 44 days 51 45 on 52 46 a 53 47 wager 54 48 of 55 49 set 57 50 by 58 51 his 59 52 friends 60 53 at 61 54 the 62 55 reform 63 56 it 65 57 is 66 58 one 67 59 of 68 60 most 70 61 acclaimed 71 62 plot 74 63 phileas 76 64 fogg 77 65 is 78 66 a 79 67 wealthy 80 68 english 81 69 gentleman 82 70 living 83 71 a 84 72 solitary 85 73 life 86 74 in 87 75 despite 89 76 his 90 77 fogg 92 78 lives 93 79 modestly 94 80 and 95 81 carries 96 82 out 97 83 his 98 84 habits 99 85 with 100 86 mathematical 101 87 very 103 88 little 104 89 can 105 90 be 106 91 said 107 92 about 108 93 his 109 94 social 110 95 life 111 96 other 112 97 than 113 98 that 114 99 he 115 100 is 116 101 a 117 102 member 118 103 of 119 104 the 120 105 reform 121 106 where 123 107 he 124 108 spends 125 109 the 126 110 best 127 111 part 128 112 of 129 113 his 130 114 having 132 115 dismissed 133 116 his 134 117 valet 135 118 for 136 119 bringing 137 120 him 138 121 shaving 139 122 water 140 123 at 141 124 a 142 125 temperature 143 126 slightly 144 127 lower 145 128 than 146 129 fogg 148 130 hires 149 131 frenchman 150 132 jean 151 133 passepartout 152 134 as 153 135 a 154 136 on 156 137 the 157 138 evening 158 139 of 159 140 2 160 141 october 161 142 while 163 143 at 164 144 the 165 145 reform 166 146 fogg 168 147 gets 169 148 involved 170 149 in 171 150 an 172 151 argument 173 152 over 174 153 an 175 154 article 176 155 in 177 156 the 178 157 daily 179 158 telegraph 180 159 stating 181 160 that 182 161 with 183 162 the 184 163 opening 185 164 of 186 165 a 187 166 new 188 167 railway 189 168 section 190 169 in 191 170 it 193 171 is 194 172 now 195 173 \n",
      "\n",
      " 12 *******************   : Altra Industrial Motion\n",
      "altra 0 0 industrial 1 1 motion 2 2 is 3 3 a 4 4 manufacturer 5 5 of 6 6 mechanical 7 7 power 8 8 transmission 9 9 products 10 10 and 15 11 the 16 12 while 18 13 the 19 14 products 20 15 sound 21 16 automotive 22 17 to 23 18 the 24 19 in 26 20 fact 27 21 most 28 22 altra 29 23 products 30 24 are 31 25 used 32 26 on 33 27 industrial 34 28 such 36 29 as 37 30 brakes 39 31 for 40 32 elevators 41 33 and 42 34 gearboxes 44 35 on 45 36 heavy 47 37 duty 48 38 brakes 49 39 on 50 40 mining 51 41 clutches 53 42 for 54 43 beverage 55 44 capping 56 45 altra 59 46 is 60 47 the 61 48 parent 62 49 company 63 50 of 64 51 several 65 52 power 66 53 transmission 67 54 industry 68 55 boston 72 56 warner 74 57 tb 76 58 stieber 78 59 matrix 81 60 international 82 61 and 83 62 wichita 84 63 company 86 64 is 87 65 headquartered 88 66 in 89 67 in 92 68 they 94 69 recorded 95 70 sales 96 71 of 97 72 history 101 73 the 103 74 company 104 75 was 105 76 founded 106 77 in 107 78 2004 108 79 through 109 80 the 110 81 acquisition 111 82 of 112 83 the 113 84 colfax 114 85 power 115 86 transmission 116 87 group 117 88 and 119 89 kilian 120 90 manufacturing 121 91 by 122 92 private 123 93 equity 124 94 firm 125 95 genstar 126 96 at 129 97 the 130 98 consisted 132 99 of 133 100 several 134 101 including 136 102 boston 138 103 warner 144 104 electric 145 105 and 146 106 wichita 147 107 following 149 108 the 150 109 \n",
      "\n",
      " 13 *******************   : Leila Amos Pendleton\n"
     ]
    },
    {
     "name": "stdout",
     "output_type": "stream",
     "text": [
      "leila 0 0 amos 1 1 pendleton 2 2 was 6 3 an 7 4 community 9 5 activist 10 6 and 11 7 a 12 8 teacher 13 9 in 14 10 public 16 11 she 18 12 was 19 13 the 20 14 founder 21 15 and 22 16 president 23 17 of 24 18 the 25 19 alpha 26 20 charity 27 21 club 28 22 of 29 23 anacostia 30 24 and 31 25 the 32 26 social 33 27 purity 34 28 club 35 29 of 36 30 she 39 31 was 40 32 active 41 33 in 42 34 several 43 35 other 44 36 race 46 37 both 48 38 as 49 39 a 50 40 secretary 51 41 and 52 42 vice 53 43 biography 56 44 leila 58 45 amos 59 46 pendleton 60 47 was 61 48 born 62 49 in 63 50 1868 64 51 in 65 52 she 68 53 went 69 54 to 70 55 washington 71 56 and 74 57 normal 75 58 in 77 59 she 79 60 married 80 61 robert 81 62 lewis 82 63 she 84 64 died 85 65 at 86 66 her 87 67 home 88 68 in 89 69 dc 91 70 on 92 71 december 93 72 career 97 73 pendleton 99 74 was 100 75 a 101 76 strong 102 77 influence 103 78 in 104 79 her 105 80 as 107 81 a 108 82 community 109 83 she 111 84 dedicated 112 85 herself 113 86 to 114 87 the 115 88 improvement 116 89 of 117 90 african 118 91 americans 119 92 through 120 93 based 123 94 on 124 95 her 125 96 personal 126 97 experiences 127 98 as 128 99 an 129 100 educator 130 101 and 131 102 she 133 103 wrote 134 104 a 135 105 narrative 136 106 of 137 107 the 138 108 published 140 109 in 141 110 the 143 111 work 144 112 was 145 113 and 147 114 led 148 115 some 149 116 to 150 117 consider 151 118 \n",
      "\n",
      " 14 *******************   : Hurma\n",
      "or 1 0 houra 2 1 is 8 2 a 9 3 bedouin 10 4 town 11 5 in 12 6 the 13 7 southern 14 8 district 15 9 of 16 10 it 18 11 is 19 12 located 20 13 near 21 14 beersheba 22 15 and 23 16 beside 24 17 the 25 18 town 26 19 the 28 20 town 29 21 was 30 22 established 31 23 in 32 24 1989 33 25 as 34 26 a 35 27 part 36 28 of 37 29 solution 38 30 offered 39 31 by 40 32 the 41 33 state 42 34 for 43 35 the 44 36 consolidation 45 37 of 46 38 negev 47 39 bedouin 48 40 and 50 41 was 51 42 declared 52 43 a 53 44 local 54 45 council 55 46 in 56 47 in 58 48 2019 59 49 it 60 50 had 61 51 a 62 52 population 63 53 of 64 54 is 66 55 one 67 56 of 68 57 seven 69 58 bedouin 70 59 townships 71 60 in 72 61 the 73 62 negev 74 63 desert 75 64 with 76 65 approved 77 66 plans 78 67 and 79 68 developed 80 69 infrastructure 81 70 six 83 71 shaqib 90 72 kuseife 94 73 tel 96 74 and 99 75 the 100 76 city 101 77 of 102 78 the 104 79 largest 105 80 among 106 81 history 109 82 prior 111 83 to 112 84 the 113 85 establishment 114 86 of 115 87 the 117 88 negev 118 89 bedouins 119 90 were 120 91 a 121 92 society 123 93 that 124 94 had 125 95 been 126 96 through 127 97 a 128 98 process 129 99 of 130 100 sedentariness 131 101 since 132 102 the 133 103 ottoman 134 104 rule 135 105 of 136 106 the 137 107 the 139 108 british 140 109 mandate 141 110 the 143 111 administration 144 112 did 145 113 not 146 114 provide 147 115 a 148 116 legal 149 117 framework 150 118 to 151 119 justify 152 120 and 153 121 preserve 154 122 land 155 123 in 157 124 order 158 125 to 159 126 settle 160 127 this 161 128 land 164 129 policy 165 130 was 166 131 adapted 167 132 to 168 133 a 169 134 large 170 135 extent 171 136 from 172 137 the 173 138 ottoman 174 139 land 175 140 regulations 176 141 of 177 142 \n",
      "\n",
      " 15 *******************   : Arkansas Attorney General\n",
      "the 0 0 attorney 1 1 general 2 2 of 3 3 usually 5 4 known 6 5 simply 7 6 as 8 7 the 9 8 attorney 10 9 general 11 10 is 13 11 one 14 12 of 15 13 seven 17 14 constitutional 18 15 the 20 16 officeholder 21 17 serves 22 18 as 23 19 the 24 20 top 26 21 law 27 22 enforcement 28 23 officer 29 24 and 30 25 consumer 31 26 since 33 27 january 34 28 the 37 29 attorney 38 30 general 39 31 of 40 32 arkansas 41 33 has 42 34 been 43 35 leslie 44 36 history 47 37 the 49 38 attorney 50 39 general 51 40 was 52 41 not 53 42 originally 54 43 a 55 44 state 56 45 constitutional 57 46 officer 58 47 but 59 48 rather 60 49 was 61 50 created 62 51 by 63 52 act 64 53 1 65 54 of 66 55 which 68 56 designated 69 57 the 70 58 arkansas 71 59 attorney 72 60 for 73 61 the 74 62 fifth 75 63 judicial 76 64 district 77 65 as 78 66 the 79 67 attorney 80 68 the 82 69 first 83 70 attorney 84 71 general 85 72 of 86 73 arkansas 87 74 was 88 75 robert 89 76 \n",
      "Disambiguation error    ['Sacred Congregation for the Propagation of the Faith', 'Congregation (Roman Curia)', 'Propaganda during the Reformation']\n",
      "\n",
      "\n",
      " 16 *******************   : Gabby O'Connor\n",
      "gabby 0 0 is 6 1 an 7 2 australian 8 3 installation 9 4 artist 10 5 based 11 6 in 12 7 new 14 8 work 17 9 art 20 10 practice 21 11 involves 22 12 production 23 13 of 24 14 works 26 15 in 27 16 rope 29 17 and 30 18 as 32 19 well 33 20 as 34 21 drawing 35 22 and 36 23 the 39 24 works 40 25 are 41 26 typically 42 27 and 44 28 designed 45 29 to 46 30 fit 47 31 into 48 32 the 49 33 typically 51 34 she 52 35 works 53 36 by 54 37 transforming 55 38 everyday 56 39 materials 57 40 into 58 41 often 61 42 works 62 43 collaboratively 63 44 with 64 45 partners 65 46 ranging 66 47 from 67 48 scientists 68 49 to 69 50 community 70 51 her 72 52 works 73 53 are 74 54 designed 75 55 to 76 56 exist 77 57 as 78 58 installations 79 59 in 80 60 their 81 61 own 82 62 and 84 63 also 85 64 act 86 65 as 87 66 a 88 67 bridge 89 68 between 90 69 art 91 70 and 92 71 a 94 72 consequence 95 73 is 96 74 there 97 75 is 98 76 often 99 77 an 100 78 explicit 101 79 educational 102 80 component 103 81 of 104 82 the 105 83 art 106 84 has 108 85 participated 109 86 in 110 87 two 111 88 scientific 112 89 expeditions 113 90 to 114 91 antarctica 115 92 where 116 93 she 117 94 produced 118 95 art 119 96 pieces 120 97 in 121 98 the 123 99 science 124 100 was 125 101 conducted 126 102 by 127 103 the 128 104 research 130 105 team 131 106 from 132 107 national 133 108 institute 134 109 of 135 110 water 136 111 and 137 112 atmospheric 138 113 research 139 114 and 140 115 the 141 116 university 142 117 of 143 118 the 145 119 work 146 120 \n",
      "Disambiguation error    ['Clarke Glacier (Graham Land)', 'Clarke Glacier (Victoria Land)', 'Clarke Glacier (Marie Byrd Land)', 'Clarke Glacier (New Zealand)', 'Clark Glacier (disambiguation)']\n",
      "\n",
      "\n",
      " 17 *******************   : St Mark Passion (attributed to Keiser)\n",
      "jesus 0 0 christus 1 1 ist 2 2 um 3 3 unsrer 4 4 missetat 5 5 willen 6 6 verwundet 7 7 is 8 8 a 9 9 st 10 10 mark 11 11 passion 12 12 which 13 13 originated 14 14 in 15 15 the 16 16 early 17 17 18th 18 18 century 19 19 and 20 20 is 21 21 most 22 22 often 23 23 attributed 24 24 to 25 25 reinhard 26 26 it 28 27 may 29 28 also 30 29 have 31 30 been 32 31 composed 33 32 by 34 33 his 35 34 father 36 35 gottfried 37 36 or 38 37 by 39 38 friedrich 40 39 nicolaus 41 40 johann 43 41 sebastian 44 42 bach 45 43 produced 46 44 three 47 45 performance 48 46 versions 49 47 of 50 48 the 51 49 the 53 50 last 54 51 of 55 52 which 56 53 is 57 54 a 58 55 pasticcio 59 56 with 60 57 arias 61 58 from 62 59 george 63 60 frideric 64 61 brockes 66 62 there 68 63 are 69 64 two 70 65 other 71 66 extant 72 67 versions 74 68 of 75 69 the 76 70 both 78 71 of 79 72 them 80 73 independent 81 74 of 82 75 the 85 76 passion 86 77 was 87 78 performed 88 79 in 89 80 at 90 81 least 91 82 three 92 83 cities 93 84 in 94 85 the 95 86 first 96 87 half 97 88 of 98 89 the 99 90 18th 100 91 in 102 92 hamburg 103 93 in 104 94 1707 105 95 and 106 96 in 108 97 weimar 109 98 around 110 99 and 112 100 in 113 101 leipzig 114 102 in 115 103 1726 116 104 and 117 105 around 118 106 history 121 107 the 123 108 passion 124 109 was 125 110 probably 126 111 composed 127 112 around 128 113 1705 129 114 by 130 115 gottfried 131 116 by 133 117 his 134 118 son 135 119 or 137 120 by 138 121 friedrich 139 122 nicolaus 140 123 the 142 124 scores 144 125 of 145 126 the 146 127 composition 147 128 always 149 129 indicate 150 130 a 151 131 but 153 132 the 154 133 \n",
      "\n",
      " 18 *******************   : The Iclif Leadership and Governance Centre\n"
     ]
    },
    {
     "name": "stdout",
     "output_type": "stream",
     "text": [
      "the 0 0 iclif 1 1 leadership 2 2 and 3 3 governance 4 4 centre 5 5 is 7 6 organisation 9 7 in 10 8 kuala 11 9 dedicated 14 10 to 15 11 executive 16 12 coaching 19 13 and 20 14 advisory 21 15 services 22 16 in 23 17 the 24 18 areas 25 19 of 26 20 leadership 27 21 development 28 22 and 29 23 corporate 30 24 background 33 25 iclif 35 26 was 36 27 created 37 28 and 38 29 funded 39 30 by 40 31 bank 41 32 negara 42 33 malaysia 43 34 central 45 35 bank 46 36 of 47 37 in 49 38 2003 50 39 as 51 40 an 52 41 independent 53 42 it 56 43 received 57 44 a 58 45 significant 59 46 funding 60 47 boost 61 48 from 62 49 bank 63 50 negara 64 51 in 65 52 2010 66 53 to 67 54 aim 70 55 is 71 56 to 72 57 provide 73 58 highly 74 59 practical 75 60 and 76 61 relevant 77 62 executive 78 63 development 79 64 and 80 65 advisory 81 66 services 82 67 in 83 68 malaysia 84 69 and 85 70 globally 86 71 across 87 72 all 88 73 industry 89 74 and 90 75 government 91 76 as 93 77 the 94 78 only 95 79 organisation 96 80 in 97 81 the 98 82 region 99 83 that 100 84 focuses 101 85 both 102 86 on 103 87 leadership 104 88 and 105 89 corporate 106 90 their 108 91 aim 109 92 is 110 93 to 111 94 deliver 112 95 holistic 113 96 and 114 97 sustainable 115 98 solutions 116 99 to 117 100 \n",
      "\n",
      " 19 *******************   : Nokia Arena (Tampere)\n",
      "nokia 0 0 arena 1 1 tampere 3 2 deck 4 3 tampereen 7 4 kannen 8 5 is 10 6 an 11 7 indoor 12 8 arena 13 9 in 14 10 it 17 11 hosts 18 12 ice 19 13 hockey 20 14 games 21 15 and 22 16 large 23 17 cultural 24 18 including 26 19 the 27 20 2022 28 21 world 30 22 it 32 23 is 33 24 also 34 25 the 35 26 home 36 27 arena 37 28 of 38 29 ilves 39 30 and 40 31 tappara 41 32 of 42 33 the 43 34 its 45 35 construction 46 36 was 47 37 approved 48 38 by 49 39 the 50 40 city 51 41 council 52 42 of 53 43 tampere 54 44 on 55 45 may 56 46 the 59 47 arena 60 48 was 61 49 officially 62 50 opened 63 51 on 64 52 december 65 53 nhl 68 54 teams 69 55 columbus 70 56 blue 71 57 jackets 72 58 and 73 59 colorado 74 60 avalanche 75 61 have 76 62 games 77 63 at 78 64 nokia 79 65 arena 80 66 in 81 67 the 82 68 2022 83 69 nhl 84 70 global 85 71 background 88 72 after 90 73 the 92 74 arena 93 75 and 94 76 the 95 77 adjacent 96 78 mixed 97 79 use 98 80 development 100 81 got 101 82 a 102 83 final 103 84 approval 104 85 and 105 86 construction 106 87 [149, 76, 35, 81, 70, 155, 81, 57, 103, 67, 127, 174, 110, 119, 143, 77, 121, 134, 101, 88]\n",
      "[149, 225, 260, 341, 411, 566, 647, 704, 807, 874, 1001, 1175, 1285, 1404, 1547, 1624, 1745, 1879, 1980]\n",
      "(0, 100)\n",
      "\n",
      "Disambiguation error    ['Strata (band)', 'Strata (Matthew Shipp album)', 'Strata (Robert Rich and Steve Roach album)', 'Strata (Strata album)', 'Strata Records', 'Strata-East Records', 'Strata (comics)', 'Strata (novel)', 'Kirix Strata', 'Strata (company)', 'Strata 3D', 'Strata (video game)', 'CompTIA', 'Strata (food)', 'Strata (linguistics)', 'Strata roller coaster', 'Strata SE1', 'Strata title', 'Strata Tower', 'Strata (Startup)', 'Stratified sampling', 'Stratum (disambiguation)', 'Substrata (disambiguation)']\n",
      "\n",
      "\n",
      " 0 *******************   : Lovelace Health System\n",
      "lovelace 0 0 health 1 1 system 2 2 is 3 3 a 4 4 healthcare 5 5 company 6 6 which 7 7 operates 8 8 six 9 9 hospitals 10 10 in 11 11 new 12 12 five 14 13 in 15 14 albuquerque 16 15 and 17 16 one 18 17 in 19 18 it 21 19 is 22 20 one 23 21 of 24 22 new 25 23 largest 27 24 employers 28 25 with 29 26 employees 31 27 as 32 28 of 33 29 the 35 30 company 36 31 grew 37 32 out 38 33 of 39 34 the 40 35 lovelace 41 36 clinic 42 37 founded 43 38 in 44 39 one 46 40 of 47 41 the 48 42 pioneers 49 43 of 50 44 group 51 45 medical 52 46 practice 53 47 in 54 48 the 55 49 united 56 50 the 58 51 clinic 59 52 was 60 53 best 61 54 known 62 55 for 63 56 conducting 64 57 physical 65 58 evaluations 66 59 of 67 60 32 68 61 astronaut 69 62 candidates 70 63 in 71 64 1959 72 65 which 73 66 helped 74 67 to 75 68 select 76 69 the 77 70 mercury 78 71 the 80 72 first 81 73 americans 82 74 to 83 75 travel 84 76 into 85 77 the 87 78 clinic 88 79 also 89 80 administered 90 81 testing 91 82 for 92 83 an 93 84 unofficial 94 85 in 96 86 during 99 87 \n",
      "\n",
      " 1 *******************   : 2002–03 Football League\n",
      "the 0 0 football 2 1 league 3 2 as 5 3 the 6 4 nationwide 7 5 football 8 6 league 9 7 for 10 8 sponsorship 11 9 was 13 10 the 14 11 104th 15 12 completed 16 13 season 17 14 of 18 15 the 19 16 football 20 17 portsmouth 22 18 won 23 19 the 24 20 first 25 21 division 26 22 by 27 23 some 28 24 passing 30 25 \n",
      "\n",
      " 2 *******************   : Nikoloz Rachveli\n",
      "nikoloz 0 0 born 5 1 15 6 2 may 7 3 is 9 4 a 10 5 georgian 11 6 composer 13 7 and 14 8 cultural 15 9 he 17 10 composes 18 11 and 19 12 arranges 20 13 for 21 14 theatre 22 15 and 23 16 using 25 17 themes 26 18 from 27 19 georgian 28 20 and 29 21 memanishvili 32 22 is 33 23 the 34 24 principal 35 25 conductor 36 26 of 37 27 the 38 28 georgia 39 29 national 40 30 symphony 41 31 and 43 32 head 44 33 of 45 34 the 46 35 georgia 47 36 national 48 37 music 49 38 he 51 39 has 52 40 been 53 41 leading 54 42 the 55 43 mikeladze 56 44 symphony 57 45 orchestra 58 46 since 59 47 childhood 62 48 and 63 49 education 64 50 nikoloz 66 51 was 69 52 born 70 53 to 71 54 georgian 72 55 parents 73 56 in 74 57 his 76 58 family 77 59 originated 78 60 from 79 61 the 80 62 racha 81 63 region 82 64 in 83 65 western 84 66 hence 86 67 the 87 68 name 89 69 which 91 70 literally 92 71 means 93 72 it 96 73 was 97 74 in 98 75 racha 99 76 where 100 77 the 101 78 composer 102 79 was 103 80 first 104 81 exposed 105 82 to 106 83 georgian 107 84 chants 108 85 \n",
      "\n",
      " 3 *******************   : SS California strike\n",
      "the 0 0 ss 1 1 california 2 2 strike 3 3 was 4 4 a 5 5 strike 6 6 aboard 7 7 the 8 8 ocean 9 9 liner 10 10 ss 11 11 california 12 12 from 13 13 1 14 14 to 15 15 4 16 16 march 17 17 1936 18 18 as 19 19 the 20 20 ship 21 21 lay 22 22 docked 23 23 in 24 24 san 25 25 the 28 26 strike 29 27 led 30 28 to 31 29 the 32 30 demise 33 31 of 34 32 the 35 33 international 36 34 union 38 35 and 39 36 the 40 37 creation 41 38 of 42 39 the 43 40 national 44 41 maritime 45 42 union 46 43 part 48 44 of 49 45 the 50 46 seafarers 51 47 international 52 48 union 53 49 of 54 50 north 55 51 strike 58 52 joseph 60 53 curran 61 54 was 62 55 a 63 56 seaman 64 57 aboard 65 58 the 66 59 panama 67 60 pacific 68 61 ocean 69 62 liner 70 63 ss 71 64 he 73 65 had 74 66 been 75 67 an 76 68 able 77 69 seaman 78 70 and 79 71 boatswain 80 72 since 81 73 although 83 74 he 84 75 had 85 76 joined 86 77 the 87 78 international 88 79 union 90 80 he 92 81 was 93 82 not 94 83 active 95 84 in 96 85 union 97 86 in 99 87 curran 101 88 led 102 89 a 103 90 strike 104 91 aboard 105 92 the 106 93 ocean 107 94 \n",
      "Disambiguation error    ['Achillea (band)', 'Chilia Veche']\n",
      "\n",
      "Disambiguation error    ['Domaine Armand Rousseau', 'Charles Rousseau (1862–1916)', 'Charles F. Rousseau']\n",
      "\n",
      "\n",
      " 4 *******************   : Tomáš Enge\n"
     ]
    },
    {
     "name": "stdout",
     "output_type": "stream",
     "text": [
      "enge 1 0 born 6 1 11 7 2 september 8 3 is 10 4 a 11 5 czech 12 6 former 13 7 professional 14 8 racing 15 9 driver 16 10 who 17 11 has 18 12 competed 19 13 in 20 14 many 21 15 classes 22 16 of 23 17 including 25 18 three 26 19 races 27 20 in 28 21 formula 29 22 he 31 23 has 32 24 twice 33 25 been 34 26 sanctioned 35 27 professionally 36 28 for 37 29 drug 38 30 career 41 31 born 43 32 in 44 33 enge 46 34 started 47 35 his 48 36 career 49 37 at 50 38 the 51 39 age 52 40 of 53 41 entering 55 42 a 56 43 ford 57 44 fiesta 58 45 he 59 46 bought 60 47 with 61 48 his 62 49 own 63 50 money 64 51 in 65 52 the 66 53 czechoslovakian 67 54 ford 68 55 fiesta 69 56 enge 71 57 participated 72 58 in 73 59 the 74 60 final 75 61 three 76 62 races 77 63 of 78 64 the 79 65 2001 80 66 formula 81 67 one 82 68 becoming 84 69 the 85 70 and 87 71 to 88 72 date 89 73 driver 91 74 from 92 75 the 93 76 czech 94 77 republic 95 78 to 96 79 compete 97 80 in 98 81 formula 99 82 he 101 83 made 102 84 his 103 85 debut 104 86 at 105 87 the 106 88 italian 107 89 grand 108 90 prix 109 91 on 110 92 16 111 93 after 113 94 being 114 95 brought 115 96 in 116 97 by 117 98 prost 118 99 as 119 100 a 120 101 replacement 121 102 for 122 103 luciano 123 104 who 125 105 was 126 106 recovering 127 107 from 128 108 his 129 109 crash 130 110 at 131 111 the 132 112 previous 133 113 race 134 114 in 135 115 the 137 116 prost 138 117 team 139 118 folded 140 119 before 141 120 the 142 121 start 143 122 of 144 123 the 145 124 2002 146 125 leaving 148 126 \n",
      "\n",
      " 5 *******************   : Samuel Krachmalnick\n",
      "samuel 0 0 krachmalnick 1 1 louis 4 2 april 6 3 was 11 4 an 12 5 american 13 6 conductor 14 7 and 15 8 music 16 9 he 18 10 first 19 11 came 20 12 to 21 13 prominence 22 14 as 23 15 a 24 16 conductor 25 17 on 26 18 broadway 27 19 during 28 20 the 29 21 notably 31 22 earning 32 23 a 33 24 tony 34 25 award 35 26 nomination 36 27 for 37 28 his 38 29 work 39 30 as 40 31 the 41 32 music 42 33 director 43 34 of 44 35 the 45 36 original 46 37 production 47 38 of 48 39 leonard 49 40 he 52 41 went 53 42 on 54 43 to 55 44 work 56 45 as 57 46 a 58 47 busy 59 48 conductor 60 49 of 61 50 operas 62 51 and 63 52 symphony 64 53 orchestras 65 54 internationally 66 55 during 67 56 the 68 57 1960s 69 58 and 70 59 he 72 60 was 73 61 particularly 74 62 active 75 63 in 76 64 new 77 65 york 78 66 where 80 67 he 81 68 held 82 69 conducting 83 70 posts 84 71 with 85 72 the 86 73 american 87 74 ballet 88 75 the 90 76 harkness 91 77 the 93 78 metropolitan 94 79 and 96 80 the 97 81 new 98 82 york 99 83 city 100 84 \n",
      "\n",
      " 6 *******************   : Lasiognathus\n",
      "lasiognathus 0 0 is 1 1 a 2 2 genus 3 3 of 4 4 anglerfish 6 5 in 7 6 the 8 7 family 9 8 with 11 9 six 12 10 species 13 11 known 14 12 from 15 13 the 16 14 atlantic 17 15 and 18 16 pacific 19 17 it 21 18 has 22 19 been 23 20 called 24 21 a 25 22 in 28 23 that 29 24 its 30 25 lure 31 26 apparatus 32 27 appears 33 28 to 34 29 consist 35 30 of 36 31 a 37 32 fishing 38 33 rod 39 34 \n",
      "\n",
      " 7 *******************   : Shorts (2009 film)\n",
      "shorts 0 0 known 2 1 as 3 2 the 5 3 adventures 6 4 of 7 5 the 8 6 wishing 9 7 rock 10 8 and 11 9 released 12 10 internationally 13 11 as 14 12 the 15 13 wishing 16 14 is 18 15 a 19 16 2009 20 17 american 21 18 fantasy 22 19 comedy 23 20 film 24 21 written 25 22 and 26 23 directed 27 24 by 28 25 robert 29 26 the 31 27 film 32 28 stars 33 29 jon 34 30 william 36 31 leslie 39 32 james 41 33 jimmy 43 34 bennett 44 35 and 45 36 kat 46 37 the 49 38 adventures 50 39 of 51 40 the 52 41 wishing 53 42 rock 54 43 made 55 44 its 56 45 world 57 46 premiere 58 47 screening 59 48 on 60 49 august 61 50 2009 63 51 at 64 52 the 65 53 chinese 67 54 theatre 68 55 in 69 56 shortly 72 57 after 73 58 the 75 59 movie 76 60 was 77 61 theatrically 78 62 released 79 63 in 80 64 the 81 65 united 82 66 states 83 67 on 84 68 august 85 69 2009 87 70 by 88 71 warner 89 72 the 92 73 film 93 74 grossed 94 75 million 96 76 on 97 77 a 98 78 million 100 79 it 102 80 received 103 81 mixed 104 82 reviews 105 83 from 106 84 it 108 85 received 109 86 a 110 87 young 111 88 artist 112 89 award 113 90 nomination 114 91 for 115 92 best 116 93 performance 117 94 in 118 95 a 119 96 feature 120 97 the 123 98 adventures 124 99 of 125 100 the 126 101 wishing 127 102 rock 128 103 was 129 104 released 130 105 on 131 106 dvd 132 107 and 133 108 on 135 109 24 136 110 november 137 111 2009 138 112 by 139 113 warner 140 114 home 141 115 a 143 116 wii 144 117 and 145 118 nintendo 146 119 ds 147 120 video 148 121 game 149 122 \n",
      "\n",
      " 8 *******************   : Prakkanam\n",
      "prakkanam 0 0 is 1 1 a 2 2 village 3 3 in 4 4 pathanamthitta 5 5 district 6 6 in 7 7 the 8 8 state 9 9 of 10 10 it 13 11 is 14 12 situated 15 13 between 16 14 omalloor 17 15 and 18 16 the 20 17 primary 21 18 religious 22 19 beliefs 23 20 of 24 21 this 25 22 area 26 23 are 27 24 hinduism 28 25 and 29 26 many 31 27 temples 32 28 and 33 29 churches 34 30 of 35 31 worship 36 32 are 37 33 located 38 34 in 39 35 places 42 36 of 43 37 worship 44 38 sree 48 39 bhadrakali 49 40 devi 50 41 temple 51 42 bhadrakali 54 43 temple 55 44 is 56 45 situated 57 46 near 58 47 prakkanam 59 48 bhadrakali 61 49 is 62 50 the 63 51 principal 64 52 and 70 53 nagaraja 71 54 are 72 55 also 73 56 worshipped 74 57 main 76 58 offerings 77 59 are 78 60 and 81 61 all 82 62 archanas 84 63 and 85 64 various 86 65 types 87 66 of 88 67 every 90 68 year 91 69 bhagavatha 92 70 sapthaham 93 71 is 94 72 celebrated 95 73 on 96 74 last 97 75 day 98 76 of 99 77 annual 102 78 festival 103 79 is 104 80 celebrated 105 81 on 106 82 makayiram 107 83 star 108 84 of 109 85 malayalam 110 86 month 111 87 padayani 113 88 is 114 89 the 115 90 main 116 91 art 117 92 form 118 93 being 119 94 performed 120 95 on 121 96 festival 122 97 in 124 98 olden 125 99 days 126 100 it 127 101 extends 128 102 about 129 103 21 130 104 kettukazhcha 132 105 is 133 106 another 134 107 peculiarity 135 108 of 136 109 each 138 110 bring 140 111 kettukazhcha 141 112 \n",
      "\n",
      " 9 *******************   : Adaptive resonance theory\n",
      "adaptive 0 0 resonance 1 1 theory 2 2 is 4 3 a 5 4 theory 6 5 developed 7 6 by 8 7 stephen 9 8 grossberg 10 9 and 11 10 gail 12 11 carpenter 13 12 on 14 13 aspects 15 14 of 16 15 how 17 16 the 18 17 brain 19 18 processes 20 19 it 22 20 describes 23 21 a 24 22 number 25 23 of 26 24 neural 27 25 network 28 26 models 29 27 which 30 28 use 31 29 supervised 32 30 and 33 31 unsupervised 34 32 learning 35 33 and 37 34 address 38 35 problems 39 36 such 40 37 as 41 38 pattern 42 39 recognition 43 40 and 44 41 the 46 42 primary 47 43 intuition 48 44 behind 49 45 the 50 46 art 51 47 model 52 48 is 53 49 that 54 50 object 55 51 identification 56 52 and 57 53 recognition 58 54 generally 59 55 occur 60 56 as 61 57 a 62 58 result 63 59 of 64 60 the 65 61 interaction 66 62 of 67 63 observer 69 64 expectations 70 65 with 71 66 sensory 73 67 the 75 68 model 76 69 postulates 77 70 that 78 71 expectations 80 72 take 81 73 the 82 74 form 83 75 of 84 76 a 85 77 memory 86 78 template 87 79 or 88 80 prototype 89 81 that 90 82 is 91 83 then 92 84 compared 93 85 with 94 86 the 95 87 actual 96 88 features 97 89 of 98 90 an 99 91 object 100 92 as 101 93 detected 102 94 by 103 95 the 104 96 this 106 97 comparison 107 98 gives 108 99 rise 109 100 to 110 101 a 111 102 measure 112 103 of 113 104 category 114 105 as 116 106 \n",
      "\n",
      " 10 *******************   : Japan Patent Office\n"
     ]
    },
    {
     "name": "stdout",
     "output_type": "stream",
     "text": [
      "the 0 0 japan 1 1 patent 2 2 office 3 3 is 7 4 a 8 5 japanese 9 6 governmental 10 7 agency 11 8 in 12 9 charge 13 10 of 14 11 industrial 15 12 property 16 13 right 17 14 under 19 15 the 20 16 ministry 21 17 of 22 18 trade 24 19 and 25 20 the 27 21 japan 28 22 patent 29 23 office 30 24 is 31 25 located 32 26 in 33 27 tokyo 36 28 and 37 29 is 38 30 one 39 31 of 40 32 the 41 33 largest 43 34 patent 44 35 the 46 36 japan 47 37 patent 48 38 mission 50 39 is 51 40 to 52 41 promote 53 42 the 54 43 growth 55 44 of 56 45 the 57 46 japanese 58 47 economy 59 48 and 60 49 industry 61 50 by 62 51 administering 63 52 the 64 53 laws 65 54 relating 66 55 to 67 56 utility 69 57 and 72 58 affairs 75 59 are 76 60 administered 77 61 by 78 62 the 79 63 agency 80 64 for 81 65 cultural 82 66 organization 85 67 the 87 68 japan 88 69 patent 89 70 office 90 71 is 91 72 headed 92 73 by 93 74 a 94 75 commissioner 95 76 and 96 77 consists 97 78 of 98 79 seven 99 80 general 101 81 affairs 102 82 department 103 83 and 106 84 administrative 107 85 affairs 108 86 in 110 87 charge 111 88 of 112 89 examining 113 90 trademark 114 91 right 115 92 design 117 93 right 118 94 applications 119 95 and 120 96 formalities 121 97 check 122 98 of 123 99 all 124 100 applications 125 101 including 126 102 patent 127 103 applications 128 104 first 129 105 patent 130 106 examination 131 107 examining 133 108 patent 134 109 applications 135 110 related 136 111 to 137 112 applied 138 113 and 141 114 architecture 142 115 second 143 116 patent 144 117 examination 145 118 examining 147 119 patent 148 120 applications 149 121 related 150 122 to 151 123 machinery 152 124 third 153 125 patent 154 126 examination 155 127 examining 157 128 patent 158 129 applications 159 130 related 160 131 to 161 132 and 164 133 biotechnology 165 134 fourth 166 135 patent 167 136 examination 168 137 examining 170 138 patent 171 139 applications 172 140 related 173 141 to 174 142 and 177 143 information 178 144 technology 179 145 appeals 180 146 departmentthe 181 147 commissioner 182 148 of 183 149 the 184 150 jpo 185 151 is 186 152 appointed 187 153 from 188 154 among 189 155 the 190 156 higher 191 157 officials 192 158 of 193 159 the 194 160 ministry 195 161 of 196 162 trade 198 163 and 199 164 industry 200 165 and 201 166 generally 202 167 serves 203 168 \n",
      "\n",
      " 11 *******************   : UCI World Tour\n",
      "the 0 0 uci 1 1 worldtour 2 2 uci 4 3 world 5 4 is 7 5 the 8 6 premier 9 7 elite 11 8 road 12 9 cycling 13 10 sitting 15 11 above 16 12 the 17 13 uci 18 14 proseries 19 15 and 20 16 various 21 17 regional 22 18 uci 23 19 continental 24 20 it 26 21 refers 27 22 to 28 23 both 29 24 the 30 25 tour 31 26 of 32 27 38 33 28 events 34 29 until 36 30 an 38 31 annual 39 32 ranking 40 33 system 41 34 based 42 35 upon 43 36 performances 44 37 in 45 38 the 47 39 world 48 40 ranking 49 41 was 50 42 launched 51 43 in 52 44 and 54 45 merged 55 46 fully 56 47 with 57 48 its 58 49 predecessor 59 50 the 60 51 uci 61 52 protour 62 53 in 63 54 uci 65 55 worldteams 66 56 must 67 57 compete 68 58 at 69 59 all 70 60 events 71 61 that 72 62 were 73 63 part 74 64 of 75 65 the 76 66 tour 77 67 prior 78 68 to 79 69 the 80 70 2017 81 71 history 84 72 until 86 73 the 87 74 end 88 75 of 89 76 the 91 77 union 92 78 cycliste 93 79 internationale 94 80 maintained 96 81 both 97 82 the 98 83 uci 99 84 road 100 85 world 101 86 which 103 87 awarded 104 88 results 105 89 for 106 90 all 107 91 its 108 92 sanctioned 109 93 and 111 94 the 112 95 uci 113 96 road 114 97 world 115 98 which 117 99 was 118 100 awarded 119 101 on 120 102 the 121 103 basis 122 104 of 123 105 performance 124 106 in 125 107 ten 126 108 selected 127 109 both 130 110 were 131 111 replaced 132 112 from 133 113 the 134 114 2005 135 115 season 136 116 by 137 117 the 138 118 uci 139 119 protour 140 120 and 141 121 uci 142 122 continental 143 123 disputes 146 124 between 147 125 the 148 126 \n",
      "\n",
      " 12 *******************   : Christopher Battalino\n",
      "christopher 0 0 battaglia 1 1 1908 4 2 july 6 3 better 9 4 known 10 5 as 11 6 battling 12 7 was 14 8 an 15 9 american 16 10 world 17 11 featherweight 18 12 boxing 19 13 born 21 14 in 22 15 battalino 25 16 engaged 26 17 in 27 18 88 28 19 bouts 29 20 during 30 21 his 31 22 of 33 23 which 34 24 he 35 25 won 36 26 57 37 27 lost 40 28 and 42 29 drew 43 30 he 45 31 was 46 32 managed 47 33 by 48 34 hy 49 35 malley 50 36 and 51 37 lenny 52 38 he 54 39 was 55 40 inducted 56 41 into 57 42 the 58 43 international 59 44 boxing 60 45 hall 61 46 of 62 47 fame 63 48 in 64 49 early 67 50 life 68 51 and 69 52 amateur 70 53 boxing 71 54 career 72 55 christopher 74 56 battaglia 75 57 was 76 58 born 77 59 on 78 60 february 79 61 1908 81 62 to 82 63 an 83 64 italian 84 65 family 85 66 in 86 67 the 89 68 son 90 69 of 91 70 italian 92 71 he 94 72 never 95 73 attended 96 74 high 97 75 but 99 76 worked 100 77 \n",
      "\n",
      " 13 *******************   : WSBG\n",
      "wsbg 0 0 is 3 1 a 4 2 radio 5 3 station 6 4 broadcasting 7 5 a 8 6 hot 9 7 adult 10 8 contemporary 11 9 branding 13 10 itself 14 11 as 15 12 poconos 17 13 best 18 14 it 20 15 features 21 16 current 22 17 hits 23 18 mixed 24 19 with 25 20 recurrent 26 21 hits 27 22 from 28 23 the 29 24 early 30 25 1990s 31 26 to 32 27 licensed 34 28 to 35 29 united 38 30 the 40 31 station 41 32 serves 42 33 the 43 34 stroudsburg 44 35 the 46 36 station 47 37 is 48 38 currently 49 39 owned 50 40 by 51 41 seven 52 42 mountains 53 43 its 55 44 transmitter 56 45 is 57 46 located 58 47 south 59 48 of 60 49 the 61 50 appalachian 62 51 trail 63 52 in 64 53 smithfield 65 54 history 69 55 fm 72 56 began 73 57 operation 74 58 in 75 59 1964 76 60 as 77 61 initially 79 62 the 80 63 station 81 64 employed 82 65 an 83 66 mor 84 67 format 85 68 playing 86 69 mostly 87 70 pop 88 71 standards 89 72 and 90 73 simulcast 91 74 beginning 93 75 in 94 76 the 95 77 late 96 78 1960s 97 79 would 99 80 simulcast 100 81 wvpo 101 82 in 102 83 the 103 84 morning 104 85 hours 105 86 and 106 87 in 107 88 the 108 89 \n",
      "\n",
      " 14 *******************   : Flaminio Giulio Brunelli\n",
      "giulio 0 0 flaminio 1 1 brunelli 2 2 1936 5 3 in 6 4 petrella 7 5 roma 9 6 september 11 7 was 14 8 a 15 9 and 18 10 a 19 11 supporter 20 12 of 21 13 the 22 14 humanistic 23 15 clinical 24 16 early 27 17 research 28 18 giulio 30 19 flaminio 31 20 brunelli 32 21 was 33 22 a 34 23 physician 35 24 and 36 25 a 37 26 biologist 38 27 supporter 39 28 of 40 29 the 41 30 humanistic 42 31 clinical 43 32 during 45 33 his 46 34 medical 47 35 training 48 36 he 49 37 attended 50 38 several 51 39 specialised 52 40 gaining 54 41 a 55 42 clear 56 43 understanding 57 44 of 58 45 the 59 46 need 60 47 for 61 48 an 62 49 integrated 63 50 interdisciplinary 64 51 medicine 65 52 still 67 53 as 68 54 a 69 55 medical 70 56 he 72 57 began 73 58 an 74 59 internship 75 60 as 76 61 a 77 62 researcher 78 63 at 79 64 the 80 65 laboratory 81 66 of 82 67 experimental 83 68 pathology 84 69 the 86 70 department 87 71 of 88 72 general 89 73 pathology 90 74 within 91 75 the 92 76 faculty 93 77 of 94 78 biological 95 79 university 97 80 of 98 81 under 101 82 the 102 83 mentorship 103 84 of 104 85 the 105 86 pathologist 106 87 \n",
      "\n",
      " 15 *******************   : David Robinson\n"
     ]
    },
    {
     "name": "stdout",
     "output_type": "stream",
     "text": [
      "david 0 0 maurice 1 1 robinson 2 2 august 4 3 is 7 4 an 8 5 american 9 6 former 10 7 professional 11 8 basketball 12 9 player 13 10 who 14 11 played 15 12 for 16 13 the 17 14 san 18 15 antonio 19 16 spurs 20 17 in 21 18 the 22 19 national 23 20 basketball 24 21 association 25 22 from 27 23 1989 28 24 to 29 25 and 31 26 minority 32 27 owner 33 28 of 34 29 the 35 30 nicknamed 37 31 for 40 32 his 41 33 service 42 34 with 43 35 the 44 36 robinson 47 37 was 48 38 a 49 39 nba 51 40 the 53 41 1995 54 42 nba 55 43 a 57 44 nba 59 45 champion 60 46 and 62 47 a 64 48 olympic 66 49 gold 67 50 medal 68 51 winner 69 52 a 72 53 naismith 74 54 memorial 75 55 basketball 76 56 hall 77 57 of 78 58 fame 79 59 inductee 80 60 for 82 61 his 83 62 individual 84 63 2010 86 64 as 87 65 a 88 66 member 89 67 of 90 68 the 91 69 1992 92 70 united 93 71 states 94 72 olympic 96 73 basketball 97 74 and 99 75 a 100 76 olympic 103 77 hall 104 78 of 105 79 fame 106 80 inductee 107 81 2009 110 82 as 111 83 a 112 84 member 113 85 of 114 86 the 115 87 1992 116 88 olympic 117 89 he 119 90 was 120 91 honored 121 92 as 122 93 one 123 94 \n",
      "\n",
      " 16 *******************   : Norman Kittson\n",
      "norman 0 0 wolfred 1 1 kittson 2 2 1814 5 3 may 7 4 was 10 5 one 11 6 of 12 7 early 13 8 most 15 9 prominent 16 10 he 18 11 was 19 12 best 20 13 known 21 14 as 22 15 first 23 16 a 24 17 fur 25 18 then 27 19 a 28 20 operator 30 21 and 31 22 finally 32 23 a 33 24 railway 34 25 entrepreneur 35 26 and 36 27 owner 37 28 of 38 29 thoroughbred 39 30 he 41 31 was 42 32 part 43 33 of 44 34 the 45 35 original 46 36 syndicate 47 37 that 48 38 went 49 39 on 50 40 to 51 41 create 52 42 the 53 43 canadian 54 44 pacific 55 45 kittson 57 46 minnesota 59 47 is 60 48 named 61 49 for 62 50 norman 64 51 minnesota 66 52 also 67 53 was 68 54 named 69 55 for 70 56 early 73 57 years 74 58 norman 76 59 wolfred 77 60 kittson 78 61 was 79 62 the 80 63 eighth 81 64 of 82 65 ten 83 66 children 84 67 born 85 68 \n",
      "Exception error    Page id \"harry megan becoming royal\" does not match any pages. Try another id!\n",
      "\n",
      "\n",
      " 17 *******************   : Copano, Texas\n",
      "copano 0 0 el 2 1 is 4 2 a 5 3 ghost 6 4 town 7 5 on 8 6 the 9 7 northwestern 10 8 shore 11 9 of 12 10 copano 13 11 bay 14 12 in 15 13 refugio 16 14 it 19 15 is 20 16 located 21 17 5 22 18 mi 23 19 north 26 20 of 27 21 on 30 22 copano 31 23 the 33 24 which 35 25 holds 36 26 the 37 27 distinction 38 28 as 39 29 the 40 30 first 41 31 in 42 32 south 43 33 was 45 34 founded 46 35 in 47 36 the 48 37 early 49 38 \n",
      "\n",
      " 18 *******************   : Simge (singer)\n",
      "simge 0 0 8 3 1 august 4 2 is 6 3 a 7 4 turkish 8 5 from 10 6 early 11 7 she 13 8 started 14 9 to 15 10 make 16 11 turkish 17 12 pop 18 13 and 20 14 with 21 15 the 22 16 release 23 17 of 24 18 her 25 19 single 26 20 in 29 21 2015 30 22 she 31 23 became 32 24 one 33 25 of 34 26 the 35 27 artists 37 28 in 38 29 born 40 30 in 41 31 simge 44 32 decided 45 33 to 46 34 pursue 47 35 a 48 36 career 49 37 in 50 38 music 51 39 and 52 40 with 53 41 her 54 42 support 56 43 enrolled 57 44 in 58 45 istanbul 59 46 technical 60 47 university 61 48 turkish 62 49 music 63 50 state 64 51 conservatory 65 52 and 66 53 took 67 54 music 68 55 after 70 56 she 72 57 worked 73 58 as 74 59 a 75 60 backing 76 61 vocalist 77 62 for 78 63 many 79 64 pop 80 65 singers 81 66 before 82 67 releasing 83 68 her 84 69 first 85 70 ep 86 71 yeni 87 72 with 90 73 the 91 74 help 92 75 of 93 76 erdem 94 77 her 96 78 debut 97 79 did 98 80 not 99 81 earn 100 82 her 101 83 the 102 84 success 103 85 that 104 86 she 105 87 had 106 88 and 108 89 her 109 90 main 110 91 breakthrough 111 92 came 112 93 four 113 94 years 114 95 later 115 96 with 116 97 the 117 98 single 118 99 which 121 100 became 122 101 a 123 102 hit 125 103 on 126 104 top 128 105 20 129 106 for 130 107 four 131 108 following 133 109 \n",
      "\n",
      " 19 *******************   : CIOS\n",
      "cattle 0 0 are 3 1 they 8 2 are 9 3 a 10 4 prominent 11 5 modern 12 6 member 13 7 of 14 8 the 15 9 subfamily 16 10 bovinae 17 11 and 18 12 the 19 13 most 20 14 widespread 21 15 species 22 16 of 23 17 the 24 18 genus 25 19 adult 27 20 females 28 21 are 29 22 referred 30 23 to 31 24 as 32 25 cows 33 26 and 34 27 adult 35 28 males 36 29 are 37 30 referred 38 31 to 39 32 as 40 33 cattle 42 34 are 43 35 commonly 44 36 raised 45 37 as 46 38 livestock 47 39 for 48 40 meat 49 41 or 51 42 see 53 43 beef 54 44 for 56 45 milk 57 46 dairy 59 47 and 61 48 for 62 49 which 64 50 are 65 51 used 66 52 to 67 53 make 68 54 they 70 55 are 71 56 used 72 57 as 73 58 riding 74 59 animals 75 60 and 76 61 draft 77 62 [88, 26, 86, 95, 127, 85, 35, 123, 113, 107, 169, 127, 78, 90, 88, 95, 69, 39, 110, 63]\n",
      "[88, 114, 200, 295, 422, 507, 542, 665, 778, 885, 1054, 1181, 1259, 1349, 1437, 1532, 1601, 1640, 1750]\n",
      "(0, 100)\n",
      "\n",
      "\n",
      " 0 *******************   : Albinia Wherry\n",
      "albinia 0 0 lucy 1 1 wherry 2 2 october 4 3 1857 5 4 4 7 5 march 8 6 nee 10 7 was 12 8 a 13 9 british 14 10 nurse 15 11 and 16 12 known 18 13 for 19 14 her 20 15 works 21 16 on 22 17 and 25 18 early 28 19 life 29 20 she 31 21 was 32 22 the 33 23 oldest 34 24 daughter 35 25 of 36 26 robert 37 27 needham 38 28 cust 39 29 and 40 30 his 41 31 wife 42 32 maria 43 33 and 45 34 was 46 35 born 47 36 at 48 37 langdown 49 38 the 52 39 hobart 53 40 family 54 41 home 55 42 from 56 43 two 58 44 months 59 45 later 60 46 her 61 47 barrister 62 48 father 63 49 set 64 50 off 65 51 for 66 52 british 67 53 then 69 54 torn 70 55 by 71 56 where 73 57 he 74 58 would 75 59 make 76 60 a 77 61 reputation 78 62 as 79 63 a 80 64 colonial 81 65 administrator 82 66 and 83 67 she 85 68 had 86 69 two 87 70 sisters 88 71 and 89 72 two 90 73 her 92 74 mother 93 75 died 94 76 in 95 77 1864 96 78 a 97 79 week 98 80 after 99 81 giving 100 82 birth 101 83 to 102 84 a 103 85 her 105 86 father 106 87 returned 107 88 from 108 89 when 110 90 back 111 91 there 112 92 in 113 93 a 114 94 senior 115 95 administrative 116 96 he 118 97 took 119 98 another 120 99 emma 122 100 who 124 101 died 125 102 in 126 103 childbirth 127 104 in 128 105 he 130 106 left 131 107 and 133 108 married 134 109 again 135 110 in 136 111 he 138 112 was 139 113 survived 140 114 by 141 115 three 142 116 of 143 117 his 144 118 albinia 146 119 robert 148 120 henry 149 121 hobart 150 122 cust 151 123 known 153 124 as 154 125 and 156 126 maria 157 127 eleanor 158 128 vere 159 129 family 162 130 matters 163 131 relationship 166 132 with 167 133 her 168 134 father 169 135 was 170 136 difficult 172 137 and 173 138 marred 174 139 by 175 140 grudges 176 141 there 178 142 was 179 143 a 180 144 serious 181 145 break 182 146 after 183 147 her 184 148 according 186 149 to 187 150 his 188 151 biographer 189 152 peter 190 153 her 192 154 illness 193 155 in 194 156 infancy 195 157 had 196 158 spoiled 197 159 his 198 160 \n",
      "\n",
      " 1 *******************   : Obturator artery\n"
     ]
    },
    {
     "name": "stdout",
     "output_type": "stream",
     "text": [
      "the 0 0 obturator 1 1 artery 2 2 is 3 3 a 4 4 branch 5 5 of 6 6 the 7 7 internal 8 8 iliac 9 9 artery 10 10 that 11 11 passes 12 12 and 15 13 on 17 14 the 18 15 lateral 19 16 wall 20 17 of 21 18 the 22 19 to 24 20 the 25 21 upper 26 22 part 27 23 of 28 24 the 29 25 obturator 30 26 escaping 33 27 from 34 28 the 35 29 pelvic 36 30 cavity 37 31 through 38 32 the 39 33 obturator 40 34 it 42 35 divides 43 36 into 44 37 both 45 38 an 46 39 anterior 47 40 and 48 41 a 49 42 posterior 50 43 structure 53 44 in 55 45 the 56 46 pelvic 57 47 cavity 58 48 this 59 49 vessel 60 50 is 61 51 in 62 52 with 65 53 the 66 54 obturator 67 55 with 70 56 the 71 57 ductus 73 58 and 75 59 while 77 60 a 78 61 little 79 62 below 80 63 it 81 64 is 82 65 the 83 66 obturator 84 67 the 86 68 obturator 87 69 artery 88 70 usually 89 71 arises 90 72 from 91 73 the 92 74 internal 93 75 iliac 94 76 inside 96 77 the 97 78 pelvis 98 79 the 99 80 obturator 100 81 artery 101 82 gives 102 83 off 103 84 iliac 104 85 branches 105 86 to 106 87 the 107 88 iliac 108 89 which 110 90 supply 111 91 the 112 92 bone 113 93 and 114 94 the 115 95 and 117 96 anastomose 118 97 with 119 98 the 120 99 a 123 100 vesical 124 101 which 126 102 runs 127 103 backward 128 104 to 129 105 supply 130 106 the 131 107 and 133 108 a 134 109 pubic 135 110 which 137 111 is 138 112 given 139 113 off 140 114 from 141 115 the 142 116 vessel 143 117 just 144 118 before 145 119 it 146 120 leaves 147 121 the 148 122 \n",
      "\n",
      " 2 *******************   : Tonka Bay, Minnesota\n",
      "tonka 0 0 bay 1 1 is 2 2 a 3 3 city 4 4 in 5 5 hennepin 6 6 united 9 7 it 11 8 is 12 9 located 13 10 on 14 11 lake 15 12 minnetonka 16 13 between 17 14 the 18 15 upper 19 16 and 20 17 lower 21 18 it 23 19 gained 24 20 some 25 21 popularity 26 22 in 27 23 the 28 24 1880s 29 25 and 30 26 1890s 31 27 as 32 28 a 33 29 summer 34 30 lake 35 31 the 37 32 population 38 33 of 39 34 tonka 40 35 bay 41 36 was 42 37 at 44 38 the 45 39 2010 46 40 geography 49 41 according 51 42 to 52 43 the 53 44 united 54 45 states 55 46 census 56 47 the 58 48 city 59 49 has 60 50 a 61 51 total 62 52 area 63 53 of 64 54 square 66 55 miles 67 56 of 70 57 which 71 58 square 73 59 miles 74 60 is 77 61 land 78 62 and 79 63 square 81 64 miles 82 65 is 85 66 manitou 87 67 road 88 68 serves 89 69 as 90 70 a 91 71 main 92 72 history 95 73 circa 97 74 tonka 101 75 bay 102 76 forms 103 77 during 104 78 the 105 79 recession 106 80 of 107 81 the 108 82 last 109 83 glaciation 110 84 the 112 85 upper 114 86 and 115 87 lower 116 88 lake 117 89 minnetonka 118 90 and 119 91 the 120 92 peninsula 121 93 and 122 94 bays 123 95 that 124 96 now 125 97 make 126 98 up 127 99 tonka 128 100 bay 129 101 forms 130 102 as 131 103 the 132 104 ice 133 105 sheet 134 106 1852 136 107 signing 138 108 of 139 109 treaty 140 110 of 141 111 traverse 142 112 des 143 113 sioux 144 114 that 145 115 opens 146 116 up 147 117 the 148 118 lake 149 119 minnetonka 150 120 area 151 121 to 152 122 white 153 123 1852 155 124 governor 157 125 alexander 158 126 ramsey 159 127 explores 160 128 lake 161 129 minnetonka 162 130 and 163 131 officially 164 132 names 165 133 it 166 134 for 169 135 and 171 136 for 174 137 big 175 138 or 176 139 1853 178 140 reverend 180 141 stephen 181 142 hull 182 143 comes 183 144 to 184 145 the 185 146 he 187 147 creates 188 148 the 189 149 first 190 150 located 194 151 nearby 195 152 county 197 153 road 198 154 19 199 155 north 200 156 of 201 157 west 202 158 point 203 159 the 205 160 narrows 206 161 allows 207 162 boats 208 163 to 209 164 pass 210 165 between 211 166 upper 212 167 and 213 168 lower 214 169 lake 215 170 1864 217 171 horticulturist 219 172 \n",
      "\n",
      " 3 *******************   : Lucy Bramlette Patterson\n",
      "lucy 0 0 bramlette 1 1 patterson 2 2 1865 5 3 june 7 4 was 10 5 a 11 6 committee 12 7 and 15 8 she 17 9 is 18 10 most 19 11 known 20 12 for 21 13 the 22 14 patterson 23 15 memorial 24 16 an 26 17 award 27 18 she 28 19 presented 29 20 annually 30 21 for 31 22 literary 32 23 she 34 24 earned 35 25 her 36 26 diploma 37 27 from 38 28 the 39 29 salem 40 30 academy 41 31 and 42 32 served 43 33 as 44 34 president 45 35 of 46 36 the 47 37 southern 48 38 interstate 50 39 association 51 40 for 52 41 the 53 42 betterment 54 43 of 55 44 public 56 45 early 59 46 life 60 47 lucy 62 48 bramlette 63 49 patterson 64 50 was 65 51 born 66 52 on 67 53 august 68 54 she 71 55 was 72 56 born 73 57 in 74 58 her 75 59 family 77 60 home 78 61 in 79 62 patterson 82 63 had 83 64 one 84 65 older 85 66 education 88 67 in 90 68 patterson 92 69 graduated 93 70 from 94 71 salem 95 72 \n",
      "\n",
      " 4 *******************   : Baltimore accent\n",
      "a 0 0 baltimore 1 1 also 3 2 known 4 3 as 5 4 baltimorese 6 5 jokingly 8 6 written 9 7 bawlmerese 10 8 or 11 9 to 13 10 mimic 14 11 the 15 12 commonly 17 13 refers 18 14 to 19 15 an 20 16 accent 21 17 or 22 18 of 24 19 philadelphia 25 20 english 26 21 that 27 22 originates 28 23 among 29 24 residents 31 25 of 32 26 it 35 27 extends 36 28 into 37 29 the 38 30 baltimore 39 31 metropolitan 40 32 area 41 33 and 42 34 northeastern 43 35 the 45 36 same 46 37 there 48 38 is 49 39 considerable 50 40 linguistic 51 41 diversity 52 42 within 53 43 which 55 44 complicates 56 45 the 57 46 notion 58 47 of 59 48 a 60 49 singular 61 50 according 64 51 to 65 52 the 67 53 accent 68 54 and 69 55 dialect 70 56 of 71 57 black 72 58 baltimoreans 73 59 is 74 60 different 75 61 from 76 62 the 77 63 variety 78 64 spoken 79 65 by 80 66 white 81 67 white 84 68 families 86 69 who 87 70 migrated 88 71 out 89 72 of 90 73 baltimore 91 74 city 92 75 along 93 76 the 94 77 maryland 95 78 route 96 79 140 97 80 and 98 81 maryland 99 82 route 100 83 26 101 84 corridors 102 85 brought 103 86 local 104 87 pronunciations 105 88 with 106 89 creating 108 90 colloquialisms 109 91 that 110 92 make 111 93 up 112 94 the 113 95 baltimore 114 96 pronunciation 117 97 the 119 98 baltimore 120 99 accent 121 100 that 122 101 originated 123 102 among 124 103 white 125 104 residents 127 105 closely 128 106 resembles 129 107 english 132 108 pronunciation 133 109 in 134 110 many 135 111 these 137 112 two 138 113 cities 139 114 are 140 115 the 141 116 only 142 117 major 143 118 ports 144 119 on 145 120 the 146 121 eastern 147 122 seaboard 148 123 never 149 124 to 150 125 have 151 126 developed 152 127 nonrhotic 153 128 speech 154 129 among 155 130 european 156 131 american 157 132 they 159 133 were 160 134 greatly 161 135 influenced 162 136 in 163 137 their 164 138 early 165 139 development 166 140 by 167 141 scottish 169 142 and 171 143 west 172 144 country 173 145 due 175 146 to 176 147 the 177 148 significant 178 149 similarity 179 150 between 180 151 the 181 152 speeches 182 153 \n",
      "\n",
      " 5 *******************   : James Churchward\n"
     ]
    },
    {
     "name": "stdout",
     "output_type": "stream",
     "text": [
      "james 0 0 churchward 1 1 february 3 2 1851 4 3 4 6 4 january 7 5 was 9 6 a 10 7 british 11 8 occult 12 9 and 16 10 churchward 18 11 is 19 12 most 20 13 notable 21 14 for 22 15 proposing 23 16 the 24 17 existence 25 18 of 26 19 a 27 20 lost 28 21 called 30 22 in 32 23 the 33 24 pacific 34 25 his 36 26 writings 37 27 on 38 28 mu 39 29 are 40 30 considered 41 31 to 42 32 be 43 33 life 46 34 churchward 48 35 was 49 36 born 50 37 in 51 38 devon 54 39 at 55 40 stone 56 41 house 57 42 to 58 43 henry 59 44 and 60 45 matilda 61 46 james 65 47 had 66 48 four 67 49 brothers 68 50 and 69 51 four 70 52 in 72 53 november 73 54 his 75 55 father 76 56 henry 77 57 died 78 58 and 79 59 the 80 60 family 81 61 moved 82 62 in 83 63 with 84 64 parents 86 65 in 87 66 the 88 67 hamlet 89 68 of 90 69 near 92 70 census 94 71 records 95 72 indicate 96 73 the 97 74 family 98 75 moved 99 76 to 100 77 london 101 78 when 102 79 james 103 80 was 104 81 after 106 82 his 107 83 maternal 108 84 grandfather 109 85 george 110 86 gould 111 87 his 113 88 younger 114 89 brother 115 90 albert 116 91 churchward 117 92 became 119 93 a 120 94 masonic 121 95 churchward 123 96 went 124 97 out 125 98 to 126 99 southeast 127 100 becoming 129 101 a 130 102 tea 131 103 planter 132 104 in 133 105 sri 134 106 he 136 107 immigrated 137 108 to 138 109 the 139 110 us 140 111 in 141 112 the 142 113 in 144 114 entitled 147 115 my 148 116 friend 149 117 and 151 118 his 152 119 sunken 153 120 he 155 121 was 156 122 said 157 123 to 158 124 have 159 125 discussed 160 126 with 162 127 augustus 163 128 le 164 129 plongeon 165 130 and 166 131 his 167 132 wife 168 133 in 169 134 the 170 135 in 172 136 \n",
      "Exception error    Page id \"2021 saskatchewan scotties tournament of hearts\" does not match any pages. Try another id!\n",
      "\n",
      "\n",
      " 6 *******************   : Not Guilty (song)\n",
      "is 2 0 a 3 1 song 4 2 by 5 3 english 6 4 rock 7 5 musician 8 6 george 9 7 harrison 10 8 from 11 9 his 12 10 1979 13 11 album 14 12 george 15 13 he 17 14 wrote 18 15 the 19 16 song 20 17 in 21 18 1968 22 19 following 23 20 the 24 21 transcendental 26 22 meditation 27 23 course 28 24 in 29 25 india 30 26 with 31 27 maharishi 32 28 mahesh 33 29 an 35 30 activity 36 31 that 37 32 he 38 33 had 39 34 led 40 35 the 41 36 group 42 37 in 43 38 the 45 39 lyrics 46 40 serve 47 41 as 48 42 a 49 43 response 50 44 to 51 45 the 52 46 recrimination 53 47 harrison 54 48 received 55 49 from 56 50 his 57 51 bandmates 58 52 john 59 53 lennon 60 54 and 61 55 paul 62 56 mccartney 63 57 in 64 58 \n",
      "\n",
      " 7 *******************   : Gordon Claridge\n",
      "gordon 0 0 sidney 1 1 claridge 2 2 was 3 3 a 4 4 british 5 5 psychologist 6 6 and 7 7 best 9 8 known 10 9 for 11 10 his 12 11 theoretical 13 12 and 14 13 empirical 15 14 work 16 15 on 17 16 the 18 17 concept 19 18 of 20 19 schizotypy 21 20 or 22 21 biography 25 22 claridge 27 23 took 28 24 his 29 25 first 30 26 degree 31 27 in 32 28 psychology 33 29 at 34 30 university 35 31 in 38 32 his 40 33 phd 41 34 work 42 35 was 43 36 at 44 37 the 45 38 institute 46 39 of 47 40 jointly 50 41 supervised 51 42 by 52 43 hans 53 44 eysenck 54 45 and 55 46 neil 56 47 he 58 48 qualified 59 49 under 60 50 training 62 51 as 63 52 a 64 53 clinical 65 54 and 67 55 from 68 56 worked 70 57 as 71 58 research 73 59 based 75 60 in 76 61 the 77 62 royal 78 63 victoria 79 64 military 80 65 claridge 84 66 then 85 67 moved 86 68 to 87 69 bristol 88 70 as 89 71 head 90 72 of 91 73 clinical 92 74 psychology 93 75 at 94 76 barrow 95 77 hospital 96 78 and 97 79 lecturer 99 80 in 100 81 the 101 82 bristol 102 83 university 103 84 department 104 85 of 105 86 \n",
      "Disambiguation error    ['Schizoaffective disorder', 'Sheffield City Airport', 'Soviet Railways', 'SZ cycle-car', 'Szybowcowy Zakład Doświadczalny', 'Suzhou East railway station']\n",
      "\n",
      "\n",
      " 8 *******************   : Alexander Doyle\n",
      "doyle 0 0 lafayette 1 1 alexander 2 2 september 4 3 is 7 4 a 8 5 former 9 6 pitcher 10 7 in 11 8 major 12 9 league 13 10 baseball 14 11 who 16 12 played 17 13 for 18 14 the 19 15 los 20 16 angeles 21 17 baltimore 23 18 new 25 19 york 26 20 texas 28 21 atlanta 30 22 san 32 23 francisco 33 24 toronto 35 25 blue 36 26 and 38 27 detroit 39 28 major 42 29 league 43 30 career 44 31 after 46 32 being 47 33 drafted 48 34 \n",
      "\n",
      " 9 *******************   : Mar Thoma Sleeha Syro-Malabar Church, Thulappally\n",
      "mar 0 0 thoma 1 1 sleeha 2 2 church 4 3 is 5 4 a 6 5 pilgrimage 7 6 church 8 7 located 9 8 in 10 9 catholic 13 10 eparchy 14 11 of 15 12 kanjirappally 16 13 in 17 14 the 18 15 indian 19 16 state 20 17 of 21 18 the 23 19 feast 26 20 festivities 27 21 held 28 22 there 29 23 every 30 24 july 31 25 attract 32 26 a 33 27 number 34 28 of 35 29 devotees 36 30 from 37 31 in 38 32 and 39 33 around 40 34 about 43 35 the 44 36 parish 45 37 this 47 38 catholic 48 39 church 49 40 is 50 41 located 51 42 in 52 43 the 53 44 eastern 54 45 bank 55 46 of 56 47 the 57 48 river 58 49 holy 60 50 river 61 51 to 62 52 hindu 63 53 the 65 54 parish 66 55 is 67 56 surrounded 68 57 by 69 58 state 70 59 it 72 60 is 73 61 very 74 62 close 75 63 to 76 64 the 77 65 famous 78 66 hindu 79 67 pilgrimage 80 68 centers 81 69 of 82 70 the 83 71 sabarimala 84 72 sri 85 73 ayyappa 86 74 temple 87 75 and 88 76 the 89 77 nilackal 90 78 the 92 79 first 93 80 church 94 81 of 95 82 catholics 96 83 has 97 84 been 98 85 established 99 86 in 100 87 the 101 88 year 102 89 1956 103 90 and 104 91 it 105 92 was 106 93 dedicated 107 94 to 108 95 st 109 96 recently 111 97 the 112 98 new 113 99 church 114 100 building 115 101 has 116 102 been 117 103 constructed 118 104 and 119 105 the 120 106 church 121 107 has 122 108 been 123 109 dedicated 124 110 in 125 111 the 126 112 name 127 113 of 128 114 st 129 115 this 131 116 is 132 117 done 133 118 to 134 119 show 135 120 case 136 121 that 137 122 the 138 123 catholics 139 124 of 140 125 this 141 126 are 142 127 too 143 128 are 144 129 part 145 130 of 146 131 st 147 132 thomas 148 133 christian 149 134 community 150 135 which 151 136 traces 152 137 its 153 138 origin 154 139 to 155 140 the 156 141 arrival 157 142 of 158 143 st 159 144 the 161 145 church 162 146 renaming 163 147 has 164 148 been 165 149 done 166 150 to 167 151 attract 168 152 the 169 153 pilgrims 170 154 as 171 155 the 172 156 location 173 157 is 174 158 near 175 159 to 176 160 there 178 161 are 179 162 325 180 163 christian 181 164 families 182 165 and 183 166 about 184 167 1850 185 168 members 186 169 in 187 170 the 188 171 \n",
      "\n",
      " 10 *******************   : Ridgewell\n",
      "thomas 0 0 james 1 1 ridgewell 2 2 27 4 3 june 5 4 known 7 5 online 8 6 as 9 7 is 11 8 a 12 9 british 13 10 content 16 11 and 18 12 he 20 13 is 21 14 known 22 15 for 23 16 and 27 17 starring 28 18 in 29 19 his 30 20 sketch 32 21 comedy 33 22 youtube 34 23 videos 35 24 and 36 25 animated 37 26 such 39 27 as 40 28 eddsworld 42 29 and 43 30 crash 44 31 as 46 32 of 47 33 april 48 34 his 50 35 youtube 51 36 channel 52 37 has 53 38 over 54 39 million 56 40 and 58 41 his 59 42 videos 60 43 have 61 44 garnered 62 45 over 63 46 billion 65 47 early 68 48 life 69 49 and 70 50 education 71 51 as 73 52 a 74 53 ridgewell 76 54 made 77 55 short 78 56 films 79 57 using 80 58 his 81 59 video 83 60 shortly 85 61 after 86 62 youtube 87 63 was 88 64 ridgewell 90 65 created 91 66 a 93 67 website 94 68 where 95 69 he 96 70 posted 97 71 his 98 72 including 100 73 his 101 74 animated 102 75 web 103 76 series 104 77 asdfmovie 105 78 and 106 79 his 107 80 friend 108 81 edd 109 82 ridgewell 112 83 graduated 113 84 from 114 85 the 115 86 university 116 87 of 117 88 lincoln 118 89 where 119 90 he 120 91 studied 121 92 media 122 93 and 124 94 whilst 125 95 studying 126 96 created 127 97 a 128 98 series 129 99 of 130 100 unofficial 131 101 advertisements 132 102 for 133 103 the 134 104 university 135 105 which 136 106 received 137 107 millions 138 108 of 139 109 views 140 110 and 141 111 were 142 112 also 143 113 featured 144 114 on 145 115 the 146 116 career 149 117 as 151 118 a 152 119 professional 153 120 \n",
      "\n",
      " 11 *******************   : History of Iowa State Cyclones football\n"
     ]
    },
    {
     "name": "stdout",
     "output_type": "stream",
     "text": [
      "the 0 0 iowa 1 1 state 2 2 cyclones 3 3 football 4 4 team 5 5 represents 6 6 iowa 7 7 state 8 8 university 9 9 in 10 10 american 11 11 early 14 12 success 15 13 football 18 14 was 19 15 first 20 16 played 21 17 on 22 18 the 23 19 iowa 24 20 state 25 21 campus 26 22 in 27 23 1878 28 24 as 29 25 a 30 26 recreational 31 27 but 33 28 it 34 29 until 36 30 1892 37 31 that 38 32 an 39 33 organized 40 34 team 41 35 first 42 36 represented 43 37 iowa 44 38 state 45 39 in 46 40 in 48 41 college 50 42 president 51 43 william 52 44 beardshear 54 45 spearheaded 55 46 the 56 47 foundation 57 48 of 58 49 an 59 50 athletic 60 51 association 61 52 to 62 53 officially 63 54 sanction 64 55 iowa 65 56 state 66 57 football 67 58 the 69 59 1894 70 60 team 71 61 finished 72 62 with 73 63 a 74 64 including 77 65 a 78 66 victory 80 67 over 81 68 what 82 69 is 83 70 now 84 71 the 85 72 university 86 73 of 87 74 of 89 75 the 90 76 pioneers 91 77 of 92 78 pop 94 79 spent 96 80 time 97 81 at 98 82 iowa 99 83 state 100 84 early 101 85 in 102 86 his 103 87 in 105 88 1895 106 89 despite 107 90 already 108 91 being 109 92 the 110 93 coach 111 94 at 112 95 georgia 113 96 he 114 97 was 115 98 offered 116 99 per 118 100 week 119 101 to 120 102 come 121 103 to 122 104 iowa 123 105 whose 125 106 season 126 107 started 127 108 in 128 109 while 130 110 started 132 111 a 133 112 month 134 113 as 136 114 well 137 115 as 138 116 provide 139 117 weekly 140 118 advice 141 119 during 142 120 the 143 121 rest 144 122 of 145 123 the 146 124 soon 148 125 after 149 126 warner 150 127 left 151 128 for 152 129 iowa 154 130 state 155 131 had 156 132 its 157 133 first 158 134 game 159 135 of 160 136 the 161 137 iowa 163 138 state 164 139 came 165 140 into 166 141 evanston 167 142 as 168 143 the 169 144 but 171 145 defeated 172 146 northwestern 173 147 a 175 148 chicago 176 149 sportswriter 177 150 called 178 151 the 179 152 team 180 153 giants 182 154 from 183 155 while 185 156 \n",
      "Exception error    Page id \"allen young\" does not match any pages. Try another id!\n",
      "\n",
      "\n",
      " 12 *******************   : International Women's Boxing Hall of Fame\n",
      "the 0 0 international 1 1 boxing 3 2 hall 4 3 of 5 4 fame 6 5 is 8 6 a 9 7 sports 10 8 hall 11 9 of 12 10 fame 13 11 located 14 12 in 15 13 it 18 14 is 19 15 dedicated 20 16 to 21 17 and 24 18 was 25 19 started 26 20 by 27 21 sue 28 22 tl 29 23 the 31 24 hall 32 25 of 33 26 fame 34 27 has 35 28 a 36 29 board 37 30 of 38 31 11 39 32 who 41 33 vote 42 34 on 43 35 nominees 44 36 who 45 37 are 46 38 submitted 47 39 to 48 40 the 49 41 by 51 42 the 52 43 terri 54 44 \n",
      "Exception error    Page id \"kfc radio\" does not match any pages. Try another id!\n",
      "\n",
      "\n",
      " 13 *******************   : Beurling\n",
      "george 0 0 frederick 1 1 december 5 2 1921 6 3 20 8 4 may 9 5 was 11 6 the 12 7 most 13 8 successful 14 9 canadian 15 10 fighter 16 11 pilot 17 12 and 18 13 flying 19 14 ace 20 15 of 21 16 the 22 17 second 23 18 world 24 19 beurling 26 20 was 27 21 recognised 28 22 as 29 23 most 31 24 famous 32 25 hero 33 26 of 34 27 the 35 28 second 36 29 world 37 30 as 39 31 falcon 41 32 of 42 33 and 44 34 the 45 35 of 47 36 having 49 37 been 50 38 credited 51 39 with 52 40 shooting 53 41 down 54 42 27 55 43 axis 56 44 aircraft 57 45 in 58 46 just 59 47 14 60 48 days 61 49 \n",
      "\n",
      " 14 *******************   : Richard Requa\n",
      "richard 0 0 smith 1 1 requa 2 2 1881 5 3 june 7 4 was 10 5 an 11 6 american 12 7 largely 14 8 known 15 9 for 16 10 his 17 11 work 18 12 in 19 13 san 20 14 requa 23 15 was 24 16 the 25 17 master 26 18 architect 27 19 for 28 20 the 29 21 california 30 22 pacific 31 23 international 32 24 exposition 33 25 held 34 26 in 35 27 balboa 36 28 park 37 29 in 38 30 he 40 31 improved 41 32 and 42 33 extended 43 34 many 44 35 of 45 36 the 46 37 already 47 38 existing 48 39 buildings 49 40 from 50 41 an 51 42 earlier 52 43 as 54 44 well 55 45 as 56 46 creating 57 47 new 58 48 facilities 59 49 including 60 50 the 61 51 old 62 52 globe 63 53 own 65 54 designs 66 55 were 67 56 predominantly 68 57 in 69 58 the 70 59 spanish 71 60 revival 72 61 architectural 73 62 occasionally 75 63 blending 76 64 them 77 65 with 78 66 american 79 67 craftsman 80 68 working 82 69 to 83 70 preserve 84 71 san 85 72 his 89 73 requa 91 74 and 92 75 were 94 76 the 95 77 architects 96 78 of 97 79 choice 98 80 in 99 81 san 100 82 diego 101 83 during 102 84 the 103 85 dominating 105 86 the 106 87 area 107 88 with 108 89 their 109 90 california 111 91 that 113 92 blended 114 93 mediterranean 115 94 and 116 95 mission 117 96 life 120 97 and 121 98 career 122 99 requa 124 100 was 125 101 born 126 102 in 127 103 rock 128 104 illinois 130 105 in 131 106 and 133 107 in 134 108 1900 135 109 at 136 110 the 137 111 age 138 112 of 139 113 19 140 114 moved 141 115 to 142 116 san 143 117 california 145 118 with 146 119 his 147 120 he 149 121 died 150 122 at 151 123 the 152 124 age 153 125 of 154 126 sixty 155 127 on 156 128 june 157 129 of 160 130 a 161 131 heart 162 132 attack 163 133 while 164 134 working 165 135 in 166 136 his 167 137 and 169 138 is 170 139 buried 171 140 at 172 141 greenwood 173 142 memorial 174 143 park 175 144 in 176 145 san 177 146 he 179 147 was 180 148 married 181 149 in 182 150 1908 183 151 to 184 152 viola 185 153 hust 186 154 in 187 155 san 188 156 requa 190 157 made 191 158 early 192 159 use 193 160 of 194 161 home 195 162 \n",
      "Disambiguation error    ['The Flying Car (1920 film)', 'The Flying Car (2002 film)', 'Hovercar', 'Fly-car', 'Aerocar (disambiguation)', 'Skycar (disambiguation)']\n",
      "\n",
      "\n",
      " 15 *******************   : UCL School of Management\n",
      "the 0 0 ucl 1 1 school 2 2 of 3 3 management 4 4 is 5 5 the 6 6 business 7 7 school 8 8 of 9 9 university 10 10 college 11 11 london 12 12 and 14 13 is 15 14 located 16 15 in 17 16 canary 18 17 wharf 19 18 and 20 19 the 23 20 school 24 21 offers 25 22 executive 28 23 and 29 24 phd 30 25 programmes 31 26 in 32 27 management 33 28 with 34 29 a 35 30 focus 36 31 on 37 32 analytics 40 33 and 41 34 history 44 35 department 47 36 of 48 37 management 49 38 science 50 39 and 51 40 innovation 52 41 was 53 42 established 54 43 in 55 44 2007 56 45 along 57 46 with 58 47 ucl 59 48 centre 62 49 for 63 50 business 64 51 interaction 65 52 and 66 53 steven 68 54 currall 70 55 held 71 56 the 72 57 founding 73 58 chair 74 59 of 75 60 the 76 61 the 78 62 department 79 63 was 80 64 established 81 65 during 82 66 a 83 67 period 84 68 of 85 69 partnership 86 70 between 87 71 ucl 88 72 and 89 73 london 90 74 business 91 75 school 92 76 both 94 77 of 95 78 which 96 79 are 97 80 constituent 98 81 colleges 99 82 of 100 83 federal 101 84 university 102 85 of 103 86 london 104 87 and 105 88 the 106 89 department 107 90 initially 108 91 offered 109 92 a 110 93 degree 112 94 in 113 95 technology 114 96 entrepreneurship 115 97 and 116 98 an 117 99 undergraduate 118 100 degree 119 101 in 120 102 information 121 103 management 122 104 for 123 105 the 125 106 department 126 107 grew 127 108 significantly 128 109 between 129 110 2007 130 111 and 131 112 2015 132 113 and 133 114 expanded 134 115 its 135 116 offerings 136 117 to 137 118 include 138 119 a 139 120 in 141 121 management 142 122 and 143 123 degree 145 124 in 146 125 management 147 126 in 149 127 the 152 128 department 153 129 of 154 130 management 155 131 science 156 132 and 157 133 innovation 158 134 was 159 135 renamed 160 136 the 161 137 ucl 162 138 school 163 139 of 164 140 with 166 141 bert 167 142 de 168 143 as 170 144 founding 171 145 location 174 146 the 176 147 ucl 177 148 school 178 149 of 179 150 management 180 151 is 181 152 located 182 153 at 183 154 level 184 155 38 185 156 of 186 157 one 187 158 canada 188 159 square 189 160 in 190 161 canary 191 162 one 193 163 of 194 164 financial 196 165 the 198 166 school 199 167 is 200 168 in 201 169 close 202 170 proximity 203 171 to 204 172 biggest 207 173 \n",
      "Exception error    Page id \"1986 in laos\" does not match any pages. Try another id!\n",
      "\n",
      "\n",
      " 16 *******************   : Night of the Creeps\n"
     ]
    },
    {
     "name": "stdout",
     "output_type": "stream",
     "text": [
      "night 0 0 of 1 1 the 2 2 creeps 3 3 is 4 4 a 5 5 1986 6 6 american 7 7 science 8 8 fiction 9 9 horror 10 10 comedy 11 11 film 12 12 written 13 13 and 14 14 directed 15 15 by 16 16 fred 17 17 dekker 18 18 in 19 19 his 20 20 feature 21 21 directorial 22 22 starring 24 23 jason 25 24 jill 27 25 and 29 26 tom 30 27 the 32 28 film 33 29 is 34 30 an 35 31 earnest 36 32 attempt 37 33 at 38 34 a 39 35 b 40 36 movie 41 37 and 42 38 an 43 39 homage 44 40 to 45 41 the 46 42 while 48 43 the 49 44 main 50 45 plot 51 46 of 52 47 the 53 48 film 54 49 is 55 50 related 56 51 to 57 52 the 59 53 film 60 54 also 61 55 mixes 62 56 in 63 57 takes 64 58 on 65 59 slashers 66 60 and 67 61 alien 68 62 invasion 69 63 night 71 64 of 72 65 the 73 66 creeps 74 67 did 75 68 not 76 69 perform 77 70 well 78 71 at 79 72 the 80 73 box 81 74 but 83 75 it 84 76 developed 85 77 a 86 78 cult 87 79 plot 90 80 in 92 81 on 94 82 board 95 83 a 96 84 two 98 85 aliens 99 86 race 100 87 to 101 88 keep 102 89 an 103 90 experiment 104 91 from 105 92 being 106 93 released 107 94 by 108 95 a 109 96 third 110 97 member 111 98 of 112 99 the 113 100 the 115 101 seemingly 116 102 possessed 117 103 third 118 104 alien 119 105 shoots 120 106 the 121 107 canister 122 108 into 123 109 space 124 110 where 125 111 it 126 112 crashes 127 113 to 128 114 a 131 115 college 132 116 man 133 117 takes 134 118 his 135 119 date 136 120 to 137 121 a 138 122 parking 139 123 spot 140 124 when 141 125 they 142 126 see 143 127 a 144 128 falling 145 129 star 146 130 and 147 131 it 149 132 lands 150 133 in 151 134 the 152 135 path 153 136 of 154 137 an 155 138 escaped 156 139 criminally 157 140 insane 158 141 mental 159 142 as 161 143 his 162 144 date 163 145 is 164 146 attacked 165 147 by 166 148 the 167 149 the 170 150 boy 171 151 finds 172 152 the 173 153 from 175 154 which 176 155 a 177 156 small 178 157 thing 180 158 jumps 181 159 out 182 160 and 183 161 into 184 162 his 185 163 years 188 164 later 189 165 in 190 166 chris 192 167 \n",
      "Disambiguation error    ['Franciscus Junius (the elder)', 'Franciscus Junius (the younger)']\n",
      "\n",
      "\n",
      " 17 *******************   : South African Class 20 2-10-2\n",
      "the 0 0 south 1 1 african 2 2 railways 3 3 class 4 4 20 5 5 of 7 6 1935 8 7 was 9 8 a 10 9 steam 11 10 in 13 11 the 15 12 south 16 13 african 17 14 railways 18 15 placed 19 16 one 20 17 class 21 18 20 22 19 steam 23 20 locomotive 24 21 with 25 22 a 26 23 santa 28 24 fe 29 25 type 30 26 wheel 31 27 arrangement 32 28 in 33 29 designed 35 30 and 36 31 built 37 32 at 38 33 its 39 34 pretoria 40 35 mechanical 41 36 in 43 37 it 45 38 was 46 39 modified 47 40 to 48 41 an 49 42 experimental 50 43 condensing 51 44 class 53 45 20 54 46 was 55 47 the 56 48 third 57 49 locomotive 58 50 type 59 51 to 60 52 be 61 53 designed 62 54 and 63 55 built 64 56 in 65 57 south 66 58 after 68 59 the 69 60 natal 70 61 government 71 62 railways 72 63 havelock 74 64 of 75 65 1888 76 66 and 77 67 \n",
      "\n",
      " 18 *******************   : North West Coastal Highway\n",
      "north 0 0 west 1 1 coastal 2 2 highway 3 3 is 4 4 a 5 5 generally 6 6 western 8 7 australian 9 8 highway 10 9 which 11 10 links 12 11 the 13 12 coastal 14 13 city 15 14 of 16 15 geraldton 17 16 with 18 17 the 19 18 town 20 19 of 21 20 port 22 21 the 24 22 constructed 29 23 as 30 24 a 31 25 sealed 32 26 single 34 27 travels 36 28 through 37 29 remote 38 30 and 39 31 largely 40 32 arid 41 33 carnarvon 43 34 is 44 35 the 45 36 only 46 37 large 47 38 settlement 48 39 on 49 40 the 50 41 and 52 42 is 53 43 an 54 44 oasis 55 45 within 56 46 the 57 47 harsh 58 48 surrounding 59 49 the 61 50 entire 62 51 highway 63 52 is 64 53 allocated 65 54 national 66 55 route 67 56 part 69 57 of 70 58 highway 72 59 and 74 60 parts 75 61 of 76 62 the 77 63 highway 78 64 are 79 65 included 80 66 in 81 67 tourist 82 68 routes 83 69 batavia 84 70 coast 85 71 tourist 86 72 way 87 73 and 88 74 cossack 89 75 tourist 90 76 north 93 77 west 94 78 coastal 95 79 \n",
      "\n",
      " 19 *******************   : Ballyscullion House\n",
      "ballyscullion 0 0 house 1 1 refers 2 2 to 3 3 two 4 4 country 5 5 houses 6 6 built 7 7 for 8 8 the 9 9 hervey 10 10 family 11 11 near 12 12 bellaghy 13 13 in 14 14 county 15 15 northern 17 16 close 19 17 to 20 18 lough 21 19 beg 22 20 at 23 21 corner 25 22 of 26 23 lough 27 24 the 29 25 first 30 26 [161, 123, 173, 73, 154, 137, 59, 87, 35, 172, 121, 157, 45, 50, 163, 174, 168, 68, 80, 27]\n",
      "[161, 284, 457, 530, 684, 821, 880, 967, 1002, 1174, 1295, 1452, 1497, 1547, 1710, 1884, 2052, 2120, 2200]\n",
      "(0, 100)\n",
      "\n",
      "\n",
      " 0 *******************   : Metropolitan Area Express (Las Vegas)\n",
      "the 0 0 las 1 1 vegas 2 2 valley 3 3 is 4 4 a 5 5 major 6 6 metropolitan 7 7 area 8 8 in 9 9 the 10 10 southern 11 11 part 12 12 of 13 13 the 14 14 state 16 15 of 17 16 and 19 17 the 20 18 second 21 19 largest 22 20 in 23 21 the 24 22 southwestern 25 23 united 26 24 the 28 25 largest 30 26 urban 31 27 the 33 28 las 34 29 vegas 35 30 metropolitan 36 31 statistical 37 32 area 38 33 is 39 34 coextensive 40 35 since 41 36 2003 42 37 with 43 38 clark 44 39 the 47 40 valley 48 41 is 49 42 largely 50 43 defined 51 44 by 52 45 the 53 46 las 54 47 vegas 55 48 valley 56 49 a 58 50 600 59 51 sq 60 52 mi 61 53 basin 64 54 area 65 55 surrounded 66 56 by 67 57 mountains 68 58 to 69 59 the 70 60 east 73 61 and 74 62 west 75 63 of 76 64 the 77 65 metropolitan 78 66 the 80 67 valley 81 68 is 82 69 home 83 70 to 84 71 the 85 72 three 86 73 largest 87 74 incorporated 88 75 cities 89 76 in 90 77 las 92 78 henderson 94 79 and 95 80 north 96 81 \n",
      "\n",
      " 1 *******************   : Joseph Byrne (Holby City)\n",
      "joseph 0 0 byrne 1 1 is 2 2 a 3 3 fictional 4 4 character 5 5 from 6 6 the 7 7 bbc 8 8 medical 9 9 drama 10 10 holby 11 11 portrayed 13 12 by 14 13 luke 15 14 joseph 17 15 first 18 16 appeared 19 17 in 20 18 the 21 19 series 22 20 eight 23 21 episode 24 22 broadcast 27 23 on 28 24 3 29 25 january 30 26 roberts 32 27 had 33 28 made 34 29 an 35 30 unrelated 36 31 guest 37 32 appearance 38 33 in 39 34 the 40 35 previous 41 36 series 42 37 of 43 38 the 44 39 playing 46 40 the 47 41 relative 48 42 of 49 43 a 50 44 deceased 51 45 and 53 46 was 54 47 asked 55 48 to 56 49 return 57 50 in 58 51 a 59 52 more 60 53 permanent 61 54 role 62 55 by 63 56 the 64 57 series 65 58 role 68 59 in 69 60 the 70 61 show 71 62 is 72 63 that 73 64 of 74 65 troubled 75 66 surgeon 76 67 the 78 68 resultant 79 69 angst 80 70 of 81 71 his 82 72 attempted 84 73 \n",
      "\n",
      " 2 *******************   : Trois petites liturgies de la présence divine\n",
      "trois 0 0 petites 1 1 liturgies 2 2 de 3 3 la 4 4 divine 6 5 three 9 6 small 10 7 liturgies 11 8 of 12 9 the 13 10 divine 14 11 is 16 12 a 17 13 1944 18 14 cantata 19 15 by 20 16 olivier 21 17 messiaen 22 18 for 23 19 piano 26 20 ondes 28 21 and 30 22 orchestra 31 23 in 34 24 three 35 25 the 37 26 libretto 38 27 for 39 28 the 40 29 piece 41 30 was 42 31 written 43 32 by 44 33 messiaen 45 34 composition 48 35 and 49 36 premiere 50 37 trois 52 38 petites 53 39 liturgies 54 40 was 55 41 commissioned 56 42 by 57 43 denise 58 44 tual 59 45 for 60 46 the 61 47 concerts 62 48 de 63 49 la 64 50 in 66 51 paris 67 52 and 68 53 composed 69 54 during 70 55 world 71 56 war 72 57 between 74 58 november 75 59 and 78 60 march 79 61 messiaen 82 62 originally 83 63 conceived 84 64 the 85 65 piece 86 66 as 87 67 a 88 68 work 89 69 for 90 70 two 91 71 as 93 72 he 94 73 had 95 74 achieved 96 75 success 97 76 in 98 77 that 99 78 format 100 79 previously 101 80 with 102 81 visions 103 82 de 104 83 the 106 84 sung 107 85 words 108 86 evoke 109 87 the 110 88 presence 111 89 of 112 90 god 113 91 in 114 92 himself 115 93 and 116 94 in 117 95 all 118 96 as 120 97 indicated 121 98 by 122 99 the 123 100 according 125 101 to 126 102 each 128 103 movement 129 104 describes 130 105 a 131 106 different 132 107 facet 133 108 of 134 109 the 137 110 principal 138 111 idea 139 112 is 140 113 that 141 114 of 142 115 the 143 116 \n",
      "\n",
      " 3 *******************   : Monkey Business 1972–1997\n"
     ]
    },
    {
     "name": "stdout",
     "output_type": "stream",
     "text": [
      "monkey 0 0 business 1 1 is 3 2 an 4 3 album 5 4 by 6 5 english 7 6 musicians 8 7 john 9 8 wetton 10 9 and 11 10 richard 12 11 it 14 12 features 15 13 various 16 14 demos 17 15 and 18 16 live 19 17 performances 20 18 of 21 19 songs 22 20 by 23 21 king 24 22 crimson 25 23 which 27 24 wetton 28 25 and 29 26 were 31 27 and 33 28 lyricist 34 29 was 38 30 another 39 31 wetton 40 32 and 41 33 and 44 34 john 45 35 the 47 36 album 48 37 was 49 38 first 50 39 released 51 40 1998 52 41 and 53 42 again 54 43 in 55 44 2014 56 45 with 57 46 i 58 47 wish 59 48 you 60 49 would 61 50 by 62 51 overview 65 52 the 67 53 collaboration 68 54 between 69 55 the 70 56 two 71 57 musicians 72 58 started 73 59 already 74 60 in 75 61 1962 76 62 when 77 63 they 78 64 met 79 65 at 80 66 in 82 67 1972 83 68 they 84 69 rejoined 85 70 forces 86 71 \n",
      "\n",
      " 4 *******************   : Chiemi Chiba\n",
      "chiemi 0 0 chiba 1 1 chiba 4 2 born 6 3 february 7 4 1975 9 5 in 10 6 is 13 7 a 14 8 japanese 15 9 actress 16 10 and 17 11 voice 18 12 actress 19 13 affiliated 20 14 with 21 15 she 23 16 made 24 17 her 25 18 singing 26 19 debut 27 20 on 28 21 april 29 22 1993 31 23 as 32 24 a 33 25 member 34 26 of 35 27 the 36 28 group 38 29 aurora 39 30 gonin 40 31 she 42 32 is 43 33 best 44 34 known 45 35 for 46 36 her 47 37 roles 48 38 from 49 39 the 50 40 anime 51 41 series 52 42 as 53 43 yuzuriha 54 44 nekoi 55 45 in 56 46 tsubasa 57 47 hinako 59 48 in 60 49 sister 61 50 doremi 63 51 harukaze 64 52 in 65 53 ojamajo 66 54 nanaka 68 55 kirisato 69 56 in 70 57 nanaka 71 58 wanya 73 59 in 74 60 ufo 75 61 baby 76 62 and 77 63 kyoko 78 64 kirisaki 79 65 in 80 66 black 81 67 she 83 68 announced 84 69 on 85 70 february 86 71 2013 88 72 that 89 73 she 90 74 had 91 75 gotten 92 76 filmography 95 77 television 98 78 animation 99 79 tanko 102 80 he 103 81 micah 106 82 spinner 108 83 rian 110 84 pirate 112 85 mito 113 86 hoshin 116 87 engi 117 88 kibi 119 89 aoi 120 90 a 123 91 pair 124 92 of 125 93 queens 126 94 ojamajo 129 95 doremi 130 96 doremi 132 97 harukaze 133 98 zoids 134 99 \n",
      "Disambiguation error    ['Claude Fauchet (historian)', 'Claude Fauchet (revolutionist)']\n",
      "\n",
      "\n",
      " 5 *******************   : Sistercharlie\n",
      "13 2 0 march 3 1 is 5 2 a 6 3 champion 7 4 thoroughbred 9 5 racehorse 10 6 who 11 7 won 12 8 the 13 9 2018 14 10 cup 16 11 filly 17 12 mare 19 13 turf 20 14 and 21 15 was 22 16 the 23 17 2018 24 18 champion 25 19 female 26 20 turf 27 21 she 29 22 also 30 23 won 31 24 the 32 25 prix 33 26 jenny 35 27 wiley 36 28 diana 38 29 stakes 39 30 and 41 31 beverly 42 32 stakes 44 33 background 47 34 is 50 35 a 51 36 bay 52 37 mare 53 38 \n",
      "Disambiguation error    ['Garden Grove Unified School District', 'Ethan Allen School']\n",
      "\n",
      "Disambiguation error    ['Passenger (Posmysz novel)', '\"Passengers\" (short story)', '\"The Passenger\" (short story)', 'Chris Petit', 'Cormac McCarthy', 'Arinn Dembo', 'The Passenger (Boschwitz novel)', 'The Passenger (1928 film)', 'The Passenger (1949 film)', 'Passenger (1963 film)', 'The Passenger (1975 film)', 'The Passengers (1977 film)', 'The Passenger – Welcome to Germany', 'The Passengers (1999 film)', 'Passengers (2003 film)', 'The Passenger (2005 Éric Caravaca film)', 'The Passenger (2005 François Rotger film)', 'Passengers (2008 film)', 'Passenger (2009 film)', 'Passengers (2016 film)', 'The Passenger (2021 film)', 'The Passenger (TV series)', 'Passengers (TV series)', 'Chapter 10: The Passenger', '\"The Passenger\" (Star Trek: Deep Space Nine)', '\"The Passenger\" (Westworld)', 'Tulip Olsen', 'Passenger Records', 'The Passenger (opera)', 'Passenger (singer)', 'Passenger (British band)', 'Passenger (Swedish band)', 'Tiësto discography#Singles', 'Passengers (side project)', 'Passengers (Italian band)', 'The Passengers (band)', 'Angie Pepper', 'Passenger (Lisa Hannigan album)', 'Passenger (Nico Touches the Walls album)', 'Passenger (Mnemic album)', 'Passenger (Passenger album)', 'Passenger (Tara MacLean album)', 'Passengers (Gary Burton album)', 'Passengers (soundtrack)', 'Mostly Autumn', '\"Passenger\" (Powderfinger song)', '\"The Passenger\" (song)', '\"Passengers\" (Elton John song)', 'Britney Jean', 'White Pony', 'DY', 'Bambi', 'Quiet Is the New Loud', 'DNA', 'Old', 'The Passenger (moth)', 'The Passenger (Sapphire & Steel)', 'Phusion Passenger']\n",
      "\n",
      "\n",
      " 6 *******************   : Ōmāpere\n",
      "is 1 0 a 2 1 settlement 3 2 on 4 3 the 5 4 south 6 5 shore 7 6 of 8 7 hokianga 9 8 harbour 10 9 in 11 10 new 13 11 state 15 12 highway 16 13 12 17 14 runs 18 15 through 19 16 opononi 21 17 is 22 18 on 23 19 the 24 20 shore 25 21 to 26 22 the 27 23 north 28 24 of 29 25 new 31 26 zealand 32 27 ministry 33 28 for 34 29 culture 35 30 and 36 31 heritage 37 32 gives 38 33 a 39 34 translation 40 35 of 41 36 of 43 37 cutty 44 38 for 46 39 history 49 40 european 52 41 settlement 53 42 the 55 43 first 56 44 european 57 45 settler 58 46 in 59 47 the 60 48 area 62 49 was 63 50 john 64 51 who 66 52 arrived 67 53 in 68 54 the 69 55 hokianga 70 56 harbour 71 57 in 72 58 in 74 59 1832 75 60 martin 76 61 purchased 77 62 land 78 63 on 79 64 the 80 65 flat 81 66 along 83 67 the 84 68 beach 85 69 at 86 70 in 88 71 1838 89 72 martin 90 73 extended 91 74 his 92 75 land 93 76 purchase 94 77 to 95 78 the 96 79 hokianga 97 80 south 99 81 where 101 82 he 102 83 established 103 84 a 104 85 signal 105 86 station 106 87 to 107 88 guide 108 89 ships 109 90 crossing 110 91 the 111 92 challenging 112 93 harbour 113 94 the 115 95 signal 116 96 station 117 97 remained 118 98 in 119 99 operation 120 100 until 121 101 with 123 102 permission 124 103 from 125 104 the 128 105 local 129 106 in 132 107 1838 133 108 john 134 109 whiteley 135 110 established 136 111 a 137 112 wesleyan 138 113 mission 139 114 at 140 115 on 142 116 land 143 117 purchased 144 118 with 145 119 tools 147 120 and 148 121 a 151 122 bush 152 123 licence 153 124 was 154 125 granted 155 126 to 156 127 charles 157 128 bryers 158 129 at 159 130 in 161 131 the 162 132 \n",
      "\n",
      " 7 *******************   : Mrs. Santa Claus\n",
      "santa 1 0 claus 2 1 is 3 2 a 4 3 1996 5 4 american 6 5 musical 8 6 fantasy 9 7 comedy 10 8 film 11 9 directed 12 10 by 13 11 terry 14 12 hughes 15 13 with 16 14 a 17 15 teleplay 18 16 by 19 17 mark 20 18 it 22 19 stars 23 20 angela 24 21 lansbury 25 22 in 26 23 the 27 24 title 28 25 role 29 26 and 30 27 charles 31 28 durning 32 29 as 33 30 her 34 31 santa 36 32 the 38 33 film 39 34 was 40 35 billed 41 36 as 42 37 the 43 38 first 44 39 original 45 40 musical 46 41 written 47 42 for 48 43 television 49 44 since 50 45 rodgers 51 46 and 52 47 cinderella 54 48 \n",
      "Exception error    Page id \"alex macdowell\" does not match any pages. Try another id!\n",
      "\n",
      "\n",
      " 8 *******************   : Community areas in Chicago\n",
      "the 0 0 city 1 1 of 2 2 chicago 3 3 is 4 4 divided 5 5 into 6 6 77 7 7 community 8 8 areas 9 9 for 10 10 statistical 11 11 and 12 12 planning 13 13 census 15 14 data 16 15 and 17 16 other 18 17 statistics 19 18 are 20 19 tied 21 20 to 22 21 the 23 22 which 25 23 serve 26 24 as 27 25 the 28 26 basis 29 27 for 30 28 a 31 29 variety 32 30 of 33 31 urban 34 32 planning 35 33 initiatives 36 34 on 37 35 both 38 36 the 39 37 local 40 38 and 41 39 regional 42 40 the 44 41 boundaries 46 42 do 47 43 not 48 44 generally 49 45 allowing 51 46 comparisons 52 47 of 53 48 statistics 54 49 across 55 50 the 57 51 areas 58 52 are 59 53 distinct 60 54 from 61 55 but 62 56 related 63 57 to 64 58 the 65 59 more 66 60 numerous 67 61 neighborhoods 68 62 of 69 63 an 71 64 area 72 65 often 73 66 \n",
      "\n",
      " 9 *******************   : Archibald Hood\n"
     ]
    },
    {
     "name": "stdout",
     "output_type": "stream",
     "text": [
      "archibald 0 0 hood 1 1 1823 3 2 27 5 3 october 6 4 was 8 5 a 9 6 scottish 10 7 engineer 11 8 and 12 9 coalowner 13 10 who 14 11 became 15 12 an 16 13 important 17 14 figure 18 15 in 19 16 the 20 17 industrial 21 18 growth 22 19 of 23 20 the 24 21 rhondda 25 22 the 27 23 son 28 24 of 29 25 a 30 26 colliery 31 27 hood 33 28 would 34 29 make 35 30 his 36 31 name 37 32 as 38 33 a 39 34 coalowner 40 35 of 41 36 collieries 42 37 first 43 38 in 44 39 scotland 45 40 and 46 41 later 47 42 in 48 43 llwynypia 49 44 in 50 45 south 51 46 history 54 47 early 57 48 history 58 49 hood 60 50 was 61 51 born 62 52 in 63 53 june 64 54 1823 65 55 in 66 56 his 69 57 father 70 58 was 71 59 a 72 60 colliery 73 61 his 75 62 mother 76 63 had 77 64 so 79 65 father 81 66 brought 82 67 him 83 68 up 84 69 and 86 70 he 87 71 received 88 72 little 89 73 education 90 74 aged 92 75 thirteen 93 76 he 94 77 was 95 78 employed 96 79 at 97 80 his 98 81 at 101 82 the 102 83 age 103 84 of 104 85 after 106 86 his 107 87 father 108 88 was 109 89 promoted 110 90 to 111 91 colliery 112 92 hood 114 93 was 115 94 able 116 95 to 117 96 \n",
      "Exception error    Page id \"now down mister\" does not match any pages. Try another id!\n",
      "\n",
      "\n",
      " 10 *******************   : Gloster Gauntlet\n",
      "the 0 0 gloster 1 1 gauntlet 2 2 was 3 3 a 4 4 biplane 6 5 fighter 7 6 designed 8 7 and 9 8 produced 10 9 by 11 10 the 12 11 british 13 12 aeroplane 14 13 manufacturer 15 14 gloster 16 15 aircraft 17 16 in 18 17 the 19 18 it 21 19 was 22 20 the 23 21 last 24 22 fighter 25 23 to 26 24 be 27 25 operated 28 26 by 29 27 the 30 28 royal 31 29 air 32 30 force 33 31 to 35 32 have 36 33 an 37 34 open 38 35 and 40 36 also 41 37 the 42 38 penultimate 43 39 biplane 44 40 fighter 45 41 in 46 42 its 47 43 the 49 44 gauntlet 50 45 had 51 46 a 52 47 somewhat 53 48 lengthy 54 49 development 55 50 linking 57 51 back 58 52 to 59 53 \n",
      "\n",
      " 11 *******************   : Amchitka Air Force Base\n",
      "amchitka 0 0 air 1 1 force 2 2 base 3 3 is 4 4 an 5 5 abandoned 6 6 air 7 7 force 8 8 base 9 9 located 10 10 on 11 11 in 13 12 the 14 13 rat 15 14 islands 16 15 group 17 16 of 18 17 the 19 18 aleutian 20 19 islands 21 20 in 22 21 southwest 23 22 history 26 23 aleutians 29 24 campaign 30 25 the 32 26 aleutian 33 27 islands 34 28 campaign 35 29 was 36 30 not 37 31 considered 38 32 a 39 33 priority 40 34 by 41 35 the 42 36 joint 43 37 chiefs 44 38 of 45 39 staff 46 40 in 47 41 late 48 42 british 50 43 prime 51 44 minister 52 45 churchill 53 46 stated 54 47 that 55 48 sending 56 49 forces 57 50 to 58 51 attack 59 52 the 60 53 japanese 61 54 presence 62 55 there 63 56 was 64 57 a 65 58 diversion 66 59 from 67 60 the 68 61 north 69 62 african 70 63 campaign 71 64 and 72 65 admiral 73 66 chester 74 67 nimitz 75 68 saw 76 69 it 77 70 as 78 71 a 79 72 diversion 80 73 from 81 74 his 82 75 operations 83 76 in 84 77 the 85 78 central 86 79 commanders 88 80 in 89 81 believed 92 82 the 93 83 japanese 94 84 presence 95 85 in 96 86 the 97 87 aleutians 98 88 a 99 89 threat 100 90 to 101 91 the 102 92 united 103 93 states 104 94 west 105 95 coast 106 96 and 107 97 once 108 98 the 109 99 islands 110 100 were 111 101 again 112 102 in 113 103 united 114 104 states 115 105 forward 117 106 bases 118 107 could 119 108 be 120 109 established 121 110 to 122 111 attack 123 112 japan 124 113 from 125 114 establishment 127 115 of 128 116 adak 129 117 army 130 118 airfield 131 119 name 133 120 in 135 121 august 136 122 1942 137 123 gave 138 124 the 139 125 army 141 126 air 142 127 forces 143 128 a 144 129 forward 145 130 base 146 131 from 147 132 which 148 133 to 149 134 attack 150 135 the 151 136 japanese 152 137 forces 153 138 on 154 139 kiska 155 140 amchitka 157 141 being 159 142 only 160 143 50 161 144 miles 162 145 from 163 146 kiska 164 147 and 165 148 within 166 149 range 167 150 of 168 151 occupied 169 152 attu 170 153 island 171 154 was 172 155 the 173 156 next 174 157 step 175 158 in 176 159 the 177 160 american 178 161 enough 180 162 forces 181 163 were 182 164 scraped 183 165 together 184 166 from 185 167 \n",
      "\n",
      " 12 *******************   : Ernst Jünger\n",
      "ernst 0 0 29 6 1 march 7 2 1895 8 3 17 10 4 february 11 5 was 13 6 a 14 7 german 15 8 highly 17 9 decorated 18 10 and 21 11 entomologist 22 12 who 23 13 became 24 14 publicly 25 15 known 26 16 for 27 17 his 28 18 world 29 19 war 30 20 i 31 21 memoir 32 22 storm 33 23 of 34 24 the 36 25 son 37 26 of 38 27 a 39 28 successful 40 29 businessman 41 30 and 42 31 rebelled 45 32 against 46 33 an 47 34 affluent 48 35 upbringing 49 36 and 50 37 sought 51 38 adventure 52 39 in 53 40 the 54 41 wandervogel 55 42 \n",
      "\n",
      " 13 *******************   : Mauro Galetti\n",
      "mauro 0 0 is 2 1 a 3 2 brazilian 4 3 ecologist 5 4 and 6 5 conservation 7 6 he 9 7 is 10 8 a 11 9 full 12 10 professor 13 11 in 14 12 the 15 13 department 16 14 of 17 15 ecology 18 16 at 19 17 the 20 18 universidade 21 19 estadual 22 20 rio 24 21 work 29 22 has 30 23 centered 31 24 on 32 25 the 33 26 analysis 34 27 of 35 28 the 36 29 ecological 37 30 and 38 31 evolutionary 39 32 consequences 40 33 of 41 34 he 43 35 was 44 36 awarded 45 37 \n",
      "\n",
      " 14 *******************   : 132nd Field Artillery Regiment \"Ariete\"\n",
      "the 0 0 132nd 1 1 armored 2 2 brigade 3 3 132a 6 4 brigata 7 5 corazzata 8 6 is 10 7 currently 11 8 the 12 9 only 13 10 active 14 11 armored 15 12 brigade 16 13 of 17 14 the 18 15 italian 19 16 its 21 17 core 22 18 units 23 19 are 24 20 tank 25 21 and 26 22 bersaglieri 27 23 the 29 24 headquarters 31 25 is 32 26 in 33 27 the 34 28 city 35 29 of 36 30 pordenone 37 31 and 38 32 most 39 33 of 40 34 its 41 35 units 42 36 are 43 37 based 44 38 in 45 39 the 46 40 of 48 41 the 50 42 name 52 43 comes 53 44 from 54 45 the 55 46 battering 56 47 ram 57 48 the 60 49 brigade 61 50 draws 62 51 much 63 52 of 64 53 its 65 54 historical 66 55 traditions 67 56 from 68 57 the 69 58 132nd 70 59 armored 71 60 division 72 61 which 74 62 fought 75 63 in 76 64 the 77 65 western 78 66 desert 79 67 campaign 80 68 of 81 69 world 82 70 war 83 71 in 85 72 1948 86 73 the 87 74 ariete 88 75 was 89 76 reconstituted 90 77 as 91 78 division 92 79 and 93 80 remained 94 81 active 95 82 until 96 83 today 98 84 the 99 85 brigade 100 86 is 101 87 part 102 88 \n",
      "\n",
      " 15 *******************   : 1995 Catalan regional election\n",
      "the 0 0 1995 1 1 catalan 2 2 regional 3 3 election 4 4 was 5 5 held 6 6 on 7 7 19 9 8 november 10 9 to 12 10 elect 13 11 the 14 12 5th 15 13 parliament 16 14 of 17 15 the 18 16 autonomous 19 17 community 20 18 of 21 19 all 23 20 135 24 21 seats 25 22 in 26 23 the 27 24 parliament 28 25 were 29 26 up 30 27 for 31 28 overview 34 29 electoral 37 30 system 38 31 the 40 32 parliament 41 33 of 42 34 catalonia 43 35 was 44 36 the 45 37 unicameral 47 38 legislature 48 39 of 49 40 the 50 41 autonomous 51 42 community 52 43 of 53 44 having 55 45 legislative 56 46 power 57 47 in 58 48 \n",
      "\n",
      " 16 *******************   : Raid on Chambersburg\n",
      "the 0 0 raid 1 1 on 2 2 often 4 3 identified 5 4 as 6 5 chambersburg 9 6 was 11 7 a 12 8 confederate 13 9 states 14 10 army 15 11 cavalry 16 12 raid 17 13 into 18 14 maryland 19 15 and 20 16 pennsylvania 21 17 on 22 18 october 23 19 1862 25 20 during 26 21 the 27 22 american 28 23 civil 29 24 it 31 25 became 32 26 known 33 27 as 34 28 ride 37 29 around 38 30 because 40 31 it 41 32 duplicated 42 33 reconnaissance 44 34 ride 45 35 completely 46 36 around 47 37 the 48 38 union 49 39 army 50 40 of 51 41 the 52 42 potomac 53 43 under 54 44 major 55 45 general 56 46 george 57 47 mcclellan 59 48 during 60 49 the 61 50 peninsula 63 51 mcclellan 65 52 failed 66 53 to 67 54 pursue 68 55 the 69 56 confederate 70 57 army 71 58 of 72 59 northern 73 60 virginia 74 61 commanded 75 62 by 76 63 general 77 64 robert 78 65 lee 80 66 from 81 67 maryland 82 68 to 83 69 virginia 84 70 \n",
      "Disambiguation error    ['error', 'Mistake (contract law)', 'Mistake in English contract law', 'Mistake (criminal law)', 'Mistake of law', 'Error (law)', 'Mistake Bay', 'Mistake Crag', 'Mistake Creek, Queensland', 'Mistake Peak', 'Mistake Peak (Arizona)', 'Mistake River', 'Mistake (album)', '\"Mistake\" (Moby song)', '\"Mistake\" (Stephanie McIntosh song)', '\"Mistake\" (Mike Oldfield song)', '\"Mistakes\" (Brian McFadden song)', '\"Mistakes\" (Tove Styrke song)', '\"Mistakes\" (Don Williams song)', 'The Pleasure and the Greed', 'Unbroken', 'Hoot', 'Winter Story', 'Drug Restaurant', 'Preaching Lies to the Righteous', 'Awake', 'Hearts of the Innocent', 'Mistake (1953 film)', 'Mistake (2013 film)', 'The Mistake (film)', '\"The Mistake\" (House)', 'The Mistake (disambiguation)', 'Mistaken (disambiguation)', 'Mistake Mistake Mistake Mistake', 'MST3K', 'Error (disambiguation)']\n"
     ]
    },
    {
     "name": "stdout",
     "output_type": "stream",
     "text": [
      "\n",
      "\n",
      " 17 *******************   : Bolan\n",
      "officially 1 0 the 2 1 republic 3 2 of 4 3 is 6 4 a 7 5 country 8 6 in 9 7 central 10 8 it 12 9 is 13 10 divided 14 11 into 15 12 16 16 13 administrative 17 14 provinces 18 15 called 19 16 covering 21 17 an 22 18 area 23 19 of 24 20 km2 26 21 sq 28 22 poland 30 23 has 31 24 a 32 25 population 33 26 of 34 27 over 35 28 38 36 29 million 37 30 and 38 31 is 39 32 the 40 33 populous 42 34 member 43 35 state 44 36 of 45 37 the 46 38 european 47 39 warsaw 49 40 is 50 41 the 51 42 capital 53 43 and 54 44 largest 55 45 other 57 46 major 58 47 cities 59 48 include 60 49 and 66 50 territory 69 51 extends 70 52 from 71 53 the 72 54 baltic 73 55 sea 74 56 in 75 57 the 76 58 north 77 59 to 78 60 the 79 61 sudeten 80 62 and 81 63 carpathian 82 64 mountains 83 65 in 84 66 the 85 67 the 87 68 country 88 69 is 89 70 bordered 90 71 by 91 72 lithuania 92 73 and 93 74 russia 94 75 to 95 76 the 96 77 belarus 98 78 and 99 79 ukraine 100 80 to 101 81 the 102 82 slovakia 104 83 and 105 84 the 106 85 czech 107 86 republic 108 87 to 109 88 the 110 89 and 112 90 germany 113 91 to 114 92 the 115 93 poland 117 94 also 118 95 shares 119 96 maritime 120 97 boundaries 121 98 with 122 99 denmark 123 100 and 124 101 the 126 102 history 127 103 of 128 104 human 129 105 activity 130 106 on 131 107 polish 132 108 soil 133 109 spans 134 110 thousands 135 111 of 136 112 throughout 138 113 the 139 114 late 140 115 antiquity 141 116 period 142 117 it 143 118 became 144 119 extensively 145 120 with 147 121 various 148 122 cultures 149 123 and 150 124 tribes 151 125 settling 152 126 on 153 127 the 154 128 vast 155 129 central 156 130 european 157 131 it 160 132 was 161 133 the 162 134 polans 163 135 who 164 136 dominated 165 137 the 166 138 region 167 139 and 168 140 gave 169 141 poland 170 142 its 171 143 the 173 144 establishment 174 145 of 175 146 polish 176 147 statehood 177 148 can 178 149 be 179 150 traced 180 151 to 181 152 when 183 153 the 184 154 pagan 185 155 ruler 186 156 of 187 157 a 188 158 realm 189 159 coextensive 190 160 with 191 161 the 192 162 territory 193 163 of 194 164 poland 196 165 embraced 197 166 christianity 198 167 and 199 168 converted 200 169 to 201 170 the 203 171 kingdom 204 172 of 205 173 \n",
      "\n",
      " 18 *******************   : Dashapalla\n",
      "also 1 0 known 2 1 as 3 2 is 5 3 an 6 4 archaeologically 7 5 important 8 6 site 9 7 situated 10 8 in 11 9 nayagarh 12 10 history 17 11 available 19 12 books 22 13 reveal 23 14 that 24 15 at 25 16 first 26 17 there 27 18 was 28 19 no 29 20 such 30 21 place 31 22 known 32 23 as 33 24 rather 35 25 it 36 26 was 37 27 a 38 28 part 39 29 of 40 30 boudh 41 31 state 42 32 ruled 43 33 by 44 34 bhanj 45 35 during 47 36 the 48 37 rule 49 38 of 50 39 bira 51 40 bhanj 52 41 there 53 42 was 54 43 a 55 44 rift 56 45 in 57 46 between 58 47 bira 59 48 bhanj 60 49 and 61 50 his 62 51 sal 64 52 the 66 53 dissident 67 54 sal 68 55 banj 69 56 left 70 57 boudh 71 58 and 72 59 proceeded 73 60 to 74 61 meet 75 62 the 76 63 gajapati 77 64 of 78 65 puri 79 66 through 80 67 the 81 68 ages 82 69 old 83 70 jagannath 84 71 while 86 72 resting 87 73 with 88 74 \n",
      "\n",
      " 19 *******************   : Deva Victrix\n",
      "deva 0 0 or 2 1 simply 3 2 was 5 3 a 6 4 legionary 7 5 fortress 8 6 and 9 7 town 10 8 in 11 9 the 12 10 roman 13 11 province 14 12 of 15 13 britannia 16 14 on 17 15 the 18 16 site 19 17 of 20 18 the 21 19 modern 22 20 city 23 21 of 24 22 the 26 23 fortress 27 24 was 28 25 built 29 26 by 30 27 the 31 28 legio 32 29 ii 33 30 adiutrix 34 31 in 35 32 the 36 33 70s 37 34 ad 38 35 as 39 36 the 40 37 roman 41 38 army 42 39 advanced 43 40 north 44 41 against 45 42 the 46 43 and 48 44 rebuilt 49 45 completely 50 46 over 51 47 the 52 48 next 53 49 few 54 50 decades 55 51 by 56 52 the 57 53 legio 58 54 xx 59 55 valeria 60 56 in 62 57 the 63 58 early 64 59 3rd 65 60 century 66 61 the 67 62 fortress 68 63 was 69 64 again 70 65 the 72 66 legion 73 67 probably 74 68 remained 75 69 at 76 70 the 77 71 fortress 78 72 until 79 73 the 80 74 late 81 75 4th 82 76 or 83 77 early 84 78 5th 85 79 upon 87 80 which 88 81 it 89 82 fell 90 83 into 91 84 a 93 85 civilian 94 86 or 96 87 grew 98 88 around 99 89 the 100 90 roman 103 91 of 106 92 the 107 93 is 109 94 the 110 95 military 112 96 amphitheatre 113 97 in 114 98 the 116 99 civilian 117 100 settlement 118 101 remained 119 102 after 120 103 the 121 104 romans 122 105 eventually 124 106 becoming 125 107 the 126 108 city 128 109 of 129 110 there 131 111 were 132 112 peripheral 133 113 settlements 134 114 around 135 115 roman 136 116 including 138 117 the 140 118 source 141 119 of 142 120 the 143 121 water 145 122 and 147 123 the 149 124 site 150 125 of 151 126 a 152 127 sandstone 153 128 quarry 154 129 and 155 130 the 158 131 shrine 159 132 is 160 133 the 161 134 only 162 135 in 163 136 roman 166 137 shrine 167 138 in 168 139 great 169 140 the 171 141 fortress 172 142 contained 173 143 military 177 144 and 179 145 an 180 146 unusual 181 147 elliptical 182 148 building 183 149 which 184 150 had 185 151 it 186 152 been 187 153 finished 188 154 may 189 155 have 190 156 been 191 157 intended 192 158 to 193 159 act 194 160 as 195 161 [82, 74, 117, 72, 100, 39, 133, 49, 67, 97, 54, 168, 43, 38, 89, 49, 71, 174, 75, 162]\n",
      "[82, 156, 273, 345, 445, 484, 617, 666, 733, 830, 884, 1052, 1095, 1133, 1222, 1271, 1342, 1516, 1591]\n",
      "(0, 100)\n",
      "\n",
      "\n",
      " 0 *******************   : Theodore Robinson\n",
      "theodore 0 0 robinson 1 1 1852 4 2 april 6 3 was 9 4 an 10 5 american 11 6 painter 12 7 best 13 8 known 14 9 for 15 10 his 16 11 impressionist 17 12 he 19 13 was 20 14 one 21 15 of 22 16 the 23 17 first 24 18 american 25 19 artists 26 20 to 27 21 take 28 22 up 29 23 impressionism 30 24 in 31 25 the 32 26 late 33 27 visiting 35 28 giverny 36 29 and 37 30 developing 38 31 a 39 32 close 40 33 friendship 41 34 with 42 35 claude 43 36 several 45 37 of 46 38 his 47 39 works 48 40 are 49 41 considered 50 42 masterpieces 51 43 of 52 44 american 53 45 training 56 46 and 57 47 early 58 48 career 59 49 robinson 61 50 was 62 51 born 63 52 in 64 53 his 67 54 family 68 55 moved 69 56 to 70 57 and 73 58 robinson 74 59 briefly 75 60 studied 76 61 art 77 62 in 78 63 in 80 64 1874 81 65 he 82 66 journeyed 83 67 to 84 68 new 85 69 york 86 70 city 87 71 to 88 72 attend 89 73 classes 90 74 at 91 75 the 92 76 national 93 77 academy 94 78 of 95 79 design 96 80 and 97 81 the 98 82 art 99 83 students 100 84 1876 102 85 he 103 86 traveled 104 87 to 105 88 paris 106 89 to 107 90 study 108 91 under 109 92 and 111 93 at 112 94 the 113 95 des 115 96 with 117 97 he 120 98 first 121 99 exhibited 122 100 his 123 101 paintings 124 102 at 125 103 the 126 104 1877 127 105 salon 128 106 in 129 107 and 131 108 spent 132 109 the 133 110 summer 134 111 of 135 112 that 136 113 year 137 114 at 138 115 after 140 116 trips 141 117 to 142 118 venice 143 119 and 144 120 he 146 121 returned 147 122 to 148 123 the 149 124 united 150 125 states 151 126 in 152 127 1879 153 128 for 154 129 several 155 130 in 157 131 1881 158 132 he 159 133 moved 160 134 into 161 135 a 162 136 studio 163 137 in 164 138 new 165 139 york 166 140 and 167 141 became 168 142 a 169 143 professional 170 144 \n",
      "\n",
      " 1 *******************   : Dean Leacock\n",
      "dean 0 0 leacock 1 1 10 3 2 june 4 3 is 6 4 an 7 5 english 8 6 professional 9 7 footballer 10 8 who 11 9 plays 12 10 for 13 11 lowestoft 14 12 he 16 13 is 17 14 primarily 18 15 a 19 16 but 21 17 he 22 18 can 23 19 also 24 20 play 25 21 as 26 22 a 27 23 right 28 24 back 29 25 or 30 26 a 31 27 defensive 32 28 career 35 29 fulham 38 30 born 40 31 in 41 32 leacock 44 33 signed 45 34 his 46 35 first 47 36 professional 48 37 contract 49 38 on 50 39 a 51 40 at 54 41 the 55 42 he 57 43 was 58 44 known 59 45 as 60 46 an 61 47 central 63 48 tipped 65 49 by 66 50 many 67 51 to 68 52 become 69 53 the 70 54 new 71 55 rio 72 56 leacock 74 57 made 75 58 his 76 59 professional 77 60 debut 78 61 as 79 62 an 80 63 for 82 64 fulham 83 65 in 84 66 a 85 67 league 86 68 cup 87 69 defeat 88 70 against 89 71 wigan 90 72 athletic 91 73 on 92 74 4 93 75 december 94 76 after 96 77 playing 97 78 in 98 79 another 99 80 league 100 81 cup 101 82 \n",
      "\n",
      " 2 *******************   : Marichi\n"
     ]
    },
    {
     "name": "stdout",
     "output_type": "stream",
     "text": [
      "mariachi 0 0 is 7 1 a 8 2 genre 9 3 of 10 4 regional 11 5 mexican 12 6 music 13 7 that 14 8 dates 15 9 back 16 10 to 17 11 at 18 12 least 19 13 the 20 14 18th 21 15 evolving 23 16 over 24 17 time 25 18 in 26 19 the 27 20 countryside 28 21 of 29 22 various 30 23 regions 31 24 of 32 25 western 33 26 the 35 27 usual 36 28 mariachi 37 29 group 38 30 today 39 31 consists 40 32 of 41 33 as 42 34 many 43 35 as 44 36 eight 45 37 two 47 38 trumpets 48 39 and 49 40 at 50 41 least 51 42 one 52 43 including 54 44 a 55 45 vihuela 57 46 and 58 47 an 59 48 acoustic 60 49 bass 61 50 guitar 62 51 called 63 52 a 64 53 and 66 54 all 67 55 players 68 56 taking 69 57 turns 70 58 singing 71 59 lead 72 60 and 73 61 doing 74 62 backup 75 63 from 77 64 the 78 65 19th 79 66 to 80 67 20th 81 68 migrations 83 69 from 84 70 rural 85 71 areas 86 72 into 87 73 along 89 74 with 90 75 the 91 76 mexican 92 77 cultural 94 78 promotion 95 79 gradually 96 80 it 98 81 as 99 82 son 100 83 with 102 84 its 103 85 alternative 104 86 name 105 87 of 106 88 mariachi 107 89 becoming 108 90 used 109 91 for 110 92 the 111 93 modifications 114 94 of 115 95 the 116 96 music 117 97 include 118 98 influences 119 99 from 120 100 other 121 101 music 122 102 such 123 103 as 124 104 polkas 125 105 and 126 106 \n",
      "Disambiguation error    ['Jamiat Ulema-e-Islam', 'Rui (state)', 'Rui (surname)', 'Ngadjuri language', 'Dhakti Jui']\n",
      "\n",
      "Exception error    Page id \"h magazine\" does not match any pages. Try another id!\n",
      "\n",
      "\n",
      " 3 *******************   : 1972 in the environment\n",
      "this 0 0 is 1 1 a 2 2 list 3 3 of 4 4 notable 5 5 events 6 6 relating 7 7 to 8 8 the 9 9 environment 10 10 in 11 11 they 13 12 relate 14 13 to 15 14 environmental 16 15 environmentalism 19 16 and 20 17 environmental 21 18 events 24 19 the 26 20 limits 27 21 to 28 22 growth 29 23 is 30 24 the 32 25 book 33 26 is 34 27 about 35 28 the 36 29 computer 37 30 modelling 38 31 of 39 32 unchecked 40 33 economic 41 34 and 42 35 population 43 36 growth 44 37 with 45 38 \n",
      "Disambiguation error    ['Mark Rose (politician)', 'Spitalfield']\n",
      "\n",
      "\n",
      " 4 *******************   : Bill Jones (artist)\n",
      "bill 0 0 jones 1 1 is 2 2 a 3 3 installation 5 4 performer 7 5 and 8 6 writer 9 7 living 10 8 in 11 9 his 14 10 work 15 11 is 16 12 concerned 17 13 with 18 14 light 19 15 as 20 16 both 21 17 a 22 18 physical 23 19 phenomenon 24 20 and 25 21 metaphorical 26 22 jones 28 23 was 29 24 part 30 25 of 31 26 the 32 27 vancouver 33 28 school 34 29 of 35 30 conceptual 36 31 along 38 32 with 39 33 such 40 34 artists 41 35 as 42 36 rodney 43 37 ian 45 38 wallace 46 39 and 47 40 jeff 48 41 jones 50 42 has 51 43 three 52 44 his 54 45 youngest 55 46 daughter 56 47 new 58 48 video 61 49 artist 62 50 ardele 63 51 is 65 52 actress 66 53 and 67 54 screenwriter 68 55 zoe 69 56 he 71 57 is 72 58 married 73 59 to 74 60 visual 75 61 artist 76 62 and 77 63 writer 78 64 joy 79 65 biography 82 66 bill 84 67 work 86 68 has 87 69 been 88 70 shown 89 71 \n",
      "\n",
      " 5 *******************   : Dorothy Whitelock\n",
      "dorothy 0 0 november 3 1 1901 4 2 14 6 3 august 7 4 was 9 5 an 10 6 english 11 7 from 13 8 1957 14 9 to 15 10 she 17 11 was 18 12 the 19 13 elrington 20 14 and 21 15 bosworth 22 16 professor 23 17 of 24 18 at 26 19 the 27 20 university 28 21 of 29 22 her 31 23 work 33 24 is 34 25 english 35 26 historical 36 27 which 42 28 she 43 29 it 45 30 is 46 31 a 47 32 compilation 48 33 of 49 34 translated 50 35 with 52 36 her 54 37 other 55 38 works 56 39 include 57 40 the 58 41 beginnings 59 42 of 60 43 english 61 44 society 62 45 after 64 46 bede 65 47 the 67 48 audience 68 49 of 69 50 beowulf 70 51 and 72 52 genuine 73 53 asser 74 54 in 76 55 which 77 56 she 78 57 argued 79 58 against 80 59 assertion 83 60 that 84 61 life 86 62 of 87 63 king 88 64 alfred 89 65 was 90 66 a 91 67 forgery 92 68 by 93 69 early 96 70 life 97 71 whitelock 99 72 \n",
      "\n",
      " 6 *******************   : Axes\n",
      "a 0 0 tax 1 1 is 2 2 a 3 3 compulsory 4 4 financial 5 5 charge 6 6 or 7 7 some 8 8 other 9 9 type 10 10 of 11 11 levy 12 12 imposed 13 13 on 14 14 a 15 15 taxpayer 16 16 individual 18 17 or 19 18 legal 20 19 by 22 20 a 23 21 governmental 24 22 organization 25 23 in 26 24 order 27 25 to 28 26 fund 29 27 government 30 28 spending 31 29 and 32 30 various 33 31 public 34 32 expenditures 35 33 or 38 34 and 40 35 tax 41 36 compliance 42 37 refers 43 38 to 44 39 policy 45 40 actions 46 41 and 47 42 individual 48 43 behaviour 49 44 aimed 50 45 at 51 46 ensuring 52 47 that 53 48 taxpayers 54 49 are 55 50 paying 56 51 the 57 52 right 58 53 amount 59 54 of 60 55 tax 61 56 at 62 57 \n",
      "\n",
      " 7 *******************   : Operations management for services\n",
      "operations 0 0 management 1 1 for 2 2 services 3 3 has 4 4 the 5 5 functional 6 6 responsibility 7 7 for 8 8 producing 9 9 the 10 10 services 11 11 of 12 12 an 13 13 organization 14 14 and 15 15 providing 16 16 them 17 17 directly 18 18 to 19 19 its 20 20 it 23 21 specifically 24 22 deals 25 23 with 26 24 decisions 27 25 required 28 26 by 29 27 operations 30 28 \n",
      "Exception error    Page id \"jan sky\" does not match any pages. Try another id!\n",
      "\n",
      "\n",
      " 8 *******************   : Radio 10 (Netherlands)\n",
      "radio 0 0 10 1 1 radio 4 2 10 5 3 gold 6 4 and 7 5 radio 8 6 10 9 7 is 11 8 a 12 9 dutch 13 10 commercial 14 11 radio 15 12 station 16 13 that 17 14 mostly 18 15 focuses 19 16 on 20 17 songs 21 18 from 22 19 the 23 20 1970s 24 21 to 25 22 with 27 23 a 28 24 moderate 29 25 amount 30 26 of 31 27 and 33 28 it 36 29 is 37 30 one 38 31 of 39 32 the 40 33 still 42 34 commercial 44 35 radio 45 36 stations 46 37 of 47 38 the 48 39 history 51 40 radio 54 41 10 55 42 on 58 43 4 59 44 april 60 45 the 62 46 station 63 47 started 64 48 broadcasting 65 49 under 66 50 the 67 51 same 68 52 name 69 53 radio 70 54 radio 72 55 10 73 56 was 74 57 an 75 58 initiative 76 59 of 77 60 former 78 61 vara 79 62 dj 80 63 jeroen 81 64 commercial 83 65 radio 84 66 in 85 67 the 86 68 netherlands 87 69 was 88 70 still 89 71 not 90 72 but 92 73 they 93 74 bypassed 94 75 that 95 76 with 96 77 the 97 78 using 101 79 the 102 80 possibility 103 81 that 104 82 commercial 105 83 stations 106 84 from 107 85 abroad 108 86 were 109 87 allowed 110 88 on 111 89 the 112 90 dutch 113 91 cable 114 92 and 115 93 radio 116 94 10 117 95 passed 118 96 the 119 97 programs 121 98 via 122 99 satellite 123 100 to 124 101 radio 126 102 10 127 103 was 128 104 officially 129 105 an 130 106 italian 131 107 station 132 108 of 133 109 the 134 110 company 135 111 rete 136 112 with 138 113 an 139 114 fm 140 115 frequency 141 116 in 144 117 this 146 118 was 147 119 allowed 148 120 under 149 121 the 150 122 applying 152 123 to 153 124 satellite 154 125 and 155 126 cable 156 127 via 158 128 an 159 129 uplink 160 130 station 161 131 in 162 132 belgium 163 133 by 164 134 the 165 135 subscriber 166 136 television 167 137 channel 168 138 filmnet 169 139 the 170 140 signal 171 141 was 172 142 sent 173 143 to 174 144 the 175 145 dutch 176 146 cable 177 147 with 179 148 this 180 149 there 182 150 were 183 151 some 184 152 italian 185 153 jingles 186 154 \n",
      "Exception error    Page id \"haripur south\" does not match any pages. Try another id!\n",
      "\n",
      "\n",
      " 9 *******************   : Herbert H. Lehman High School\n",
      "herbert 0 0 lehman 2 1 high 3 2 school 4 3 is 5 4 a 6 5 public 7 6 high 8 7 school 9 8 at 10 9 3000 11 10 east 12 11 tremont 13 12 in 15 13 the 16 14 westchester 17 15 square 18 16 section 19 17 of 20 18 the 21 19 new 23 20 york 24 21 the 26 22 school 27 23 is 28 24 named 29 25 after 30 26 \n",
      "Disambiguation error    ['First MicroFinance Bank-Afghanistan', 'First MicroFinance Bank-Pakistan', 'First MicroFinance Bank-Tajikistan']\n",
      "\n",
      "\n",
      " 10 *******************   : Riverside Historic District\n"
     ]
    },
    {
     "name": "stdout",
     "output_type": "stream",
     "text": [
      "riverside 0 0 and 1 1 avondale 2 2 are 3 3 two 4 4 adjacent 5 5 and 6 6 closely 7 7 associated 8 8 alternatively 10 9 considered 11 10 one 12 11 continuous 13 12 of 15 13 the 18 14 area 19 15 is 20 16 primarily 21 17 but 23 18 includes 24 19 some 25 20 commercial 26 21 including 28 22 five 29 23 the 31 24 king 32 25 street 33 26 and 35 27 the 36 28 shoppes 37 29 of 38 30 riverside 40 31 was 41 32 first 42 33 platted 43 34 in 44 35 1868 45 36 and 46 37 was 47 38 annexed 48 39 by 49 40 jacksonville 50 41 in 51 42 its 53 43 greatest 54 44 growth 55 45 occurred 56 46 between 57 47 the 58 48 great 59 49 fire 60 50 \n",
      "\n",
      " 11 *******************   : Mercy Mission\n",
      "mercy 0 0 mission 1 1 is 2 2 a 3 3 organization 5 4 founded 6 5 by 7 6 chowdhury 10 7 through 11 8 its 12 9 first 13 10 program 14 11 alkauthar 16 12 institute 17 13 in 18 14 it 20 15 focuses 21 16 on 22 17 supporting 23 18 muslims 24 19 around 25 20 the 26 21 world 27 22 to 28 23 return 29 24 to 30 25 their 31 26 faith 32 27 and 33 28 help 34 29 them 35 30 build 36 31 exemplary 37 32 islamic 38 33 communities 39 34 in 40 35 order 41 36 to 42 37 fulfill 43 38 the 44 39 greater 45 40 goal 46 41 of 47 42 benefiting 48 43 history 51 44 mercy 53 45 mission 54 46 was 55 47 founded 56 48 with 57 49 a 58 50 and 61 51 it 63 52 was 64 53 firstly 65 54 started 66 55 in 67 56 australia 68 57 and 69 58 subsequently 70 59 spread 71 60 to 72 61 the 73 62 south 75 63 bangladesh 80 64 and 81 65 currently 83 66 it 84 67 has 85 68 over 86 69 twenty 87 70 projects 88 71 worldwide 89 72 mainly 90 73 divided 91 74 into 92 75 education 93 76 and 94 77 social 95 78 service 96 79 benefiting 97 80 thousands 98 81 of 99 82 since 101 83 launching 102 84 in 103 85 2006 104 86 mercy 105 87 mission 106 88 has 107 89 been 108 90 working 109 91 on 110 92 placing 111 93 domestic 112 94 poverty 113 95 firmly 114 96 on 115 97 the 116 98 agenda 117 99 of 118 100 the 119 101 muslim 120 102 reminding 122 103 muslims 123 104 of 124 105 the 125 106 prophetic 126 107 way 127 108 to 128 109 pay 129 110 their 130 111 since 132 112 it 133 113 believes 134 114 zakat 135 115 as 136 116 \n",
      "\n",
      " 12 *******************   : John Glassco Translation Prize\n",
      "the 0 0 john 1 1 glassco 2 2 translation 3 3 prize 4 4 is 5 5 an 6 6 annual 7 7 canadian 8 8 literary 9 9 presented 11 10 by 12 11 the 13 12 literary 14 13 association 16 14 of 17 15 canada 18 16 to 19 17 a 20 18 book 21 19 judged 22 20 the 23 21 best 25 22 translation 26 23 into 27 24 either 28 25 english 29 26 or 30 27 french 31 28 of 32 29 a 33 30 work 34 31 originally 35 32 written 36 33 in 37 34 any 38 35 the 40 36 winning 41 37 writer 42 38 is 43 39 awarded 44 40 and 46 41 a 47 42 free 48 43 membership 49 44 to 50 45 winners 53 46 1982 55 47 susanne 57 48 de 58 49 neons 60 50 in 61 51 the 62 52 night 63 53 selected 66 54 1983 68 55 venet 71 56 and 72 57 jean 73 58 du 76 59 canada 77 60 the 80 61 invasion 81 62 of 82 63 canada 83 64 and 84 65 flames 85 66 across 86 67 the 87 68 1984 89 69 barbara 91 70 description 93 71 of 94 72 san 95 73 marco 96 74 de 100 75 san 101 76 1985 103 77 wayne 105 78 christopher 107 79 cartier 108 80 of 109 81 also 111 82 known 112 83 as 113 84 bear 114 85 christophe 117 86 cartier 118 87 de 119 88 la 120 89 noisette 121 90 dit 122 91 1986 124 92 carole 126 93 on 128 94 meurt 130 95 pas 131 96 unpublished 134 97 1987 136 98 hopes 140 99 and 141 100 the 143 101 diary 144 102 of 145 103 henriette 146 104 dessaulles 147 105 journal 152 106 dessaulles 154 107 1988 156 108 heather 158 109 juliette 160 110 juliette 163 111 1989 165 112 charlotte 167 113 shakespeare 169 114 et 170 115 son 171 116 northrop 175 117 frye 176 118 on 177 119 honourable 179 120 mention 180 121 donald 182 122 rose 184 123 and 185 124 selected 187 125 poems 188 126 of 189 127 roland 190 128 selected 194 129 1990 196 130 daniel 198 131 cocori 200 132 1991 203 133 matt 205 134 the 207 135 secret 208 136 voice 209 137 le 212 138 1992 214 139 bruno 216 140 no 218 141 le 220 142 the 225 143 \n",
      "\n",
      " 13 *******************   : Tartt\n",
      "tartu 0 0 is 4 1 the 5 2 city 7 3 in 8 4 estonia 9 5 after 10 6 the 11 7 political 12 8 and 13 9 financial 14 10 it 17 11 is 18 12 186 19 13 kilometres 20 14 southeast 23 15 of 24 16 tallinn 25 17 and 26 18 245 27 19 kilometres 28 20 northeast 31 21 of 32 22 the 34 23 capital 35 24 of 36 25 tartu 38 26 lies 39 27 on 40 28 the 41 29 which 44 30 connects 45 31 the 46 32 two 47 33 largest 48 34 lakes 49 35 in 50 36 lake 52 37 and 54 38 lake 55 39 the 57 40 city 58 41 is 59 42 served 60 43 by 61 44 tartu 62 45 the 65 46 largest 66 47 urban 67 48 centre 68 49 of 69 50 southern 70 51 is 72 52 often 73 53 considered 74 54 the 75 55 capital 77 56 of 79 57 \n",
      "\n",
      " 14 *******************   : Thomas Moonlight\n",
      "thomas 0 0 moonlight 1 1 1833 4 2 february 6 3 was 9 4 a 10 5 united 11 6 states 12 7 politician 13 8 and 14 9 moonlight 16 10 served 17 11 as 18 12 governor 19 13 of 20 14 wyoming 21 15 territory 22 16 from 23 17 1887 24 18 to 25 19 birth 28 20 moonlight 30 21 was 31 22 born 32 23 in 33 24 he 36 25 was 37 26 baptized 38 27 on 39 28 30 40 29 september 41 30 1833 42 31 in 43 32 st 44 33 scotland 47 34 with 48 35 birth 49 36 \n",
      "\n",
      " 15 *******************   : Rashied Ali\n",
      "rashied 0 0 born 2 1 robert 3 2 patterson 4 3 1933 7 4 august 9 5 was 12 6 an 13 7 american 14 8 free 15 9 jazz 16 10 and 17 11 drummer 19 12 best 20 13 known 21 14 for 22 15 playing 23 16 with 24 17 john 25 18 coltrane 26 19 in 27 20 the 28 21 last 29 22 years 30 23 of 31 24 biography 35 25 early 38 26 life 39 27 patterson 41 28 was 42 29 born 43 30 and 44 31 raised 45 32 in 46 33 his 49 34 family 50 35 was 51 36 his 53 37 mother 54 38 sang 55 39 with 56 40 jimmie 57 41 his 59 42 muhammad 61 43 is 63 44 also 64 45 a 65 46 who 67 47 played 68 48 with 69 49 albert 70 50 his 73 51 and 75 52 his 76 53 father 77 54 converted 78 55 to 79 56 off 81 57 as 82 58 a 83 59 pianist 84 60 he 85 61 eventually 86 62 took 87 63 up 88 64 the 89 65 via 91 66 trumpet 92 67 and 93 68 he 95 69 joined 96 70 the 97 71 united 98 72 states 99 73 army 100 74 and 101 75 played 102 76 with 103 77 military 104 78 bands 105 79 during 106 80 the 107 81 korean 108 82 after 110 83 his 111 84 military 112 85 he 114 86 returned 115 87 home 116 88 and 117 89 studied 118 90 with 119 91 philly 120 92 joe 121 93 then 123 94 toured 124 95 with 125 96 sonny 126 97 career 129 98 ali 131 99 moved 132 100 to 133 101 new 134 102 york 135 103 in 136 104 1963 137 105 and 138 106 worked 139 107 in 140 108 groups 141 109 with 142 110 bill 143 111 dixon 144 112 and 145 113 paul 146 114 171 148 115 he 149 116 was 150 117 scheduled 151 118 to 152 119 be 153 120 the 154 121 second 155 122 drummer 156 123 alongside 157 124 elvin 158 125 jones 159 126 on 160 127 john 161 128 free 163 129 jazz 164 130 album 165 131 but 167 132 he 168 133 dropped 169 134 out 170 135 just 171 136 before 172 137 the 173 138 recording 174 139 was 175 140 to 176 141 take 177 142 coltrane 179 143 did 180 144 not 181 145 replace 182 146 him 183 147 and 184 148 settled 185 149 for 186 150 one 187 151 \n",
      "\n",
      " 16 *******************   : Bob Weston (guitarist)\n",
      "robert 0 0 joseph 1 1 weston 2 2 november 4 3 1947 5 4 3 8 5 january 9 6 was 11 7 a 12 8 british 13 9 rock 14 10 who 16 11 was 17 12 a 18 13 member 19 14 of 20 15 fleetwood 21 16 mac 22 17 in 23 18 the 24 19 early 25 20 he 27 21 also 28 22 recorded 29 23 and 30 24 performed 31 25 with 32 26 a 33 27 number 34 28 of 35 29 other 36 30 including 38 31 graham 39 32 long 41 33 john 42 34 murray 44 35 sandy 46 36 and 48 37 danny 49 38 early 52 39 life 53 40 and 54 41 career 55 42 weston 57 43 was 58 44 born 59 45 in 60 46 plymouth 61 47 in 62 48 the 63 49 county 64 50 of 65 51 devon 66 52 on 67 53 1 68 54 november 69 55 to 71 56 a 72 57 royal 73 58 navy 74 59 service 75 60 in 77 61 his 78 62 childhood 79 63 he 80 64 learned 81 65 to 82 66 play 83 67 the 84 68 switching 86 69 to 87 70 the 88 71 guitar 89 72 at 90 73 the 91 74 age 92 75 of 93 76 being 95 77 influenced 96 78 by 97 79 the 98 80 music 99 81 of 100 82 american 101 83 blues 102 84 artists 103 85 such 104 86 as 105 87 john 106 88 \n",
      "\n",
      " 17 *******************   : Bowsette\n"
     ]
    },
    {
     "name": "stdout",
     "output_type": "stream",
     "text": [
      "or 3 0 is 12 1 a 13 2 moe 15 3 anthropomorphized 16 4 and 17 5 version 19 6 of 20 7 the 21 8 mario 22 9 franchise 23 10 character 24 11 in 26 12 which 27 13 he 28 14 is 29 15 transformed 30 16 by 31 17 the 32 18 super 33 19 crown 34 20 power 35 21 up 36 22 to 37 23 resemble 38 24 the 39 25 franchise 40 26 character 41 27 princess 42 28 the 44 29 character 45 30 was 46 31 originally 47 32 created 48 33 on 49 34 19 50 35 september 51 36 \n",
      "\n",
      " 18 *******************   : VCU Rams baseball\n",
      "vcu 0 0 rams 1 1 baseball 2 2 represents 3 3 virginia 4 4 commonwealth 5 5 university 6 6 in 7 7 all 8 8 ncaa 9 9 division 10 10 i 11 11 baseball 12 12 this 14 13 established 16 14 in 17 15 is 19 16 a 20 17 member 21 18 of 22 19 the 23 20 atlantic 24 21 10 25 22 the 27 23 rams 28 24 possess 29 25 an 30 26 record 32 27 with 33 28 a 34 29 record 36 30 the 39 31 head 40 32 coach 41 33 for 42 34 the 43 35 rams 44 36 is 45 37 bradley 46 38 significant 48 39 past 49 40 events 50 41 first 52 42 place 53 43 caa 54 44 finishes 55 45 in 56 46 2010 66 47 caa 67 48 tournament 68 49 8 70 50 ncaa 71 51 tournament 72 52 appearances 73 53 since 74 54 and 76 55 an 77 56 average 78 57 of 79 58 30 80 59 or 81 60 more 82 61 wins 83 62 game 85 63 in 87 64 each 88 65 of 89 66 the 90 67 past 91 68 11 92 69 accomplishments 95 70 in 97 71 vcu 99 72 went 100 73 for 102 74 its 103 75 first 104 76 winning 105 77 season 106 78 in 107 79 school 108 80 the 110 81 next 111 82 the 113 83 rams 114 84 made 115 85 their 116 86 first 117 87 ncaa 118 88 regional 119 89 11 121 90 ncaa 122 91 regionals 123 92 1 124 93 ncaa 125 94 super 126 95 regional 127 96 24 128 97 honorees 130 98 16 131 99 5 133 100 caa 134 101 championships 135 102 1 136 103 championshipin 138 104 45th 141 105 year 142 106 of 143 107 the 145 108 rams 146 109 had 147 110 their 148 111 banner 149 112 led 151 113 by 152 114 shawn 153 115 stiffler 154 116 in 155 117 his 156 118 third 157 119 season 158 120 as 159 121 head 160 122 the 162 123 team 163 124 at 164 125 one 165 126 point 166 127 was 167 128 going 169 129 into 170 130 their 171 131 last 172 132 two 173 133 conference 174 134 weekends 175 135 with 176 136 playoff 177 137 hopes 178 138 diminishing 179 139 if 180 140 they 181 141 turn 183 142 \n",
      "\n",
      " 19 *******************   : Era Records\n",
      "the 0 0 open 1 1 era 2 2 is 3 3 the 4 4 current 5 5 era 6 6 of 7 7 professional 8 8 it 10 9 began 11 10 in 12 11 1968 13 12 when 14 13 the 15 14 grand 16 15 slam 17 16 tournaments 18 17 allowed 19 18 professional 20 19 players 21 20 to 22 21 compete 23 22 with 24 23 ending 26 24 the 27 25 division 28 26 that 29 27 had 30 28 persisted 31 29 since 32 30 the 33 31 dawn 34 32 of 35 33 the 36 34 sport 37 35 in 38 36 the 39 37 19th 40 38 the 42 39 first 43 40 open 44 41 tournament 45 42 was 46 43 the 47 44 1968 48 45 british 49 46 hard 50 47 court 51 48 championships 52 49 held 53 50 in 54 51 followed 56 52 by 57 53 the 58 54 inaugural 59 55 open 60 56 grand 61 57 slam 62 58 the 64 59 1968 65 60 french 66 61 a 68 62 month 69 63 unless 71 64 otherwise 72 65 all 74 66 records 75 67 are 76 68 based 77 69 on 78 70 data 79 71 from 80 72 the 81 73 association 82 74 of 83 75 tennis 84 76 professionals 85 77 the 87 78 international 88 79 tennis 89 80 federation 90 81 and 92 82 the 93 83 official 94 84 websites 95 85 of 96 86 the 97 87 four 98 88 grand 99 89 slam 100 90 all 102 91 records 104 92 are 105 93 based 106 94 on 107 95 atp 108 96 which 110 97 began 111 98 in 112 99 the 114 100 names 115 101 of 116 102 active 117 103 players 118 104 appear 119 105 in 120 106 grand 123 107 slam 124 108 tournaments 125 109 career 128 110 totals 129 111 updated 131 112 as 132 113 of 133 114 2022 134 115 where 136 116 there 137 117 are 138 118 multiple 139 119 entries 140 120 for 141 121 the 142 122 same 143 123 entrants 145 124 are 146 125 ranked 147 126 on 148 127 the 149 128 basis 150 129 of 151 130 who 152 131 achieved 153 132 the 154 133 record 155 134 in 156 135 chronological 157 136 matches 160 137 grand 163 138 slam 164 139 achievements 165 140 calendar 168 141 year 169 142 grand 170 143 slam 171 144 year 175 145 grand 176 146 slam 177 147 career 180 148 grand 181 149 slam 182 150 at 185 151 each 186 152 grand 187 153 slam 188 154 tournament 189 155 totals 190 156 season 193 157 [145, 83, 107, 39, 72, 73, 58, 29, 155, 27, 51, 117, 144, 58, 37, 152, 89, 37, 143, 158]\n",
      "[145, 228, 335, 374, 446, 519, 577, 606, 761, 788, 839, 956, 1100, 1158, 1195, 1347, 1436, 1473, 1616]\n"
     ]
    }
   ],
   "source": [
    "for nar_count in range(8):\n",
    "    vectorDim = 100\n",
    "    inputDataTesting = np.empty((0,vectorDim))\n",
    "    print(inputDataTesting.shape)\n",
    "    inputDataText = []\n",
    "    # here we create text and embedding files with \n",
    "    # num_event events or paragraphs, of event_size words, with vari_size variability\n",
    "    ground_truth = []\n",
    "    num_events = 20\n",
    "    event_size= 25\n",
    "    vari_size = 150\n",
    "\n",
    "    event_count = 0\n",
    "\n",
    "    while event_count < num_events:\n",
    "        # get a random page from wikipedia\n",
    "        item = wikipedia.random(pages=1)\n",
    "        # print(item)\n",
    "        try:\n",
    "            wiki = wikipedia.page(item)# Extract the plain text content of the page\n",
    "            text = wiki.content.split()\n",
    "        except wikipedia.exceptions.DisambiguationError as e:\n",
    "            print(\"\\nDisambiguation error   \", e.options)\n",
    "            text=[]\n",
    "        except wikipedia.exceptions.PageError as e:\n",
    "            print(\"\\nException error   \",e)\n",
    "            text=[]\n",
    "\n",
    "\n",
    "        if remove_stop_words:    \n",
    "            # remove stop words from word list\n",
    "            stop_words = stopwords.words('english')\n",
    "            #print(stop_words)\n",
    "            for stop_word in stop_words:\n",
    "                while stop_word in text :\n",
    "                    text.remove(stop_word)\n",
    "\n",
    "        if len(text) > 500:\n",
    "            print(\"\\n\\n\", event_count, \"*******************   :\", item)\n",
    "            #print(\"    \",text)\n",
    "            #get rid of upper case\n",
    "            text = [s.replace(s, s.lower()) for s in text]\n",
    "\n",
    "            #now we will get the right number of words for a paragraph/event that are wiki2vec legal        \n",
    "            count = 0\n",
    "            num = 0\n",
    "            rand_temp = random.randint(0,vari_size)\n",
    "            ground_truth.append(int(event_size + rand_temp))\n",
    "            while count < event_size + rand_temp:\n",
    "                if wiki2vec.get_word(text[num]) and all(ord(char) < 128 for char in text[num]):\n",
    "                    inputDataTesting = np.append(inputDataTesting, np.array([wiki2vec.get_word_vector(text[num])]), axis=0)\n",
    "                    inputDataText.append(text[num]) \n",
    "                    print(text[num], num, count, end = ' ')\n",
    "                    count = count + 1\n",
    "                num = num+1\n",
    "            event_count = event_count + 1\n",
    "\n",
    "    ground_truth_sums = []\n",
    "    ground_truth_sums.append(ground_truth[0])\n",
    "    for i in range(1,len(ground_truth)-1):\n",
    "        ground_truth_sums.append(int(ground_truth_sums[i-1]+ground_truth[i]))\n",
    "    print(ground_truth)\n",
    "    print(ground_truth_sums)\n",
    "\n",
    "    np.save(\"syn_nar_texts/syn_narr_gt_%d.npy\" % (nar_count),ground_truth_sums)\n",
    "    np.save(\"syn_nar_texts/syn_narr_%d.npy\" % (nar_count),inputDataTesting)\n",
    "    with open(\"syn_nar_texts/syn_txt_%d.json\" % (nar_count), 'w') as f:\n",
    "    # indent=2 is not needed but makes the file human-readable \n",
    "    # if the data is nested\n",
    "        json.dump(inputDataText, f, indent=2) "
   ]
  },
  {
   "cell_type": "code",
   "execution_count": 16,
   "metadata": {},
   "outputs": [
    {
     "ename": "NameError",
     "evalue": "name 'block' is not defined",
     "output_type": "error",
     "traceback": [
      "\u001b[1;31m---------------------------------------------------------------------------\u001b[0m",
      "\u001b[1;31mNameError\u001b[0m                                 Traceback (most recent call last)",
      "\u001b[1;32m<ipython-input-16-5fcbd1e0e617>\u001b[0m in \u001b[0;36m<module>\u001b[1;34m\u001b[0m\n\u001b[1;32m----> 1\u001b[1;33m \u001b[0mblock\u001b[0m\u001b[1;33m\u001b[0m\u001b[1;33m\u001b[0m\u001b[0m\n\u001b[0m",
      "\u001b[1;31mNameError\u001b[0m: name 'block' is not defined"
     ]
    }
   ],
   "source": [
    "block"
   ]
  },
  {
   "cell_type": "code",
   "execution_count": null,
   "metadata": {},
   "outputs": [],
   "source": [
    "with open(\"syn_nar_texts/syn_txt_%d.json\" % (nar_count), 'w') as f:\n",
    "    # indent=2 is not needed but makes the file human-readable \n",
    "    # if the data is nested\n",
    "    json.dump(inputDataText, f, indent=2) "
   ]
  },
  {
   "cell_type": "code",
   "execution_count": null,
   "metadata": {},
   "outputs": [],
   "source": [
    "ground_truth_sums = []\n",
    "ground_truth_sums.append(ground_truth[0])\n",
    "for i in range(1,len(ground_truth)-1):\n",
    "    ground_truth_sums.append(int(ground_truth_sums[i-1]+ground_truth[i]))\n",
    "print(ground_truth)\n",
    "print(ground_truth_sums)\n",
    "\n",
    "np.save(\"syn_nar_texts/syn_narr_gt_%d.npy\" % (nar_count),ground_truth_sums)\n",
    "np.save(\"syn_nar_texts/syn_narr_%d.npy\" % (nar_count),inputDataTesting)"
   ]
  },
  {
   "cell_type": "code",
   "execution_count": null,
   "metadata": {},
   "outputs": [],
   "source": [
    "print(inputDataTesting.shape)\n",
    "print(len(inputDataText))"
   ]
  },
  {
   "cell_type": "code",
   "execution_count": null,
   "metadata": {},
   "outputs": [],
   "source": [
    "in_small = np.load('C:/Users/PeterDell/Google Drive/GoogleWIP/People/Uchida/PaperMethods/UchidaPrograms/in_small.npy')\n",
    "out_small = np.load('C:/Users/PeterDell/Google Drive/GoogleWIP/People/Uchida/PaperMethods/UchidaPrograms/out_small.npy')\n",
    "\n",
    "temp_W=np.zeros([1000,1000])"
   ]
  },
  {
   "cell_type": "code",
   "execution_count": null,
   "metadata": {},
   "outputs": [],
   "source": [
    "#to shuffle or notto suffle!\n",
    "numNode = 1000\n",
    "do_shuffle = False\n",
    "if do_shuffle:\n",
    "    random.shuffle(inputDataTesting)\n",
    "\n",
    "for res_seed in range(1):\n",
    "# set the seed\n",
    "    np.random.seed(res_seed)\n",
    "\n",
    "    # set up the reservoir\n",
    "    # leakingRate=0.2 changing too fast, mutliple with 0.05; changed\n",
    "    esn = PredictionESN(n_input=vectorDim, n_output=vectorDim, n_reservoir=numNode, leakingRate=leak_rate, regressionParameters=[1e-2], solver=\"lsqr\", feedback=False)\n",
    "\n",
    "    # train the reervoir with a new seed\n",
    "    esn.fit(in_small, out_small, transientTime=\"Auto\", verbose=1)\n",
    "    \n",
    "\n",
    "\n",
    "    # modify the reservoir topology for input\n",
    "    if mod_input:\n",
    "        for i in range(700):\n",
    "            for j in range(101):\n",
    "                esn._WInput[i+300,j] = 0\n",
    "        esn._WInput=esn._WInput*5\n",
    "\n",
    "    #radical _W modification\n",
    "    if mod_topo:\n",
    "        for i in range(1000):\n",
    "            for j in range(1000):\n",
    "                temp_W[i,j] = esn._W[i,j]\n",
    "        for i in range(1000):\n",
    "            for j in range(1000):\n",
    "                esn._W[i,j]=0\n",
    "        for i in range(esn._W.shape[0]):\n",
    "            for j in range(esn._W.shape[1]):\n",
    "                if abs(i-j) <= breadth:\n",
    "                    esn._W[i,j] = ((breadth-abs(i-j))/breadth)**expon*temp_W[i,j]* (1 + i * gradient)*gain\n",
    "    if radical:\n",
    "        for i in range(100,200):\n",
    "            for j in range(800,900):\n",
    "                esn._W[j,i] = temp_W[j,i]*grad2\n",
    "\n",
    "    if radical_bis:\n",
    "        for i in range(100,200):\n",
    "            for j in range(800,900):\n",
    "                esn._W[i,j] = temp_W[j,i]*grad2\n",
    "\n",
    "\n",
    "    #run the reservoir\n",
    "    reservoirStatesBuffer = np.empty((0,numNode))\n",
    "    prediction,reservoirStatesBuffer  = esn.predict(inputDataTesting)\n",
    "    reservoirStatesBuffer = reservoirStatesBuffer.T\n",
    "    print(reservoirStatesBuffer.shape)\n",
    "    reservoirStatesBuffer = reservoirStatesBuffer[:,101:]\n",
    "    print(reservoirStatesBuffer.shape)\n",
    "    print(prediction.shape)"
   ]
  },
  {
   "cell_type": "code",
   "execution_count": null,
   "metadata": {},
   "outputs": [],
   "source": [
    "print(inputDataText)"
   ]
  },
  {
   "cell_type": "code",
   "execution_count": null,
   "metadata": {},
   "outputs": [],
   "source": [
    "numNode=1000\n",
    "for j in range(numNode):\n",
    "    mean = reservoirStatesBuffer[:,j].mean()\n",
    "    if abs(mean) > 0.001:\n",
    "        reservoirStatesBuffer[:,j] = reservoirStatesBuffer[:,j]/mean"
   ]
  },
  {
   "cell_type": "code",
   "execution_count": null,
   "metadata": {},
   "outputs": [],
   "source": [
    "print(reservoirStatesBuffer.shape)"
   ]
  },
  {
   "cell_type": "code",
   "execution_count": null,
   "metadata": {},
   "outputs": [],
   "source": [
    "fig= plt.figure(figsize=(10,8))\n",
    "sns.heatmap(np.corrcoef(reservoirStatesBuffer[:,:]),cmap='viridis')#sns.heatmap(sim_matrix, square=True)\n",
    "for i in ground_truth_sums:\n",
    "    plt.plot(i, i,marker=\"o\", markersize=8, markeredgecolor=\"red\", markerfacecolor=\"red\")\n"
   ]
  },
  {
   "cell_type": "code",
   "execution_count": null,
   "metadata": {},
   "outputs": [],
   "source": [
    "# set the similarity matrix\n",
    "sim_matrix1 = np.empty([len(reservoirStatesBuffer),len(reservoirStatesBuffer)])\n",
    "       \n",
    "print(len(reservoirStatesBuffer[1]))\n",
    "\n",
    "# calculate the cosines in the similarity matrix\n",
    "for i in range(len(reservoirStatesBuffer)):\n",
    "    for j in range(len(reservoirStatesBuffer)):\n",
    "        sim_matrix1[i,j] = cos_sim(reservoirStatesBuffer[i],reservoirStatesBuffer[j])\n"
   ]
  },
  {
   "cell_type": "code",
   "execution_count": null,
   "metadata": {},
   "outputs": [],
   "source": [
    "fig= plt.figure(figsize=(10,9))\n",
    "sns.heatmap((sim_matrix1[:300,:300]),  \n",
    "            cmap='gist_rainbow', vmin=0, vmax=1)\n"
   ]
  },
  {
   "cell_type": "code",
   "execution_count": null,
   "metadata": {},
   "outputs": [],
   "source": []
  }
 ],
 "metadata": {
  "kernelspec": {
   "display_name": "Python 3",
   "language": "python",
   "name": "python3"
  },
  "language_info": {
   "codemirror_mode": {
    "name": "ipython",
    "version": 3
   },
   "file_extension": ".py",
   "mimetype": "text/x-python",
   "name": "python",
   "nbconvert_exporter": "python",
   "pygments_lexer": "ipython3",
   "version": "3.7.6"
  }
 },
 "nbformat": 4,
 "nbformat_minor": 1
}
